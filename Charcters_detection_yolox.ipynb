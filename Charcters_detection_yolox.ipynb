{
  "nbformat": 4,
  "nbformat_minor": 0,
  "metadata": {
    "colab": {
      "provenance": [],
      "authorship_tag": "ABX9TyNXclHToztckDxVAmZqlBRt",
      "include_colab_link": true
    },
    "kernelspec": {
      "name": "python3",
      "display_name": "Python 3"
    },
    "language_info": {
      "name": "python"
    }
  },
  "cells": [
    {
      "cell_type": "markdown",
      "metadata": {
        "id": "view-in-github",
        "colab_type": "text"
      },
      "source": [
        "<a href=\"https://colab.research.google.com/github/yallavaibhav/Comic-AudioBooks/blob/vaibhav/Charcters_detection_yolox.ipynb\" target=\"_parent\"><img src=\"https://colab.research.google.com/assets/colab-badge.svg\" alt=\"Open In Colab\"/></a>"
      ]
    },
    {
      "cell_type": "code",
      "source": [
        "import os\n",
        "import cv2 as cv\n",
        "import pandas as pd\n",
        "import matplotlib.pyplot as plt\n",
        "import numpy as np"
      ],
      "metadata": {
        "id": "1uvGS00FuT6f"
      },
      "execution_count": 7,
      "outputs": []
    },
    {
      "cell_type": "code",
      "execution_count": 1,
      "metadata": {
        "colab": {
          "base_uri": "https://localhost:8080/"
        },
        "id": "1U2wI0E6rIVG",
        "outputId": "c6876ea9-1634-4479-a44d-23ab5be7edfe"
      },
      "outputs": [
        {
          "output_type": "stream",
          "name": "stderr",
          "text": [
            "YOLOv5 🚀 v7.0-134-g23c4923 Python-3.9.16 torch-2.0.0+cu118 CPU\n"
          ]
        },
        {
          "output_type": "stream",
          "name": "stdout",
          "text": [
            "Setup complete ✅ (2 CPUs, 12.7 GB RAM, 26.2/107.7 GB disk)\n"
          ]
        }
      ],
      "source": [
        "!git clone https://github.com/ultralytics/yolov5  # clone\n",
        "%cd yolov5\n",
        "%pip install -qr requirements.txt  # install\n",
        "\n",
        "import torch\n",
        "import utils\n",
        "display = utils.notebook_init()  # checks"
      ]
    },
    {
      "cell_type": "code",
      "source": [
        "!python detect.py --save-txt --source /content/Venomnibus-v01-0006_jpg.rf.85d0de455b918337d0b360014e39b800.jpg --weights /content/best_char.pt\n"
      ],
      "metadata": {
        "colab": {
          "base_uri": "https://localhost:8080/"
        },
        "id": "C_vWaxV0rg4D",
        "outputId": "a3391c7c-2c3d-45ef-f351-0fe078bb8e33"
      },
      "execution_count": 10,
      "outputs": [
        {
          "output_type": "stream",
          "name": "stdout",
          "text": [
            "\u001b[34m\u001b[1mdetect: \u001b[0mweights=['/content/best_char.pt'], source=/content/Venomnibus-v01-0006_jpg.rf.85d0de455b918337d0b360014e39b800.jpg, data=data/coco128.yaml, imgsz=[640, 640], conf_thres=0.25, iou_thres=0.45, max_det=1000, device=, view_img=False, save_txt=True, save_conf=False, save_crop=False, nosave=False, classes=None, agnostic_nms=False, augment=False, visualize=False, update=False, project=runs/detect, name=exp, exist_ok=False, line_thickness=3, hide_labels=False, hide_conf=False, half=False, dnn=False, vid_stride=1\n",
            "YOLOv5 🚀 v7.0-134-g23c4923 Python-3.9.16 torch-2.0.0+cu118 CPU\n",
            "\n",
            "Fusing layers... \n",
            "Model summary: 322 layers, 86644444 parameters, 0 gradients, 205.3 GFLOPs\n",
            "1 [[tensor(1.), tensor(502.), tensor(165.), tensor(640.)], [tensor(552.), tensor(461.), tensor(618.), tensor(548.)], [tensor(13.), tensor(59.), tensor(124.), tensor(177.)], [tensor(317.), tensor(516.), tensor(406.), tensor(617.)], [tensor(324.), tensor(389.), tensor(549.), tensor(622.)], [tensor(377.), tensor(321.), tensor(459.), tensor(375.)], [tensor(1.), tensor(219.), tensor(140.), tensor(401.)], [tensor(255.), tensor(75.), tensor(494.), tensor(181.)], [tensor(102.), tensor(277.), tensor(274.), tensor(502.)], [tensor(304.), tensor(194.), tensor(425.), tensor(333.)]]\n",
            "10\n",
            "2 [[tensor(13.), tensor(59.), tensor(124.), tensor(177.)], [tensor(255.), tensor(75.), tensor(494.), tensor(181.)], [tensor(1.), tensor(219.), tensor(140.), tensor(401.)], [tensor(102.), tensor(277.), tensor(274.), tensor(502.)], [tensor(304.), tensor(194.), tensor(425.), tensor(333.)], [tensor(324.), tensor(389.), tensor(549.), tensor(622.)], [tensor(377.), tensor(321.), tensor(459.), tensor(375.)], [tensor(1.), tensor(502.), tensor(165.), tensor(640.)], [tensor(317.), tensor(516.), tensor(406.), tensor(617.)], [tensor(552.), tensor(461.), tensor(618.), tensor(548.)]]\n",
            "image 1/1 /content/Venomnibus-v01-0006_jpg.rf.85d0de455b918337d0b360014e39b800.jpg: 640x640 4 mans, 4 venoms, 2 womans, 4759.3ms\n",
            "Speed: 8.1ms pre-process, 4759.3ms inference, 2.7ms NMS per image at shape (1, 3, 640, 640)\n",
            "Results saved to \u001b[1mruns/detect/exp2\u001b[0m\n",
            "1 labels saved to runs/detect/exp2/labels\n"
          ]
        }
      ]
    },
    {
      "cell_type": "code",
      "source": [
        "def sorting_speech_balloons(df,panel_number):\n",
        "  sx = df.values.tolist()\n",
        "  sx.sort(key=lambda x:x[2])\n",
        "  #print(sx)\n",
        "  x = []\n",
        "  y = []\n",
        "  k = 0\n",
        "  for i in range(len(sx)):\n",
        "    if sx[i][2] < sx[k][2]+0.1:\n",
        "      x.append(sx[i])\n",
        "      # print(x)\n",
        "    else:\n",
        "      x.sort(key=lambda x:x[1])\n",
        "      for j in range(len(x)):\n",
        "        y.append(x[j])\n",
        "      # print(y)\n",
        "      x = []\n",
        "      # print(x)\n",
        "      x.append(sx[i])\n",
        "      k=i\n",
        "  x.sort(key=lambda x:x[1])\n",
        "  print(\"last\",x)\n",
        "  for p in range(len(x)):\n",
        "    y.append(x[p])\n",
        "  dff = pd.DataFrame(y)\n",
        "  dff.columns = [\"Class\",\"X_center\", \"y_center\", \"height\", \"width\"]\n",
        "  dff.insert(0,'Panel_no',panel_number)\n",
        "  return dff"
      ],
      "metadata": {
        "id": "7xduEb2rtXdj"
      },
      "execution_count": 11,
      "outputs": []
    },
    {
      "cell_type": "code",
      "source": [
        "speech_baloons_paths_main = []\n",
        "temp = []\n",
        "panel_number = 0\n",
        "dataframe = pd.DataFrame(columns = ['Panel_no',\t'Class',\t'X_center',\t'y_center',\t'height',\t'width'])\n",
        "df = pd.read_csv('/content/yolov5/runs/detect/exp2/labels/Venomnibus-v01-0006_jpg.rf.85d0de455b918337d0b360014e39b800.txt', header = None, sep=\" \")\n",
        "panel_number += 1 \n",
        "dff = sorting_speech_balloons(df,panel_number)\n",
        "      # print(dff)\n",
        "dataframe = dataframe.append(dff, ignore_index=True)"
      ],
      "metadata": {
        "colab": {
          "base_uri": "https://localhost:8080/"
        },
        "id": "vEdUnuIquCSY",
        "outputId": "d635c8ce-e529-4b27-a1d3-e06eec4cc705"
      },
      "execution_count": 12,
      "outputs": [
        {
          "output_type": "stream",
          "name": "stdout",
          "text": [
            "last [[70.0, 0.129688, 0.892187, 0.25625, 0.215625]]\n"
          ]
        },
        {
          "output_type": "stream",
          "name": "stderr",
          "text": [
            "<ipython-input-12-3bba1dfe35da>:9: FutureWarning: The frame.append method is deprecated and will be removed from pandas in a future version. Use pandas.concat instead.\n",
            "  dataframe = dataframe.append(dff, ignore_index=True)\n"
          ]
        }
      ]
    },
    {
      "cell_type": "code",
      "source": [
        "dataframe"
      ],
      "metadata": {
        "colab": {
          "base_uri": "https://localhost:8080/",
          "height": 363
        },
        "id": "f8bRdMwwu3dH",
        "outputId": "38d31b88-e705-487b-b567-141f9ed85890"
      },
      "execution_count": 13,
      "outputs": [
        {
          "output_type": "execute_result",
          "data": {
            "text/plain": [
              "  Panel_no  Class  X_center  y_center    height     width\n",
              "0        1   65.0  0.107031  0.184375  0.173438  0.184375\n",
              "1        1   69.0  0.585156  0.200000  0.373437  0.165625\n",
              "2        1   65.0  0.110156  0.484375  0.217187  0.284375\n",
              "3        1   65.0  0.569531  0.411719  0.189063  0.217187\n",
              "4        1   69.0  0.293750  0.608594  0.268750  0.351562\n",
              "5        1   69.0  0.653125  0.543750  0.128125  0.084375\n",
              "6        1   65.0  0.564844  0.885156  0.139062  0.157813\n",
              "7        1   69.0  0.682031  0.789844  0.351562  0.364062\n",
              "8        1   70.0  0.914062  0.788281  0.103125  0.135937\n",
              "9        1   70.0  0.129688  0.892187  0.256250  0.215625"
            ],
            "text/html": [
              "\n",
              "  <div id=\"df-9071c3d9-9da2-4dd8-a296-c0f36f93b74b\">\n",
              "    <div class=\"colab-df-container\">\n",
              "      <div>\n",
              "<style scoped>\n",
              "    .dataframe tbody tr th:only-of-type {\n",
              "        vertical-align: middle;\n",
              "    }\n",
              "\n",
              "    .dataframe tbody tr th {\n",
              "        vertical-align: top;\n",
              "    }\n",
              "\n",
              "    .dataframe thead th {\n",
              "        text-align: right;\n",
              "    }\n",
              "</style>\n",
              "<table border=\"1\" class=\"dataframe\">\n",
              "  <thead>\n",
              "    <tr style=\"text-align: right;\">\n",
              "      <th></th>\n",
              "      <th>Panel_no</th>\n",
              "      <th>Class</th>\n",
              "      <th>X_center</th>\n",
              "      <th>y_center</th>\n",
              "      <th>height</th>\n",
              "      <th>width</th>\n",
              "    </tr>\n",
              "  </thead>\n",
              "  <tbody>\n",
              "    <tr>\n",
              "      <th>0</th>\n",
              "      <td>1</td>\n",
              "      <td>65.0</td>\n",
              "      <td>0.107031</td>\n",
              "      <td>0.184375</td>\n",
              "      <td>0.173438</td>\n",
              "      <td>0.184375</td>\n",
              "    </tr>\n",
              "    <tr>\n",
              "      <th>1</th>\n",
              "      <td>1</td>\n",
              "      <td>69.0</td>\n",
              "      <td>0.585156</td>\n",
              "      <td>0.200000</td>\n",
              "      <td>0.373437</td>\n",
              "      <td>0.165625</td>\n",
              "    </tr>\n",
              "    <tr>\n",
              "      <th>2</th>\n",
              "      <td>1</td>\n",
              "      <td>65.0</td>\n",
              "      <td>0.110156</td>\n",
              "      <td>0.484375</td>\n",
              "      <td>0.217187</td>\n",
              "      <td>0.284375</td>\n",
              "    </tr>\n",
              "    <tr>\n",
              "      <th>3</th>\n",
              "      <td>1</td>\n",
              "      <td>65.0</td>\n",
              "      <td>0.569531</td>\n",
              "      <td>0.411719</td>\n",
              "      <td>0.189063</td>\n",
              "      <td>0.217187</td>\n",
              "    </tr>\n",
              "    <tr>\n",
              "      <th>4</th>\n",
              "      <td>1</td>\n",
              "      <td>69.0</td>\n",
              "      <td>0.293750</td>\n",
              "      <td>0.608594</td>\n",
              "      <td>0.268750</td>\n",
              "      <td>0.351562</td>\n",
              "    </tr>\n",
              "    <tr>\n",
              "      <th>5</th>\n",
              "      <td>1</td>\n",
              "      <td>69.0</td>\n",
              "      <td>0.653125</td>\n",
              "      <td>0.543750</td>\n",
              "      <td>0.128125</td>\n",
              "      <td>0.084375</td>\n",
              "    </tr>\n",
              "    <tr>\n",
              "      <th>6</th>\n",
              "      <td>1</td>\n",
              "      <td>65.0</td>\n",
              "      <td>0.564844</td>\n",
              "      <td>0.885156</td>\n",
              "      <td>0.139062</td>\n",
              "      <td>0.157813</td>\n",
              "    </tr>\n",
              "    <tr>\n",
              "      <th>7</th>\n",
              "      <td>1</td>\n",
              "      <td>69.0</td>\n",
              "      <td>0.682031</td>\n",
              "      <td>0.789844</td>\n",
              "      <td>0.351562</td>\n",
              "      <td>0.364062</td>\n",
              "    </tr>\n",
              "    <tr>\n",
              "      <th>8</th>\n",
              "      <td>1</td>\n",
              "      <td>70.0</td>\n",
              "      <td>0.914062</td>\n",
              "      <td>0.788281</td>\n",
              "      <td>0.103125</td>\n",
              "      <td>0.135937</td>\n",
              "    </tr>\n",
              "    <tr>\n",
              "      <th>9</th>\n",
              "      <td>1</td>\n",
              "      <td>70.0</td>\n",
              "      <td>0.129688</td>\n",
              "      <td>0.892187</td>\n",
              "      <td>0.256250</td>\n",
              "      <td>0.215625</td>\n",
              "    </tr>\n",
              "  </tbody>\n",
              "</table>\n",
              "</div>\n",
              "      <button class=\"colab-df-convert\" onclick=\"convertToInteractive('df-9071c3d9-9da2-4dd8-a296-c0f36f93b74b')\"\n",
              "              title=\"Convert this dataframe to an interactive table.\"\n",
              "              style=\"display:none;\">\n",
              "        \n",
              "  <svg xmlns=\"http://www.w3.org/2000/svg\" height=\"24px\"viewBox=\"0 0 24 24\"\n",
              "       width=\"24px\">\n",
              "    <path d=\"M0 0h24v24H0V0z\" fill=\"none\"/>\n",
              "    <path d=\"M18.56 5.44l.94 2.06.94-2.06 2.06-.94-2.06-.94-.94-2.06-.94 2.06-2.06.94zm-11 1L8.5 8.5l.94-2.06 2.06-.94-2.06-.94L8.5 2.5l-.94 2.06-2.06.94zm10 10l.94 2.06.94-2.06 2.06-.94-2.06-.94-.94-2.06-.94 2.06-2.06.94z\"/><path d=\"M17.41 7.96l-1.37-1.37c-.4-.4-.92-.59-1.43-.59-.52 0-1.04.2-1.43.59L10.3 9.45l-7.72 7.72c-.78.78-.78 2.05 0 2.83L4 21.41c.39.39.9.59 1.41.59.51 0 1.02-.2 1.41-.59l7.78-7.78 2.81-2.81c.8-.78.8-2.07 0-2.86zM5.41 20L4 18.59l7.72-7.72 1.47 1.35L5.41 20z\"/>\n",
              "  </svg>\n",
              "      </button>\n",
              "      \n",
              "  <style>\n",
              "    .colab-df-container {\n",
              "      display:flex;\n",
              "      flex-wrap:wrap;\n",
              "      gap: 12px;\n",
              "    }\n",
              "\n",
              "    .colab-df-convert {\n",
              "      background-color: #E8F0FE;\n",
              "      border: none;\n",
              "      border-radius: 50%;\n",
              "      cursor: pointer;\n",
              "      display: none;\n",
              "      fill: #1967D2;\n",
              "      height: 32px;\n",
              "      padding: 0 0 0 0;\n",
              "      width: 32px;\n",
              "    }\n",
              "\n",
              "    .colab-df-convert:hover {\n",
              "      background-color: #E2EBFA;\n",
              "      box-shadow: 0px 1px 2px rgba(60, 64, 67, 0.3), 0px 1px 3px 1px rgba(60, 64, 67, 0.15);\n",
              "      fill: #174EA6;\n",
              "    }\n",
              "\n",
              "    [theme=dark] .colab-df-convert {\n",
              "      background-color: #3B4455;\n",
              "      fill: #D2E3FC;\n",
              "    }\n",
              "\n",
              "    [theme=dark] .colab-df-convert:hover {\n",
              "      background-color: #434B5C;\n",
              "      box-shadow: 0px 1px 3px 1px rgba(0, 0, 0, 0.15);\n",
              "      filter: drop-shadow(0px 1px 2px rgba(0, 0, 0, 0.3));\n",
              "      fill: #FFFFFF;\n",
              "    }\n",
              "  </style>\n",
              "\n",
              "      <script>\n",
              "        const buttonEl =\n",
              "          document.querySelector('#df-9071c3d9-9da2-4dd8-a296-c0f36f93b74b button.colab-df-convert');\n",
              "        buttonEl.style.display =\n",
              "          google.colab.kernel.accessAllowed ? 'block' : 'none';\n",
              "\n",
              "        async function convertToInteractive(key) {\n",
              "          const element = document.querySelector('#df-9071c3d9-9da2-4dd8-a296-c0f36f93b74b');\n",
              "          const dataTable =\n",
              "            await google.colab.kernel.invokeFunction('convertToInteractive',\n",
              "                                                     [key], {});\n",
              "          if (!dataTable) return;\n",
              "\n",
              "          const docLinkHtml = 'Like what you see? Visit the ' +\n",
              "            '<a target=\"_blank\" href=https://colab.research.google.com/notebooks/data_table.ipynb>data table notebook</a>'\n",
              "            + ' to learn more about interactive tables.';\n",
              "          element.innerHTML = '';\n",
              "          dataTable['output_type'] = 'display_data';\n",
              "          await google.colab.output.renderOutput(dataTable, element);\n",
              "          const docLink = document.createElement('div');\n",
              "          docLink.innerHTML = docLinkHtml;\n",
              "          element.appendChild(docLink);\n",
              "        }\n",
              "      </script>\n",
              "    </div>\n",
              "  </div>\n",
              "  "
            ]
          },
          "metadata": {},
          "execution_count": 13
        }
      ]
    },
    {
      "cell_type": "code",
      "source": [],
      "metadata": {
        "id": "Vx4BTGd2wFx-"
      },
      "execution_count": null,
      "outputs": []
    }
  ]
}