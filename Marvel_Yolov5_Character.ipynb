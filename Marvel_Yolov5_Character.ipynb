{
  "cells": [
    {
      "cell_type": "markdown",
      "metadata": {
        "id": "view-in-github",
        "colab_type": "text"
      },
      "source": [
        "<a href=\"https://colab.research.google.com/github/yallavaibhav/Comic-AudioBooks/blob/vaibhav/Marvel_Yolov5_Character.ipynb\" target=\"_parent\"><img src=\"https://colab.research.google.com/assets/colab-badge.svg\" alt=\"Open In Colab\"/></a>"
      ]
    },
    {
      "cell_type": "code",
      "execution_count": null,
      "metadata": {
        "id": "AVmDFj-TZOpH"
      },
      "outputs": [],
      "source": [
        "# pip install tensorflow\n",
        "# pip install tensorboard\n",
        "# pip install torch"
      ]
    },
    {
      "cell_type": "code",
      "execution_count": null,
      "metadata": {
        "colab": {
          "base_uri": "https://localhost:8080/"
        },
        "id": "Muk-ToWpZpxi",
        "outputId": "27e1ac90-9564-4639-d52f-dffb59304c9e"
      },
      "outputs": [
        {
          "output_type": "stream",
          "name": "stderr",
          "text": [
            "YOLOv5 🚀 v7.0-116-g5c91dae Python-3.8.10 torch-1.13.1+cu116 CUDA:0 (Tesla T4, 15102MiB)\n"
          ]
        },
        {
          "output_type": "stream",
          "name": "stdout",
          "text": [
            "Setup complete ✅ (2 CPUs, 12.7 GB RAM, 25.8/78.2 GB disk)\n"
          ]
        }
      ],
      "source": [
        "!git clone https://github.com/ultralytics/yolov5  # clone\n",
        "%cd yolov5\n",
        "%pip install -qr requirements.txt  # install\n",
        "\n",
        "import torch\n",
        "import utils\n",
        "display = utils.notebook_init()  # checks"
      ]
    },
    {
      "cell_type": "code",
      "execution_count": null,
      "metadata": {
        "id": "PPPQ6F0_aLJj"
      },
      "outputs": [],
      "source": [
        "!unzip -q ../Charcters.zip -d ../"
      ]
    },
    {
      "cell_type": "code",
      "execution_count": null,
      "metadata": {
        "colab": {
          "base_uri": "https://localhost:8080/"
        },
        "id": "sl-Ctb-nag-r",
        "outputId": "6be4a8e5-9066-4ef7-8937-fb754197dc10"
      },
      "outputs": [
        {
          "output_type": "stream",
          "name": "stdout",
          "text": [
            "\u001b[34m\u001b[1mtrain: \u001b[0mweights=yolov5m.pt, cfg=, data=custom.yaml, hyp=data/hyps/hyp.scratch-low.yaml, epochs=40, batch_size=16, imgsz=640, rect=False, resume=False, nosave=False, noval=False, noautoanchor=False, noplots=False, evolve=None, bucket=, cache=ram, image_weights=False, device=, multi_scale=False, single_cls=False, optimizer=SGD, sync_bn=False, workers=8, project=runs/train, name=exp, exist_ok=False, quad=False, cos_lr=False, label_smoothing=0.0, patience=100, freeze=[0], save_period=-1, seed=0, local_rank=-1, entity=None, upload_dataset=False, bbox_interval=-1, artifact_alias=latest\n",
            "\u001b[34m\u001b[1mgithub: \u001b[0mup to date with https://github.com/ultralytics/yolov5 ✅\n",
            "YOLOv5 🚀 v7.0-116-g5c91dae Python-3.8.10 torch-1.13.1+cu116 CUDA:0 (Tesla T4, 15102MiB)\n",
            "\n",
            "\u001b[34m\u001b[1mhyperparameters: \u001b[0mlr0=0.01, lrf=0.01, momentum=0.937, weight_decay=0.0005, warmup_epochs=3.0, warmup_momentum=0.8, warmup_bias_lr=0.1, box=0.05, cls=0.5, cls_pw=1.0, obj=1.0, obj_pw=1.0, iou_t=0.2, anchor_t=4.0, fl_gamma=0.0, hsv_h=0.015, hsv_s=0.7, hsv_v=0.4, degrees=0.0, translate=0.1, scale=0.5, shear=0.0, perspective=0.0, flipud=0.0, fliplr=0.5, mosaic=1.0, mixup=0.0, copy_paste=0.0\n",
            "\u001b[34m\u001b[1mClearML: \u001b[0mrun 'pip install clearml' to automatically track, visualize and remotely train YOLOv5 🚀 in ClearML\n",
            "\u001b[34m\u001b[1mComet: \u001b[0mrun 'pip install comet_ml' to automatically track and visualize YOLOv5 🚀 runs in Comet\n",
            "\u001b[34m\u001b[1mTensorBoard: \u001b[0mStart with 'tensorboard --logdir runs/train', view at http://localhost:6006/\n",
            "2023-03-01 20:20:51.129536: I tensorflow/core/platform/cpu_feature_guard.cc:193] This TensorFlow binary is optimized with oneAPI Deep Neural Network Library (oneDNN) to use the following CPU instructions in performance-critical operations:  AVX2 AVX512F FMA\n",
            "To enable them in other operations, rebuild TensorFlow with the appropriate compiler flags.\n",
            "2023-03-01 20:20:52.001822: W tensorflow/compiler/xla/stream_executor/platform/default/dso_loader.cc:64] Could not load dynamic library 'libnvinfer.so.7'; dlerror: libnvinfer.so.7: cannot open shared object file: No such file or directory; LD_LIBRARY_PATH: /usr/local/lib/python3.8/dist-packages/cv2/../../lib64:/usr/local/lib/python3.8/dist-packages/cv2/../../lib64:/usr/lib64-nvidia\n",
            "2023-03-01 20:20:52.001949: W tensorflow/compiler/xla/stream_executor/platform/default/dso_loader.cc:64] Could not load dynamic library 'libnvinfer_plugin.so.7'; dlerror: libnvinfer_plugin.so.7: cannot open shared object file: No such file or directory; LD_LIBRARY_PATH: /usr/local/lib/python3.8/dist-packages/cv2/../../lib64:/usr/local/lib/python3.8/dist-packages/cv2/../../lib64:/usr/lib64-nvidia\n",
            "2023-03-01 20:20:52.001971: W tensorflow/compiler/tf2tensorrt/utils/py_utils.cc:38] TF-TRT Warning: Cannot dlopen some TensorRT libraries. If you would like to use Nvidia GPU with TensorRT, please make sure the missing libraries mentioned above are installed properly.\n",
            "Downloading https://github.com/ultralytics/yolov5/releases/download/v7.0/yolov5m.pt to yolov5m.pt...\n",
            "100% 40.8M/40.8M [00:04<00:00, 9.83MB/s]\n",
            "\n",
            "Overriding model.yaml nc=80 with nc=61\n",
            "\n",
            "                 from  n    params  module                                  arguments                     \n",
            "  0                -1  1      5280  models.common.Conv                      [3, 48, 6, 2, 2]              \n",
            "  1                -1  1     41664  models.common.Conv                      [48, 96, 3, 2]                \n",
            "  2                -1  2     65280  models.common.C3                        [96, 96, 2]                   \n",
            "  3                -1  1    166272  models.common.Conv                      [96, 192, 3, 2]               \n",
            "  4                -1  4    444672  models.common.C3                        [192, 192, 4]                 \n",
            "  5                -1  1    664320  models.common.Conv                      [192, 384, 3, 2]              \n",
            "  6                -1  6   2512896  models.common.C3                        [384, 384, 6]                 \n",
            "  7                -1  1   2655744  models.common.Conv                      [384, 768, 3, 2]              \n",
            "  8                -1  2   4134912  models.common.C3                        [768, 768, 2]                 \n",
            "  9                -1  1   1476864  models.common.SPPF                      [768, 768, 5]                 \n",
            " 10                -1  1    295680  models.common.Conv                      [768, 384, 1, 1]              \n",
            " 11                -1  1         0  torch.nn.modules.upsampling.Upsample    [None, 2, 'nearest']          \n",
            " 12           [-1, 6]  1         0  models.common.Concat                    [1]                           \n",
            " 13                -1  2   1182720  models.common.C3                        [768, 384, 2, False]          \n",
            " 14                -1  1     74112  models.common.Conv                      [384, 192, 1, 1]              \n",
            " 15                -1  1         0  torch.nn.modules.upsampling.Upsample    [None, 2, 'nearest']          \n",
            " 16           [-1, 4]  1         0  models.common.Concat                    [1]                           \n",
            " 17                -1  2    296448  models.common.C3                        [384, 192, 2, False]          \n",
            " 18                -1  1    332160  models.common.Conv                      [192, 192, 3, 2]              \n",
            " 19          [-1, 14]  1         0  models.common.Concat                    [1]                           \n",
            " 20                -1  2   1035264  models.common.C3                        [384, 384, 2, False]          \n",
            " 21                -1  1   1327872  models.common.Conv                      [384, 384, 3, 2]              \n",
            " 22          [-1, 10]  1         0  models.common.Concat                    [1]                           \n",
            " 23                -1  2   4134912  models.common.C3                        [768, 768, 2, False]          \n",
            " 24      [17, 20, 23]  1    266706  models.yolo.Detect                      [61, [[10, 13, 16, 30, 33, 23], [30, 61, 62, 45, 59, 119], [116, 90, 156, 198, 373, 326]], [192, 384, 768]]\n",
            "Model summary: 291 layers, 21113778 parameters, 21113778 gradients, 49.0 GFLOPs\n",
            "\n",
            "Transferred 475/481 items from yolov5m.pt\n",
            "\u001b[34m\u001b[1mAMP: \u001b[0mchecks passed ✅\n",
            "\u001b[34m\u001b[1moptimizer:\u001b[0m SGD(lr=0.01) with parameter groups 79 weight(decay=0.0), 82 weight(decay=0.0005), 82 bias\n",
            "\u001b[34m\u001b[1malbumentations: \u001b[0mBlur(p=0.01, blur_limit=(3, 7)), MedianBlur(p=0.01, blur_limit=(3, 7)), ToGray(p=0.01), CLAHE(p=0.01, clip_limit=(1, 4.0), tile_grid_size=(8, 8))\n",
            "\u001b[34m\u001b[1mtrain: \u001b[0mScanning /content/Charcters/labels/train... 474 images, 0 backgrounds, 0 corrupt: 100% 474/474 [00:00<00:00, 1836.47it/s]\n",
            "\u001b[34m\u001b[1mtrain: \u001b[0mNew cache created: /content/Charcters/labels/train.cache\n",
            "\u001b[34m\u001b[1mtrain: \u001b[0mCaching images (0.5GB ram): 100% 474/474 [00:02<00:00, 175.62it/s]\n",
            "\u001b[34m\u001b[1mval: \u001b[0mScanning /content/Charcters/labels/valid... 32 images, 0 backgrounds, 0 corrupt: 100% 32/32 [00:00<00:00, 452.91it/s]\n",
            "\u001b[34m\u001b[1mval: \u001b[0mNew cache created: /content/Charcters/labels/valid.cache\n",
            "\u001b[34m\u001b[1mval: \u001b[0mCaching images (0.0GB ram): 100% 32/32 [00:00<00:00, 50.43it/s]\n",
            "\n",
            "\u001b[34m\u001b[1mAutoAnchor: \u001b[0m5.30 anchors/target, 1.000 Best Possible Recall (BPR). Current anchors are a good fit to dataset ✅\n",
            "Plotting labels to runs/train/exp3/labels.jpg... \n",
            "Image sizes 640 train, 640 val\n",
            "Using 2 dataloader workers\n",
            "Logging results to \u001b[1mruns/train/exp3\u001b[0m\n",
            "Starting training for 40 epochs...\n",
            "\n",
            "      Epoch    GPU_mem   box_loss   obj_loss   cls_loss  Instances       Size\n",
            "       0/39      6.18G     0.1013    0.09937     0.1001        205        640: 100% 30/30 [00:20<00:00,  1.48it/s]\n",
            "                 Class     Images  Instances          P          R      mAP50   mAP50-95: 100% 1/1 [00:01<00:00,  1.81s/it]\n",
            "                   all         32        336    0.00732       0.13    0.00756    0.00199\n",
            "\n",
            "      Epoch    GPU_mem   box_loss   obj_loss   cls_loss  Instances       Size\n",
            "       1/39      7.49G    0.07616     0.1026    0.09461        140        640: 100% 30/30 [00:12<00:00,  2.42it/s]\n",
            "                 Class     Images  Instances          P          R      mAP50   mAP50-95:   0% 0/1 [00:00<?, ?it/s]WARNING ⚠️ NMS time limit 2.100s exceeded\n",
            "                 Class     Images  Instances          P          R      mAP50   mAP50-95: 100% 1/1 [00:02<00:00,  2.49s/it]\n",
            "                   all         32        336    0.00686     0.0701     0.0124    0.00393\n",
            "\n",
            "      Epoch    GPU_mem   box_loss   obj_loss   cls_loss  Instances       Size\n",
            "       2/39      7.49G    0.07164    0.09327    0.08857        124        640: 100% 30/30 [00:12<00:00,  2.39it/s]\n",
            "                 Class     Images  Instances          P          R      mAP50   mAP50-95:   0% 0/1 [00:00<?, ?it/s]WARNING ⚠️ NMS time limit 2.100s exceeded\n",
            "                 Class     Images  Instances          P          R      mAP50   mAP50-95: 100% 1/1 [00:02<00:00,  2.54s/it]\n",
            "                   all         32        336    0.00607     0.0689    0.00724    0.00189\n",
            "\n",
            "      Epoch    GPU_mem   box_loss   obj_loss   cls_loss  Instances       Size\n",
            "       3/39      7.49G    0.06956    0.09195    0.08453        135        640: 100% 30/30 [00:12<00:00,  2.34it/s]\n",
            "                 Class     Images  Instances          P          R      mAP50   mAP50-95: 100% 1/1 [00:02<00:00,  2.37s/it]\n",
            "                   all         32        336    0.00951      0.163     0.0154    0.00478\n",
            "\n",
            "      Epoch    GPU_mem   box_loss   obj_loss   cls_loss  Instances       Size\n",
            "       4/39      7.49G    0.06337    0.09057    0.08327        132        640: 100% 30/30 [00:12<00:00,  2.36it/s]\n",
            "                 Class     Images  Instances          P          R      mAP50   mAP50-95:   0% 0/1 [00:00<?, ?it/s]WARNING ⚠️ NMS time limit 2.100s exceeded\n",
            "                 Class     Images  Instances          P          R      mAP50   mAP50-95: 100% 1/1 [00:02<00:00,  2.52s/it]\n",
            "                   all         32        336    0.00637      0.142     0.0123     0.0045\n",
            "\n",
            "      Epoch    GPU_mem   box_loss   obj_loss   cls_loss  Instances       Size\n",
            "       5/39      7.49G     0.0582    0.08694    0.08256        131        640: 100% 30/30 [00:12<00:00,  2.34it/s]\n",
            "                 Class     Images  Instances          P          R      mAP50   mAP50-95: 100% 1/1 [00:02<00:00,  2.02s/it]\n",
            "                   all         32        336     0.0132      0.347     0.0306     0.0123\n",
            "\n",
            "      Epoch    GPU_mem   box_loss   obj_loss   cls_loss  Instances       Size\n",
            "       6/39      7.49G     0.0537    0.08943     0.0816        120        640: 100% 30/30 [00:12<00:00,  2.33it/s]\n",
            "                 Class     Images  Instances          P          R      mAP50   mAP50-95: 100% 1/1 [00:02<00:00,  2.43s/it]\n",
            "                   all         32        336     0.0126      0.373     0.0304     0.0126\n",
            "\n",
            "      Epoch    GPU_mem   box_loss   obj_loss   cls_loss  Instances       Size\n",
            "       7/39      7.49G    0.05145    0.08873    0.08063        136        640: 100% 30/30 [00:13<00:00,  2.28it/s]\n",
            "                 Class     Images  Instances          P          R      mAP50   mAP50-95: 100% 1/1 [00:01<00:00,  1.84s/it]\n",
            "                   all         32        336     0.0138      0.397     0.0321     0.0134\n",
            "\n",
            "      Epoch    GPU_mem   box_loss   obj_loss   cls_loss  Instances       Size\n",
            "       8/39      7.49G      0.051    0.08658    0.08117        129        640: 100% 30/30 [00:13<00:00,  2.30it/s]\n",
            "                 Class     Images  Instances          P          R      mAP50   mAP50-95: 100% 1/1 [00:01<00:00,  1.67s/it]\n",
            "                   all         32        336     0.0145      0.395     0.0325     0.0144\n",
            "\n",
            "      Epoch    GPU_mem   box_loss   obj_loss   cls_loss  Instances       Size\n",
            "       9/39      7.49G    0.04862     0.0813    0.07846        131        640: 100% 30/30 [00:13<00:00,  2.30it/s]\n",
            "                 Class     Images  Instances          P          R      mAP50   mAP50-95: 100% 1/1 [00:01<00:00,  1.43s/it]\n",
            "                   all         32        336     0.0154      0.418      0.039     0.0199\n",
            "\n",
            "      Epoch    GPU_mem   box_loss   obj_loss   cls_loss  Instances       Size\n",
            "      10/39      7.49G    0.04783    0.08367    0.07893        143        640: 100% 30/30 [00:12<00:00,  2.32it/s]\n",
            "                 Class     Images  Instances          P          R      mAP50   mAP50-95: 100% 1/1 [00:01<00:00,  1.42s/it]\n",
            "                   all         32        336     0.0158      0.439     0.0431     0.0186\n",
            "\n",
            "      Epoch    GPU_mem   box_loss   obj_loss   cls_loss  Instances       Size\n",
            "      11/39      7.49G    0.04619    0.08049    0.07749        118        640: 100% 30/30 [00:13<00:00,  2.17it/s]\n",
            "                 Class     Images  Instances          P          R      mAP50   mAP50-95: 100% 1/1 [00:01<00:00,  1.36s/it]\n",
            "                   all         32        336     0.0163      0.435     0.0442     0.0197\n",
            "\n",
            "      Epoch    GPU_mem   box_loss   obj_loss   cls_loss  Instances       Size\n",
            "      12/39      7.49G    0.04439    0.07702    0.07673        125        640: 100% 30/30 [00:12<00:00,  2.32it/s]\n",
            "                 Class     Images  Instances          P          R      mAP50   mAP50-95: 100% 1/1 [00:01<00:00,  1.47s/it]\n",
            "                   all         32        336     0.0159      0.418     0.0489     0.0223\n",
            "\n",
            "      Epoch    GPU_mem   box_loss   obj_loss   cls_loss  Instances       Size\n",
            "      13/39      7.49G    0.04353    0.07672    0.07425        157        640: 100% 30/30 [00:12<00:00,  2.34it/s]\n",
            "                 Class     Images  Instances          P          R      mAP50   mAP50-95: 100% 1/1 [00:01<00:00,  1.29s/it]\n",
            "                   all         32        336     0.0197      0.466     0.0455       0.02\n",
            "\n",
            "      Epoch    GPU_mem   box_loss   obj_loss   cls_loss  Instances       Size\n",
            "      14/39      7.49G      0.042    0.07684    0.07567        144        640: 100% 30/30 [00:12<00:00,  2.33it/s]\n",
            "                 Class     Images  Instances          P          R      mAP50   mAP50-95: 100% 1/1 [00:01<00:00,  1.16s/it]\n",
            "                   all         32        336     0.0172      0.437     0.0493     0.0216\n",
            "\n",
            "      Epoch    GPU_mem   box_loss   obj_loss   cls_loss  Instances       Size\n",
            "      15/39      7.49G    0.04107    0.07318    0.07446        136        640: 100% 30/30 [00:12<00:00,  2.32it/s]\n",
            "                 Class     Images  Instances          P          R      mAP50   mAP50-95: 100% 1/1 [00:01<00:00,  1.29s/it]\n",
            "                   all         32        336     0.0155      0.448     0.0453     0.0215\n",
            "\n",
            "      Epoch    GPU_mem   box_loss   obj_loss   cls_loss  Instances       Size\n",
            "      16/39      7.49G    0.04017    0.06964     0.0739        134        640: 100% 30/30 [00:12<00:00,  2.33it/s]\n",
            "                 Class     Images  Instances          P          R      mAP50   mAP50-95: 100% 1/1 [00:01<00:00,  1.35s/it]\n",
            "                   all         32        336     0.0148      0.403     0.0525     0.0233\n",
            "\n",
            "      Epoch    GPU_mem   box_loss   obj_loss   cls_loss  Instances       Size\n",
            "      17/39      7.49G    0.03975    0.07444     0.0732        141        640: 100% 30/30 [00:13<00:00,  2.29it/s]\n",
            "                 Class     Images  Instances          P          R      mAP50   mAP50-95: 100% 1/1 [00:01<00:00,  1.21s/it]\n",
            "                   all         32        336     0.0162      0.415     0.0551     0.0248\n",
            "\n",
            "      Epoch    GPU_mem   box_loss   obj_loss   cls_loss  Instances       Size\n",
            "      18/39      7.49G    0.03892    0.06908    0.07088         95        640: 100% 30/30 [00:12<00:00,  2.31it/s]\n",
            "                 Class     Images  Instances          P          R      mAP50   mAP50-95: 100% 1/1 [00:01<00:00,  1.30s/it]\n",
            "                   all         32        336       0.95     0.0378      0.054     0.0247\n",
            "\n",
            "      Epoch    GPU_mem   box_loss   obj_loss   cls_loss  Instances       Size\n",
            "      19/39      7.49G    0.03793    0.06817    0.06986        121        640: 100% 30/30 [00:13<00:00,  2.30it/s]\n",
            "                 Class     Images  Instances          P          R      mAP50   mAP50-95: 100% 1/1 [00:01<00:00,  1.27s/it]\n",
            "                   all         32        336     0.0179      0.456      0.057     0.0276\n",
            "\n",
            "      Epoch    GPU_mem   box_loss   obj_loss   cls_loss  Instances       Size\n",
            "      20/39      7.49G    0.03769    0.07037    0.06997         96        640: 100% 30/30 [00:12<00:00,  2.34it/s]\n",
            "                 Class     Images  Instances          P          R      mAP50   mAP50-95: 100% 1/1 [00:01<00:00,  1.30s/it]\n",
            "                   all         32        336      0.261      0.288     0.0586     0.0285\n",
            "\n",
            "      Epoch    GPU_mem   box_loss   obj_loss   cls_loss  Instances       Size\n",
            "      21/39      7.49G    0.03669    0.06988    0.07087        144        640: 100% 30/30 [00:12<00:00,  2.34it/s]\n",
            "                 Class     Images  Instances          P          R      mAP50   mAP50-95: 100% 1/1 [00:01<00:00,  1.36s/it]\n",
            "                   all         32        336     0.0441      0.426     0.0507     0.0263\n",
            "\n",
            "      Epoch    GPU_mem   box_loss   obj_loss   cls_loss  Instances       Size\n",
            "      22/39      7.49G    0.03607     0.0684    0.06956        128        640: 100% 30/30 [00:12<00:00,  2.32it/s]\n",
            "                 Class     Images  Instances          P          R      mAP50   mAP50-95: 100% 1/1 [00:01<00:00,  1.18s/it]\n",
            "                   all         32        336      0.597      0.114     0.0615     0.0275\n",
            "\n",
            "      Epoch    GPU_mem   box_loss   obj_loss   cls_loss  Instances       Size\n",
            "      23/39      7.49G     0.0352    0.06767    0.06899        130        640: 100% 30/30 [00:12<00:00,  2.32it/s]\n",
            "                 Class     Images  Instances          P          R      mAP50   mAP50-95: 100% 1/1 [00:01<00:00,  1.08s/it]\n",
            "                   all         32        336      0.712     0.0952     0.0606     0.0291\n",
            "\n",
            "      Epoch    GPU_mem   box_loss   obj_loss   cls_loss  Instances       Size\n",
            "      24/39      7.49G    0.03439    0.06387    0.06917        135        640: 100% 30/30 [00:12<00:00,  2.32it/s]\n",
            "                 Class     Images  Instances          P          R      mAP50   mAP50-95: 100% 1/1 [00:01<00:00,  1.17s/it]\n",
            "                   all         32        336      0.649      0.116     0.0585     0.0284\n",
            "\n",
            "      Epoch    GPU_mem   box_loss   obj_loss   cls_loss  Instances       Size\n",
            "      25/39      7.49G    0.03391    0.06479    0.06796        125        640: 100% 30/30 [00:13<00:00,  2.30it/s]\n",
            "                 Class     Images  Instances          P          R      mAP50   mAP50-95: 100% 1/1 [00:01<00:00,  1.18s/it]\n",
            "                   all         32        336       0.65       0.13     0.0659     0.0307\n",
            "\n",
            "      Epoch    GPU_mem   box_loss   obj_loss   cls_loss  Instances       Size\n",
            "      26/39      7.49G    0.03367    0.06259    0.06806         93        640: 100% 30/30 [00:12<00:00,  2.31it/s]\n",
            "                 Class     Images  Instances          P          R      mAP50   mAP50-95: 100% 1/1 [00:01<00:00,  1.25s/it]\n",
            "                   all         32        336       0.52      0.159     0.0692     0.0291\n",
            "\n",
            "      Epoch    GPU_mem   box_loss   obj_loss   cls_loss  Instances       Size\n",
            "      27/39      7.49G    0.03296    0.06364    0.06685        145        640: 100% 30/30 [00:13<00:00,  2.30it/s]\n",
            "                 Class     Images  Instances          P          R      mAP50   mAP50-95: 100% 1/1 [00:01<00:00,  1.05s/it]\n",
            "                   all         32        336       0.52      0.139     0.0666     0.0314\n",
            "\n",
            "      Epoch    GPU_mem   box_loss   obj_loss   cls_loss  Instances       Size\n",
            "      28/39      7.49G    0.03237    0.06289    0.06633        126        640: 100% 30/30 [00:13<00:00,  2.31it/s]\n",
            "                 Class     Images  Instances          P          R      mAP50   mAP50-95: 100% 1/1 [00:01<00:00,  1.05s/it]\n",
            "                   all         32        336      0.503       0.15     0.0613     0.0307\n",
            "\n",
            "      Epoch    GPU_mem   box_loss   obj_loss   cls_loss  Instances       Size\n",
            "      29/39      7.49G    0.03232    0.06229    0.06551        168        640: 100% 30/30 [00:13<00:00,  2.30it/s]\n",
            "                 Class     Images  Instances          P          R      mAP50   mAP50-95: 100% 1/1 [00:01<00:00,  1.08s/it]\n",
            "                   all         32        336      0.611      0.117      0.064     0.0308\n",
            "\n",
            "      Epoch    GPU_mem   box_loss   obj_loss   cls_loss  Instances       Size\n",
            "      30/39      7.49G    0.03206     0.0635    0.06559        142        640: 100% 30/30 [00:12<00:00,  2.35it/s]\n",
            "                 Class     Images  Instances          P          R      mAP50   mAP50-95: 100% 1/1 [00:01<00:00,  1.21s/it]\n",
            "                   all         32        336      0.583      0.134     0.0679     0.0337\n",
            "\n",
            "      Epoch    GPU_mem   box_loss   obj_loss   cls_loss  Instances       Size\n",
            "      31/39      7.49G    0.03123    0.06165    0.06447        194        640: 100% 30/30 [00:12<00:00,  2.34it/s]\n",
            "                 Class     Images  Instances          P          R      mAP50   mAP50-95: 100% 1/1 [00:01<00:00,  1.15s/it]\n",
            "                   all         32        336      0.565      0.133     0.0688     0.0325\n",
            "\n",
            "      Epoch    GPU_mem   box_loss   obj_loss   cls_loss  Instances       Size\n",
            "      32/39      7.49G    0.03114    0.06029    0.06465        117        640: 100% 30/30 [00:12<00:00,  2.33it/s]\n",
            "                 Class     Images  Instances          P          R      mAP50   mAP50-95: 100% 1/1 [00:01<00:00,  1.01s/it]\n",
            "                   all         32        336      0.572      0.151     0.0768     0.0345\n",
            "\n",
            "      Epoch    GPU_mem   box_loss   obj_loss   cls_loss  Instances       Size\n",
            "      33/39      7.49G    0.03049    0.05876     0.0628        143        640: 100% 30/30 [00:12<00:00,  2.32it/s]\n",
            "                 Class     Images  Instances          P          R      mAP50   mAP50-95: 100% 1/1 [00:01<00:00,  1.03s/it]\n",
            "                   all         32        336      0.622      0.118     0.0746     0.0351\n",
            "\n",
            "      Epoch    GPU_mem   box_loss   obj_loss   cls_loss  Instances       Size\n",
            "      34/39      7.49G     0.0298    0.05742    0.06253        157        640: 100% 30/30 [00:12<00:00,  2.31it/s]\n",
            "                 Class     Images  Instances          P          R      mAP50   mAP50-95: 100% 1/1 [00:01<00:00,  1.04s/it]\n",
            "                   all         32        336      0.577      0.136     0.0761     0.0347\n",
            "\n",
            "      Epoch    GPU_mem   box_loss   obj_loss   cls_loss  Instances       Size\n",
            "      35/39      7.49G    0.02967    0.05573    0.06329         93        640: 100% 30/30 [00:13<00:00,  2.20it/s]\n",
            "                 Class     Images  Instances          P          R      mAP50   mAP50-95: 100% 1/1 [00:01<00:00,  1.01s/it]\n",
            "                   all         32        336      0.578      0.129     0.0879     0.0415\n",
            "\n",
            "      Epoch    GPU_mem   box_loss   obj_loss   cls_loss  Instances       Size\n",
            "      36/39      7.49G    0.02929    0.05978    0.06263        173        640: 100% 30/30 [00:12<00:00,  2.32it/s]\n",
            "                 Class     Images  Instances          P          R      mAP50   mAP50-95: 100% 1/1 [00:00<00:00,  1.00it/s]\n",
            "                   all         32        336      0.582      0.127     0.0846     0.0393\n",
            "\n",
            "      Epoch    GPU_mem   box_loss   obj_loss   cls_loss  Instances       Size\n",
            "      37/39      7.49G    0.02895    0.05717    0.06132        137        640: 100% 30/30 [00:12<00:00,  2.31it/s]\n",
            "                 Class     Images  Instances          P          R      mAP50   mAP50-95: 100% 1/1 [00:00<00:00,  1.04it/s]\n",
            "                   all         32        336      0.562      0.129     0.0847      0.041\n",
            "\n",
            "      Epoch    GPU_mem   box_loss   obj_loss   cls_loss  Instances       Size\n",
            "      38/39      7.49G    0.02856    0.05658    0.06161        120        640: 100% 30/30 [00:12<00:00,  2.33it/s]\n",
            "                 Class     Images  Instances          P          R      mAP50   mAP50-95: 100% 1/1 [00:00<00:00,  1.01it/s]\n",
            "                   all         32        336      0.567      0.137      0.085     0.0406\n",
            "\n",
            "      Epoch    GPU_mem   box_loss   obj_loss   cls_loss  Instances       Size\n",
            "      39/39      7.49G    0.02888    0.05672     0.0606        112        640: 100% 30/30 [00:12<00:00,  2.32it/s]\n",
            "                 Class     Images  Instances          P          R      mAP50   mAP50-95: 100% 1/1 [00:01<00:00,  1.00s/it]\n",
            "                   all         32        336       0.57      0.142      0.082     0.0365\n",
            "\n",
            "40 epochs completed in 0.173 hours.\n",
            "Optimizer stripped from runs/train/exp3/weights/last.pt, 42.7MB\n",
            "Optimizer stripped from runs/train/exp3/weights/best.pt, 42.7MB\n",
            "\n",
            "Validating runs/train/exp3/weights/best.pt...\n",
            "Fusing layers... \n",
            "Model summary: 212 layers, 21095394 parameters, 0 gradients, 48.6 GFLOPs\n",
            "                 Class     Images  Instances          P          R      mAP50   mAP50-95: 100% 1/1 [00:01<00:00,  1.35s/it]\n",
            "                   all         32        336      0.578      0.129     0.0879     0.0414\n",
            "                 Beast         32          6       0.28      0.167       0.19     0.0799\n",
            "             Black Cat         32          3          0          0    0.00419    0.00293\n",
            "             Bloodlust         32          1          1          0          0          0\n",
            "                   Boy         32         29      0.606     0.0345      0.125     0.0501\n",
            "               Cardiac         32          8          0          0      0.144     0.0352\n",
            "               Cyclops         32          9      0.114      0.444      0.197     0.0976\n",
            "               Doc ock         32          4          0          0     0.0653     0.0292\n",
            "               Electro         32          3          1          0     0.0161     0.0083\n",
            "                Gambit         32         19      0.296      0.155      0.137     0.0633\n",
            "                  Girl         32          6          1          0          0          0\n",
            "                Goblin         32          2          0          0     0.0426    0.00853\n",
            "                  Jean         32          3          1          0     0.0484     0.0315\n",
            "               Jubilee         32         14      0.131      0.714      0.204     0.0488\n",
            "              Knockout         32          2          1          0          0          0\n",
            "               Magneto         32          3          0          0     0.0128    0.00894\n",
            "                   Man         32         74      0.181      0.473      0.201     0.0762\n",
            "             Mary Jane         32         16       0.16        0.5      0.176      0.109\n",
            "             Mindblast         32          2          1          0          0          0\n",
            "              Mysterio         32          3          1          0     0.0267      0.024\n",
            "                OldMan         32          9          1          0     0.0119     0.0101\n",
            "           PeterParker         32         16       0.16      0.688      0.209      0.104\n",
            "                 ProfX         32          1          1          0     0.0113    0.00791\n",
            "                 Rhino         32          5          1          0     0.0163    0.00163\n",
            "                 Robot         32          6          1          0      0.202      0.103\n",
            "                 Rogue         32         11      0.133      0.273     0.0963      0.034\n",
            "               Sandman         32          7          1          0      0.199      0.127\n",
            "              Scorpion         32          2          1          0    0.00503    0.00302\n",
            "               Shocker         32          6          1          0     0.0199     0.0119\n",
            "              Sinister         32          7          1          0     0.0421     0.0295\n",
            "            Snake Whip         32          4          1          0          0          0\n",
            "             Spiderman         32         34      0.294        0.5      0.379      0.185\n",
            "                 Storm         32          1          0          0          0          0\n",
            "               Vulture         32          5          1          0     0.0344     0.0122\n",
            "             Wolverine         32          6     0.0431      0.833      0.404      0.212\n",
            "                 Woman         32          6          0          0     0.0294     0.0156\n",
            "              aunt may         32          1          1          0          0          0\n",
            "              mystique         32          2          1          0          0          0\n",
            "Results saved to \u001b[1mruns/train/exp3\u001b[0m\n"
          ]
        }
      ],
      "source": [
        "# Train YOLOv5s on COCO128 for 3 epochs\n",
        "!python train.py --img 640 --batch 16 --epochs 40 --data custom.yaml --weights yolov5m.pt --cache"
      ]
    },
    {
      "cell_type": "code",
      "source": [
        "# Saves the text\n",
        "!python detect.py --save-txt --source /content/Charcters/images/train/0037_jpg.rf.38bb917b48fe1fad1f411f355cccb6b0.jpg --weights /content/yolov5/runs/train/exp3/weights/best.pt"
      ],
      "metadata": {
        "colab": {
          "base_uri": "https://localhost:8080/"
        },
        "id": "tnwgOoWz6Ogo",
        "outputId": "f90caf0a-57c4-4031-eb3f-6faf90d41d7a"
      },
      "execution_count": null,
      "outputs": [
        {
          "output_type": "stream",
          "name": "stdout",
          "text": [
            "\u001b[34m\u001b[1mdetect: \u001b[0mweights=['/content/yolov5/runs/train/exp3/weights/best.pt'], source=/content/Charcters/images/train/0037_jpg.rf.38bb917b48fe1fad1f411f355cccb6b0.jpg, data=data/coco128.yaml, imgsz=[640, 640], conf_thres=0.25, iou_thres=0.45, max_det=1000, device=, view_img=False, save_txt=True, save_conf=False, save_crop=False, nosave=False, classes=None, agnostic_nms=False, augment=False, visualize=False, update=False, project=runs/detect, name=exp, exist_ok=False, line_thickness=3, hide_labels=False, hide_conf=False, half=False, dnn=False, vid_stride=1\n",
            "YOLOv5 🚀 v7.0-116-g5c91dae Python-3.8.10 torch-1.13.1+cu116 CUDA:0 (Tesla T4, 15102MiB)\n",
            "\n",
            "Fusing layers... \n",
            "Model summary: 212 layers, 21095394 parameters, 0 gradients, 48.6 GFLOPs\n",
            "tensor(56., device='cuda:0') [0.5492187738418579, 0.4429687559604645, 0.12968750298023224, 0.07968749850988388]\n",
            "Traceback (most recent call last):\n",
            "  File \"detect.py\", line 273, in <module>\n",
            "    main(opt)\n",
            "  File \"detect.py\", line 268, in main\n",
            "    run(**vars(opt))\n",
            "  File \"/usr/local/lib/python3.8/dist-packages/torch/autograd/grad_mode.py\", line 27, in decorate_context\n",
            "    return func(*args, **kwargs)\n",
            "  File \"detect.py\", line 165, in run\n",
            "    pp.append(cls,xywh1)\n",
            "TypeError: append() takes exactly one argument (2 given)\n"
          ]
        }
      ]
    },
    {
      "cell_type": "code",
      "source": [
        "# 56 0.549219 0.442969 0.129688 0.0796875\n",
        "# 56 0.485938 0.680469 0.10625 0.110937\n",
        "# 56 0.550781 0.764063 0.132812 0.065625\n",
        "# 50 0.735156 0.7375 0.129688 0.128125\n",
        "# 56 0.188281 0.392969 0.173438 0.129688"
      ],
      "metadata": {
        "id": "omxCnjef6OeC"
      },
      "execution_count": null,
      "outputs": []
    },
    {
      "cell_type": "code",
      "source": [],
      "metadata": {
        "colab": {
          "base_uri": "https://localhost:8080/",
          "height": 183
        },
        "id": "F82MmUWR6Obo",
        "outputId": "fab09651-2cf2-4b06-bfea-3cee06061152"
      },
      "execution_count": null,
      "outputs": [
        {
          "output_type": "error",
          "ename": "NameError",
          "evalue": "ignored",
          "traceback": [
            "\u001b[0;31m---------------------------------------------------------------------------\u001b[0m",
            "\u001b[0;31mNameError\u001b[0m                                 Traceback (most recent call last)",
            "\u001b[0;32m<ipython-input-30-274a888e8974>\u001b[0m in \u001b[0;36m<module>\u001b[0;34m\u001b[0m\n\u001b[0;32m----> 1\u001b[0;31m \u001b[0mxx\u001b[0m \u001b[0;34m=\u001b[0m \u001b[0mtensor\u001b[0m\u001b[0;34m(\u001b[0m\u001b[0;36m56.\u001b[0m\u001b[0;34m,\u001b[0m \u001b[0mdevice\u001b[0m\u001b[0;34m=\u001b[0m\u001b[0;34m'cuda:0'\u001b[0m\u001b[0;34m)\u001b[0m\u001b[0;34m\u001b[0m\u001b[0;34m\u001b[0m\u001b[0m\n\u001b[0m\u001b[1;32m      2\u001b[0m \u001b[0mprint\u001b[0m\u001b[0;34m(\u001b[0m\u001b[0mxx\u001b[0m\u001b[0;34m)\u001b[0m\u001b[0;34m\u001b[0m\u001b[0;34m\u001b[0m\u001b[0m\n",
            "\u001b[0;31mNameError\u001b[0m: name 'tensor' is not defined"
          ]
        }
      ]
    },
    {
      "cell_type": "code",
      "source": [],
      "metadata": {
        "id": "AI0oYdzf6OY6"
      },
      "execution_count": null,
      "outputs": []
    },
    {
      "cell_type": "code",
      "source": [],
      "metadata": {
        "id": "xuXvTTc_6OVM"
      },
      "execution_count": null,
      "outputs": []
    },
    {
      "cell_type": "code",
      "source": [],
      "metadata": {
        "id": "RlmTxQEs6OR1"
      },
      "execution_count": null,
      "outputs": []
    },
    {
      "cell_type": "code",
      "source": [],
      "metadata": {
        "id": "JWjmToli6OPT"
      },
      "execution_count": null,
      "outputs": []
    },
    {
      "cell_type": "code",
      "source": [],
      "metadata": {
        "id": "95-7DBlI6OM0"
      },
      "execution_count": null,
      "outputs": []
    },
    {
      "cell_type": "code",
      "source": [
        "#rough"
      ],
      "metadata": {
        "id": "2GUuWb9e6OJd"
      },
      "execution_count": null,
      "outputs": []
    },
    {
      "cell_type": "code",
      "execution_count": null,
      "metadata": {
        "id": "DpIoCesgaui6",
        "colab": {
          "base_uri": "https://localhost:8080/"
        },
        "outputId": "2267df24-ed87-4565-f2ff-3897a499c765"
      },
      "outputs": [
        {
          "output_type": "stream",
          "name": "stdout",
          "text": [
            "\u001b[34m\u001b[1mdetect: \u001b[0mweights=['/content/yolov5/runs/train/exp3/weights/best.pt'], source=/content/Charcters/images/test/Amazing-Spider-Man-Epic-Collection-Return-of-the-Sinister-Six-143_jpg.rf.35368d7bc5166684bd788ac4cc89167b.jpg, data=data/coco128.yaml, imgsz=[640, 640], conf_thres=0.25, iou_thres=0.45, max_det=1000, device=, view_img=False, save_txt=False, save_conf=False, save_crop=False, nosave=False, classes=None, agnostic_nms=False, augment=False, visualize=False, update=False, project=runs/detect, name=exp, exist_ok=False, line_thickness=3, hide_labels=False, hide_conf=False, half=False, dnn=False, vid_stride=1\n",
            "YOLOv5 🚀 v7.0-115-g5ca8e82 Python-3.8.10 torch-1.13.1+cu116 CPU\n",
            "\n",
            "Fusing layers... \n",
            "Model summary: 157 layers, 7131490 parameters, 0 gradients, 16.1 GFLOPs\n",
            "image 1/1 /content/Charcters/images/test/Amazing-Spider-Man-Epic-Collection-Return-of-the-Sinister-Six-143_jpg.rf.35368d7bc5166684bd788ac4cc89167b.jpg: 640x640 1 Spiderman, 504.5ms\n",
            "Speed: 2.1ms pre-process, 504.5ms inference, 3.4ms NMS per image at shape (1, 3, 640, 640)\n",
            "Results saved to \u001b[1mruns/detect/exp2\u001b[0m\n"
          ]
        }
      ],
      "source": [
        "!python detect.py --source /content/Charcters/images/test/Amazing-Spider-Man-Epic-Collection-Return-of-the-Sinister-Six-143_jpg.rf.35368d7bc5166684bd788ac4cc89167b.jpg --weights /content/yolov5/runs/train/exp3/weights/best.pt"
      ]
    },
    {
      "cell_type": "code",
      "source": [
        "!python detect.py --source /content/Charcters/images/train/0037_jpg.rf.38bb917b48fe1fad1f411f355cccb6b0.jpg --weights /content/yolov5/runs/train/exp3/weights/best.pt"
      ],
      "metadata": {
        "colab": {
          "base_uri": "https://localhost:8080/"
        },
        "id": "7NCIPR7a5SNG",
        "outputId": "f7bdc543-8cb8-41c2-ed5c-33465a73bd30"
      },
      "execution_count": null,
      "outputs": [
        {
          "output_type": "stream",
          "name": "stdout",
          "text": [
            "\u001b[34m\u001b[1mdetect: \u001b[0mweights=['/content/yolov5/runs/train/exp3/weights/best.pt'], source=/content/Charcters/images/train/0037_jpg.rf.38bb917b48fe1fad1f411f355cccb6b0.jpg, data=data/coco128.yaml, imgsz=[640, 640], conf_thres=0.25, iou_thres=0.45, max_det=1000, device=, view_img=False, save_txt=False, save_conf=False, save_crop=False, nosave=False, classes=None, agnostic_nms=False, augment=False, visualize=False, update=False, project=runs/detect, name=exp, exist_ok=False, line_thickness=3, hide_labels=False, hide_conf=False, half=False, dnn=False, vid_stride=1\n",
            "YOLOv5 🚀 v7.0-116-g5c91dae Python-3.8.10 torch-1.13.1+cu116 CUDA:0 (Tesla T4, 15102MiB)\n",
            "\n",
            "Fusing layers... \n",
            "Model summary: 212 layers, 21095394 parameters, 0 gradients, 48.6 GFLOPs\n",
            "image 1/1 /content/Charcters/images/train/0037_jpg.rf.38bb917b48fe1fad1f411f355cccb6b0.jpg: 640x640 1 Spiderman, 4 Wolverines, 29.4ms\n",
            "Speed: 0.6ms pre-process, 29.4ms inference, 1.5ms NMS per image at shape (1, 3, 640, 640)\n",
            "Results saved to \u001b[1mruns/detect/exp2\u001b[0m\n"
          ]
        }
      ]
    },
    {
      "cell_type": "code",
      "source": [
        "!python detect.py --save-txt --source /content/Charcters/images/test/Amazing-Spider-Man-Epic-Collection-Return-of-the-Sinister-Six-143_jpg.rf.35368d7bc5166684bd788ac4cc89167b.jpg --weights /content/yolov5/runs/train/exp3/weights/best.pt"
      ],
      "metadata": {
        "colab": {
          "base_uri": "https://localhost:8080/"
        },
        "id": "4HyODO-d0c9_",
        "outputId": "e006be73-cda6-44e0-c271-17e1adc96a05"
      },
      "execution_count": null,
      "outputs": [
        {
          "output_type": "stream",
          "name": "stdout",
          "text": [
            "\u001b[34m\u001b[1mdetect: \u001b[0mweights=['/content/yolov5/runs/train/exp3/weights/best.pt'], source=/content/Charcters/images/test/Amazing-Spider-Man-Epic-Collection-Return-of-the-Sinister-Six-143_jpg.rf.35368d7bc5166684bd788ac4cc89167b.jpg, data=data/coco128.yaml, imgsz=[640, 640], conf_thres=0.25, iou_thres=0.45, max_det=1000, device=, view_img=False, save_txt=True, save_conf=False, save_crop=False, nosave=False, classes=[35], agnostic_nms=False, augment=False, visualize=False, update=False, project=runs/detect, name=exp, exist_ok=False, line_thickness=3, hide_labels=False, hide_conf=False, half=False, dnn=False, vid_stride=1\n",
            "YOLOv5 🚀 v7.0-115-g5ca8e82 Python-3.8.10 torch-1.13.1+cu116 CPU\n",
            "\n",
            "Fusing layers... \n",
            "Model summary: 157 layers, 7131490 parameters, 0 gradients, 16.1 GFLOPs\n",
            "image 1/1 /content/Charcters/images/test/Amazing-Spider-Man-Epic-Collection-Return-of-the-Sinister-Six-143_jpg.rf.35368d7bc5166684bd788ac4cc89167b.jpg: 640x640 1 Spiderman, 550.1ms\n",
            "Speed: 6.8ms pre-process, 550.1ms inference, 3.4ms NMS per image at shape (1, 3, 640, 640)\n",
            "Results saved to \u001b[1mruns/detect/exp4\u001b[0m\n",
            "1 labels saved to runs/detect/exp4/labels\n"
          ]
        }
      ]
    },
    {
      "cell_type": "code",
      "source": [
        "%ls"
      ],
      "metadata": {
        "colab": {
          "base_uri": "https://localhost:8080/"
        },
        "id": "wtiwLOrt1tME",
        "outputId": "adabe8d6-f905-4764-fdeb-b8850a391670"
      },
      "execution_count": null,
      "outputs": [
        {
          "output_type": "stream",
          "name": "stdout",
          "text": [
            "Amazing-Spider-Man-Epic-Collection-Return-of-the-Sinister-Six-143_jpg.rf.35368d7bc5166684bd788ac4cc89167b.txt\n"
          ]
        }
      ]
    },
    {
      "cell_type": "code",
      "source": [
        "import pandas as pd\n"
      ],
      "metadata": {
        "id": "IMdydaol3Bqy"
      },
      "execution_count": null,
      "outputs": []
    },
    {
      "cell_type": "code",
      "source": [
        "df = pd.read_csv('/content/yolov5/runs/detect/exp4/labels/Amazing-Spider-Man-Epic-Collection-Return-of-the-Sinister-Six-143_jpg.rf.35368d7bc5166684bd788ac4cc89167b.txt', sep=\" \")"
      ],
      "metadata": {
        "id": "Mde_OwMw4pMQ"
      },
      "execution_count": null,
      "outputs": []
    },
    {
      "cell_type": "code",
      "source": [
        "%pwd"
      ],
      "metadata": {
        "colab": {
          "base_uri": "https://localhost:8080/",
          "height": 35
        },
        "id": "JlJt9-ds5P9s",
        "outputId": "5a5f6d63-79ac-4052-e153-a4c33f8462cd"
      },
      "execution_count": null,
      "outputs": [
        {
          "output_type": "execute_result",
          "data": {
            "text/plain": [
              "'/content/yolov5/runs/detect/exp4/labels'"
            ],
            "application/vnd.google.colaboratory.intrinsic+json": {
              "type": "string"
            }
          },
          "metadata": {},
          "execution_count": 39
        }
      ]
    },
    {
      "cell_type": "code",
      "source": [
        "%cd /content/yolov5/runs/detect/exp4/labels/*"
      ],
      "metadata": {
        "colab": {
          "base_uri": "https://localhost:8080/"
        },
        "id": "h7nEuC_65REi",
        "outputId": "d62b4552-e5f4-40d7-cb57-7f9297de0ec9"
      },
      "execution_count": null,
      "outputs": [
        {
          "output_type": "stream",
          "name": "stdout",
          "text": [
            "[Errno 2] No such file or directory: '/content/yolov5/runs/detect/exp4/labels/*'\n",
            "/content/yolov5/runs/detect/exp4/labels\n"
          ]
        }
      ]
    },
    {
      "cell_type": "code",
      "source": [
        "%ls"
      ],
      "metadata": {
        "colab": {
          "base_uri": "https://localhost:8080/"
        },
        "id": "KIUddHar53ie",
        "outputId": "27d3e9ab-01d9-4492-b74d-b0a0ed48868d"
      },
      "execution_count": null,
      "outputs": [
        {
          "output_type": "stream",
          "name": "stdout",
          "text": [
            "Amazing-Spider-Man-Epic-Collection-Return-of-the-Sinister-Six-143_jpg.rf.35368d7bc5166684bd788ac4cc89167b.txt\n"
          ]
        }
      ]
    },
    {
      "cell_type": "code",
      "source": [
        "import os\n",
        "\n",
        "print(os.getcwd())"
      ],
      "metadata": {
        "colab": {
          "base_uri": "https://localhost:8080/"
        },
        "id": "Fn1lj6yG7TSS",
        "outputId": "d6ced0aa-dc0d-4e2d-8192-e47d56ad8b71"
      },
      "execution_count": null,
      "outputs": [
        {
          "output_type": "stream",
          "name": "stdout",
          "text": [
            "/content/yolov5/runs/detect/exp4/labels\n"
          ]
        }
      ]
    },
    {
      "cell_type": "code",
      "source": [
        "os.listdir()"
      ],
      "metadata": {
        "colab": {
          "base_uri": "https://localhost:8080/"
        },
        "id": "pQcRU-mQ7vA6",
        "outputId": "27f9a49c-1784-4baf-ceee-278613ea8cec"
      },
      "execution_count": null,
      "outputs": [
        {
          "output_type": "execute_result",
          "data": {
            "text/plain": [
              "['Amazing-Spider-Man-Epic-Collection-Return-of-the-Sinister-Six-143_jpg.rf.35368d7bc5166684bd788ac4cc89167b.txt']"
            ]
          },
          "metadata": {},
          "execution_count": 49
        }
      ]
    },
    {
      "cell_type": "code",
      "source": [
        "os.chdir('/content/yolov5/runs/detect/exp4/labels')"
      ],
      "metadata": {
        "id": "d1dFHGMK72T7"
      },
      "execution_count": null,
      "outputs": []
    },
    {
      "cell_type": "code",
      "source": [
        "os.getcwd()"
      ],
      "metadata": {
        "colab": {
          "base_uri": "https://localhost:8080/",
          "height": 35
        },
        "id": "5pZN3cAV8L7f",
        "outputId": "ba62a286-ebf7-48ce-831c-0569db96fa8f"
      },
      "execution_count": null,
      "outputs": [
        {
          "output_type": "execute_result",
          "data": {
            "text/plain": [
              "'/content/yolov5/runs/detect/exp4/labels'"
            ],
            "application/vnd.google.colaboratory.intrinsic+json": {
              "type": "string"
            }
          },
          "metadata": {},
          "execution_count": 57
        }
      ]
    },
    {
      "cell_type": "code",
      "source": [
        "y = os.listdir()[0]"
      ],
      "metadata": {
        "id": "3npBQSZP8Pzr"
      },
      "execution_count": null,
      "outputs": []
    },
    {
      "cell_type": "code",
      "source": [
        "zz = '/content/yolov5/runs/detect/exp4/labels/{fname}'.format(fname=y)\n",
        "df = pd.read_csv(zz, sep=\" \")"
      ],
      "metadata": {
        "id": "_QhRA6rf85ze"
      },
      "execution_count": null,
      "outputs": []
    },
    {
      "cell_type": "code",
      "source": [
        "df"
      ],
      "metadata": {
        "colab": {
          "base_uri": "https://localhost:8080/",
          "height": 49
        },
        "id": "RY-FED6T-b8c",
        "outputId": "4f8b3a59-c193-451c-de19-94eddcf74625"
      },
      "execution_count": null,
      "outputs": [
        {
          "output_type": "execute_result",
          "data": {
            "text/plain": [
              "Empty DataFrame\n",
              "Columns: [35, 0.516406, 0.630469, 0.832812, 0.429688]\n",
              "Index: []"
            ],
            "text/html": [
              "\n",
              "  <div id=\"df-21dc172c-a18d-42f3-8d75-671d2811157a\">\n",
              "    <div class=\"colab-df-container\">\n",
              "      <div>\n",
              "<style scoped>\n",
              "    .dataframe tbody tr th:only-of-type {\n",
              "        vertical-align: middle;\n",
              "    }\n",
              "\n",
              "    .dataframe tbody tr th {\n",
              "        vertical-align: top;\n",
              "    }\n",
              "\n",
              "    .dataframe thead th {\n",
              "        text-align: right;\n",
              "    }\n",
              "</style>\n",
              "<table border=\"1\" class=\"dataframe\">\n",
              "  <thead>\n",
              "    <tr style=\"text-align: right;\">\n",
              "      <th></th>\n",
              "      <th>35</th>\n",
              "      <th>0.516406</th>\n",
              "      <th>0.630469</th>\n",
              "      <th>0.832812</th>\n",
              "      <th>0.429688</th>\n",
              "    </tr>\n",
              "  </thead>\n",
              "  <tbody>\n",
              "  </tbody>\n",
              "</table>\n",
              "</div>\n",
              "      <button class=\"colab-df-convert\" onclick=\"convertToInteractive('df-21dc172c-a18d-42f3-8d75-671d2811157a')\"\n",
              "              title=\"Convert this dataframe to an interactive table.\"\n",
              "              style=\"display:none;\">\n",
              "        \n",
              "  <svg xmlns=\"http://www.w3.org/2000/svg\" height=\"24px\"viewBox=\"0 0 24 24\"\n",
              "       width=\"24px\">\n",
              "    <path d=\"M0 0h24v24H0V0z\" fill=\"none\"/>\n",
              "    <path d=\"M18.56 5.44l.94 2.06.94-2.06 2.06-.94-2.06-.94-.94-2.06-.94 2.06-2.06.94zm-11 1L8.5 8.5l.94-2.06 2.06-.94-2.06-.94L8.5 2.5l-.94 2.06-2.06.94zm10 10l.94 2.06.94-2.06 2.06-.94-2.06-.94-.94-2.06-.94 2.06-2.06.94z\"/><path d=\"M17.41 7.96l-1.37-1.37c-.4-.4-.92-.59-1.43-.59-.52 0-1.04.2-1.43.59L10.3 9.45l-7.72 7.72c-.78.78-.78 2.05 0 2.83L4 21.41c.39.39.9.59 1.41.59.51 0 1.02-.2 1.41-.59l7.78-7.78 2.81-2.81c.8-.78.8-2.07 0-2.86zM5.41 20L4 18.59l7.72-7.72 1.47 1.35L5.41 20z\"/>\n",
              "  </svg>\n",
              "      </button>\n",
              "      \n",
              "  <style>\n",
              "    .colab-df-container {\n",
              "      display:flex;\n",
              "      flex-wrap:wrap;\n",
              "      gap: 12px;\n",
              "    }\n",
              "\n",
              "    .colab-df-convert {\n",
              "      background-color: #E8F0FE;\n",
              "      border: none;\n",
              "      border-radius: 50%;\n",
              "      cursor: pointer;\n",
              "      display: none;\n",
              "      fill: #1967D2;\n",
              "      height: 32px;\n",
              "      padding: 0 0 0 0;\n",
              "      width: 32px;\n",
              "    }\n",
              "\n",
              "    .colab-df-convert:hover {\n",
              "      background-color: #E2EBFA;\n",
              "      box-shadow: 0px 1px 2px rgba(60, 64, 67, 0.3), 0px 1px 3px 1px rgba(60, 64, 67, 0.15);\n",
              "      fill: #174EA6;\n",
              "    }\n",
              "\n",
              "    [theme=dark] .colab-df-convert {\n",
              "      background-color: #3B4455;\n",
              "      fill: #D2E3FC;\n",
              "    }\n",
              "\n",
              "    [theme=dark] .colab-df-convert:hover {\n",
              "      background-color: #434B5C;\n",
              "      box-shadow: 0px 1px 3px 1px rgba(0, 0, 0, 0.15);\n",
              "      filter: drop-shadow(0px 1px 2px rgba(0, 0, 0, 0.3));\n",
              "      fill: #FFFFFF;\n",
              "    }\n",
              "  </style>\n",
              "\n",
              "      <script>\n",
              "        const buttonEl =\n",
              "          document.querySelector('#df-21dc172c-a18d-42f3-8d75-671d2811157a button.colab-df-convert');\n",
              "        buttonEl.style.display =\n",
              "          google.colab.kernel.accessAllowed ? 'block' : 'none';\n",
              "\n",
              "        async function convertToInteractive(key) {\n",
              "          const element = document.querySelector('#df-21dc172c-a18d-42f3-8d75-671d2811157a');\n",
              "          const dataTable =\n",
              "            await google.colab.kernel.invokeFunction('convertToInteractive',\n",
              "                                                     [key], {});\n",
              "          if (!dataTable) return;\n",
              "\n",
              "          const docLinkHtml = 'Like what you see? Visit the ' +\n",
              "            '<a target=\"_blank\" href=https://colab.research.google.com/notebooks/data_table.ipynb>data table notebook</a>'\n",
              "            + ' to learn more about interactive tables.';\n",
              "          element.innerHTML = '';\n",
              "          dataTable['output_type'] = 'display_data';\n",
              "          await google.colab.output.renderOutput(dataTable, element);\n",
              "          const docLink = document.createElement('div');\n",
              "          docLink.innerHTML = docLinkHtml;\n",
              "          element.appendChild(docLink);\n",
              "        }\n",
              "      </script>\n",
              "    </div>\n",
              "  </div>\n",
              "  "
            ]
          },
          "metadata": {},
          "execution_count": 79
        }
      ]
    },
    {
      "cell_type": "code",
      "source": [
        "\"hello {}\".format(y)\n",
        "#txt3 = \"My name is {}, I'm {}\".format(\"John\",36)"
      ],
      "metadata": {
        "colab": {
          "base_uri": "https://localhost:8080/",
          "height": 35
        },
        "id": "FL7Nd7ZM9D53",
        "outputId": "da06ba45-3088-4ce0-906f-a71ae6fb679e"
      },
      "execution_count": null,
      "outputs": [
        {
          "output_type": "execute_result",
          "data": {
            "text/plain": [
              "'hello Amazing-Spider-Man-Epic-Collection-Return-of-the-Sinister-Six-143_jpg.rf.35368d7bc5166684bd788ac4cc89167b.txt'"
            ],
            "application/vnd.google.colaboratory.intrinsic+json": {
              "type": "string"
            }
          },
          "metadata": {},
          "execution_count": 71
        }
      ]
    },
    {
      "cell_type": "code",
      "source": [
        "#Trying for set of test data\n",
        "\n",
        "\n",
        "%cd /content/yolov5/\n",
        "# !python detect.py --weights runs/train/yolov5s_results/weights/best.pt --img 416 --conf 0.4 --source ../test/images\n",
        "# /content/yolov5/Charcters/images/test\n",
        "# /content/yolov5/Charcters/images/test/x.jpg\n",
        "#!python detect.py --weights runs/train/exp3/weights/best.pt --source Charcters/images/test/*.jpg\n",
        "!python detect.py --save-txt --source Charcters/images/test/*.jpg --weights runs/train/exp3/weights/best.pt"
      ],
      "metadata": {
        "colab": {
          "base_uri": "https://localhost:8080/"
        },
        "id": "5ARmySe69T0Q",
        "outputId": "83dce07d-c5b0-4c92-e441-52d0314280b4"
      },
      "execution_count": null,
      "outputs": [
        {
          "output_type": "stream",
          "name": "stdout",
          "text": [
            "/content/yolov5\n",
            "usage: detect.py\n",
            "       [-h]\n",
            "       [--weights WEIGHTS [WEIGHTS ...]]\n",
            "       [--source SOURCE]\n",
            "       [--data DATA]\n",
            "       [--imgsz IMGSZ [IMGSZ ...]]\n",
            "       [--conf-thres CONF_THRES]\n",
            "       [--iou-thres IOU_THRES]\n",
            "       [--max-det MAX_DET]\n",
            "       [--device DEVICE]\n",
            "       [--view-img]\n",
            "       [--save-txt]\n",
            "       [--save-conf]\n",
            "       [--save-crop]\n",
            "       [--nosave]\n",
            "       [--classes CLASSES [CLASSES ...]]\n",
            "       [--agnostic-nms]\n",
            "       [--augment]\n",
            "       [--visualize]\n",
            "       [--update]\n",
            "       [--project PROJECT]\n",
            "       [--name NAME]\n",
            "       [--exist-ok]\n",
            "       [--line-thickness LINE_THICKNESS]\n",
            "       [--hide-labels]\n",
            "       [--hide-conf]\n",
            "       [--half]\n",
            "       [--dnn]\n",
            "       [--vid-stride VID_STRIDE]\n",
            "detect.py: error: unrecognized arguments: Charcters/images/test/0227_jpg.rf.6cbf9ebab3b77e61d063a7093b5f6a47.jpg Charcters/images/test/0239_jpg.rf.ec2392655b8bee9cbab9162401fb3bb4.jpg Charcters/images/test/Amazing-Spider-Man-Epic-Collection-Return-of-the-Sinister-Six-124_jpg.rf.8b325bfc0fd22c81abfc699910bdd56c.jpg Charcters/images/test/Amazing-Spider-Man-Epic-Collection-Return-of-the-Sinister-Six-128_jpg.rf.e17cd29d0aff9a5addea34eaf5598801.jpg Charcters/images/test/Amazing-Spider-Man-Epic-Collection-Return-of-the-Sinister-Six-140_jpg.rf.30bb5f3b149aafe6c34d017732751d51.jpg Charcters/images/test/Amazing-Spider-Man-Epic-Collection-Return-of-the-Sinister-Six-143_jpg.rf.35368d7bc5166684bd788ac4cc89167b.jpg Charcters/images/test/Amazing-Spider-Man-Epic-Collection-Return-of-the-Sinister-Six-179_jpg.rf.faaea6ad20396a060db3d3e6b2433fbf.jpg Charcters/images/test/Amazing-Spider-Man-Epic-Collection-Return-of-the-Sinister-Six-304_jpg.rf.8f89b5b2a3941f212a1ff70ad903f8f6.jpg Charcters/images/test/Amazing-Spider-Man-Epic-Collection-Return-of-the-Sinister-Six-343_jpg.rf.4b5047fca0dc440d9fe1ccbd2882c957.jpg Charcters/images/test/Amazing-Spider-Man-Epic-Collection-Return-of-the-Sinister-Six-346_jpg.rf.37f08e0d54050a1ff23c3ca3f1602b11.jpg Charcters/images/test/x.jpg Charcters/images/test/y.jpg\n"
          ]
        }
      ]
    },
    {
      "cell_type": "code",
      "source": [
        "test_images = [f for f in os.listdir('/content/Charcters/images/test') if f.endswith('.jpg')]\n",
        "import random \n",
        "img_path = \"test/\" + random.choice(test_images);"
      ],
      "metadata": {
        "id": "Lna9oUdh-vXU"
      },
      "execution_count": null,
      "outputs": []
    },
    {
      "cell_type": "code",
      "source": [
        "test_images"
      ],
      "metadata": {
        "colab": {
          "base_uri": "https://localhost:8080/"
        },
        "id": "ONPd38Fy_laq",
        "outputId": "bd242835-9d49-4805-9e14-eb7c46825bcd"
      },
      "execution_count": null,
      "outputs": [
        {
          "output_type": "execute_result",
          "data": {
            "text/plain": [
              "['Amazing-Spider-Man-Epic-Collection-Return-of-the-Sinister-Six-179_jpg.rf.faaea6ad20396a060db3d3e6b2433fbf.jpg',\n",
              " 'Amazing-Spider-Man-Epic-Collection-Return-of-the-Sinister-Six-143_jpg.rf.35368d7bc5166684bd788ac4cc89167b.jpg',\n",
              " 'Amazing-Spider-Man-Epic-Collection-Return-of-the-Sinister-Six-140_jpg.rf.30bb5f3b149aafe6c34d017732751d51.jpg',\n",
              " '0022_jpg.rf.b0b0c87ea50954a3d2ba32ff76602f71.jpg',\n",
              " 'Amazing-Spider-Man-Epic-Collection-Return-of-the-Sinister-Six-128_jpg.rf.e17cd29d0aff9a5addea34eaf5598801.jpg',\n",
              " 'Amazing-Spider-Man-Epic-Collection-Return-of-the-Sinister-Six-304_jpg.rf.8f89b5b2a3941f212a1ff70ad903f8f6.jpg',\n",
              " '0239_jpg.rf.ec2392655b8bee9cbab9162401fb3bb4.jpg',\n",
              " 'Amazing-Spider-Man-Epic-Collection-Return-of-the-Sinister-Six-346_jpg.rf.37f08e0d54050a1ff23c3ca3f1602b11.jpg',\n",
              " '0227_jpg.rf.6cbf9ebab3b77e61d063a7093b5f6a47.jpg',\n",
              " 'Amazing-Spider-Man-Epic-Collection-Return-of-the-Sinister-Six-343_jpg.rf.4b5047fca0dc440d9fe1ccbd2882c957.jpg',\n",
              " '0122_jpg.rf.ca23e7fa973372c1be21c94923c0aa15.jpg',\n",
              " 'Amazing-Spider-Man-Epic-Collection-Return-of-the-Sinister-Six-124_jpg.rf.8b325bfc0fd22c81abfc699910bdd56c.jpg',\n",
              " '0041_jpg.rf.e02fe9327d048354f0eff91e85e3692a.jpg']"
            ]
          },
          "metadata": {},
          "execution_count": 83
        }
      ]
    },
    {
      "cell_type": "code",
      "source": [],
      "metadata": {
        "id": "5uBl544E_nQ8"
      },
      "execution_count": null,
      "outputs": []
    }
  ],
  "metadata": {
    "colab": {
      "provenance": [],
      "authorship_tag": "ABX9TyP+FrK5XK7fdjQ4rO5RsYiT",
      "include_colab_link": true
    },
    "kernelspec": {
      "display_name": "Python 3",
      "name": "python3"
    },
    "language_info": {
      "name": "python"
    },
    "accelerator": "GPU",
    "gpuClass": "standard"
  },
  "nbformat": 4,
  "nbformat_minor": 0
}