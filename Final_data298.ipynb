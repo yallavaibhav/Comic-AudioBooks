{
  "nbformat": 4,
  "nbformat_minor": 0,
  "metadata": {
    "colab": {
      "provenance": [],
      "authorship_tag": "ABX9TyPWRCuVY3B8w0loMOCg7VuN",
      "include_colab_link": true
    },
    "kernelspec": {
      "name": "python3",
      "display_name": "Python 3"
    },
    "language_info": {
      "name": "python"
    }
  },
  "cells": [
    {
      "cell_type": "markdown",
      "metadata": {
        "id": "view-in-github",
        "colab_type": "text"
      },
      "source": [
        "<a href=\"https://colab.research.google.com/github/yallavaibhav/Comic-AudioBooks/blob/vaibhav/Final_data298.ipynb\" target=\"_parent\"><img src=\"https://colab.research.google.com/assets/colab-badge.svg\" alt=\"Open In Colab\"/></a>"
      ]
    },
    {
      "cell_type": "code",
      "source": [
        "pip install easyocr   "
      ],
      "metadata": {
        "id": "u1uVQzDUT7xa",
        "colab": {
          "base_uri": "https://localhost:8080/",
          "height": 835
        },
        "outputId": "027a29db-cd75-4504-ceac-76184ba202e7"
      },
      "execution_count": 10,
      "outputs": [
        {
          "output_type": "stream",
          "name": "stdout",
          "text": [
            "Looking in indexes: https://pypi.org/simple, https://us-python.pkg.dev/colab-wheels/public/simple/\n",
            "Collecting easyocr\n",
            "  Downloading easyocr-1.6.2-py3-none-any.whl (2.9 MB)\n",
            "\u001b[2K     \u001b[90m━━━━━━━━━━━━━━━━━━━━━━━━━━━━━━━━━━━━━━━━\u001b[0m \u001b[32m2.9/2.9 MB\u001b[0m \u001b[31m28.7 MB/s\u001b[0m eta \u001b[36m0:00:00\u001b[0m\n",
            "\u001b[?25hRequirement already satisfied: torch in /usr/local/lib/python3.9/dist-packages (from easyocr) (1.13.1+cu116)\n",
            "Requirement already satisfied: scipy in /usr/local/lib/python3.9/dist-packages (from easyocr) (1.10.1)\n",
            "Collecting opencv-python-headless<=4.5.4.60\n",
            "  Downloading opencv_python_headless-4.5.4.60-cp39-cp39-manylinux_2_17_x86_64.manylinux2014_x86_64.whl (47.6 MB)\n",
            "\u001b[2K     \u001b[90m━━━━━━━━━━━━━━━━━━━━━━━━━━━━━━━━━━━━━━━━\u001b[0m \u001b[32m47.6/47.6 MB\u001b[0m \u001b[31m11.8 MB/s\u001b[0m eta \u001b[36m0:00:00\u001b[0m\n",
            "\u001b[?25hRequirement already satisfied: Shapely in /usr/local/lib/python3.9/dist-packages (from easyocr) (2.0.1)\n",
            "Collecting ninja\n",
            "  Downloading ninja-1.11.1-py2.py3-none-manylinux_2_12_x86_64.manylinux2010_x86_64.whl (145 kB)\n",
            "\u001b[2K     \u001b[90m━━━━━━━━━━━━━━━━━━━━━━━━━━━━━━━━━━━━━━\u001b[0m \u001b[32m146.0/146.0 KB\u001b[0m \u001b[31m12.0 MB/s\u001b[0m eta \u001b[36m0:00:00\u001b[0m\n",
            "\u001b[?25hRequirement already satisfied: Pillow in /usr/local/lib/python3.9/dist-packages (from easyocr) (8.4.0)\n",
            "Collecting pyclipper\n",
            "  Downloading pyclipper-1.3.0.post4-cp39-cp39-manylinux_2_5_x86_64.manylinux1_x86_64.whl (608 kB)\n",
            "\u001b[2K     \u001b[90m━━━━━━━━━━━━━━━━━━━━━━━━━━━━━━━━━━━━━━\u001b[0m \u001b[32m608.2/608.2 KB\u001b[0m \u001b[31m37.2 MB/s\u001b[0m eta \u001b[36m0:00:00\u001b[0m\n",
            "\u001b[?25hRequirement already satisfied: torchvision>=0.5 in /usr/local/lib/python3.9/dist-packages (from easyocr) (0.14.1+cu116)\n",
            "Requirement already satisfied: PyYAML in /usr/local/lib/python3.9/dist-packages (from easyocr) (6.0)\n",
            "Requirement already satisfied: numpy in /usr/local/lib/python3.9/dist-packages (from easyocr) (1.22.4)\n",
            "Requirement already satisfied: scikit-image in /usr/local/lib/python3.9/dist-packages (from easyocr) (0.19.3)\n",
            "Collecting python-bidi\n",
            "  Downloading python_bidi-0.4.2-py2.py3-none-any.whl (30 kB)\n",
            "Requirement already satisfied: typing-extensions in /usr/local/lib/python3.9/dist-packages (from torchvision>=0.5->easyocr) (4.5.0)\n",
            "Requirement already satisfied: requests in /usr/local/lib/python3.9/dist-packages (from torchvision>=0.5->easyocr) (2.27.1)\n",
            "Requirement already satisfied: six in /usr/local/lib/python3.9/dist-packages (from python-bidi->easyocr) (1.16.0)\n",
            "Requirement already satisfied: PyWavelets>=1.1.1 in /usr/local/lib/python3.9/dist-packages (from scikit-image->easyocr) (1.4.1)\n",
            "Requirement already satisfied: packaging>=20.0 in /usr/local/lib/python3.9/dist-packages (from scikit-image->easyocr) (23.0)\n",
            "Requirement already satisfied: imageio>=2.4.1 in /usr/local/lib/python3.9/dist-packages (from scikit-image->easyocr) (2.25.1)\n",
            "Requirement already satisfied: networkx>=2.2 in /usr/local/lib/python3.9/dist-packages (from scikit-image->easyocr) (3.0)\n",
            "Requirement already satisfied: tifffile>=2019.7.26 in /usr/local/lib/python3.9/dist-packages (from scikit-image->easyocr) (2023.3.21)\n",
            "Requirement already satisfied: certifi>=2017.4.17 in /usr/local/lib/python3.9/dist-packages (from requests->torchvision>=0.5->easyocr) (2022.12.7)\n",
            "Requirement already satisfied: idna<4,>=2.5 in /usr/local/lib/python3.9/dist-packages (from requests->torchvision>=0.5->easyocr) (3.4)\n",
            "Requirement already satisfied: urllib3<1.27,>=1.21.1 in /usr/local/lib/python3.9/dist-packages (from requests->torchvision>=0.5->easyocr) (1.26.15)\n",
            "Requirement already satisfied: charset-normalizer~=2.0.0 in /usr/local/lib/python3.9/dist-packages (from requests->torchvision>=0.5->easyocr) (2.0.12)\n",
            "Installing collected packages: pyclipper, ninja, python-bidi, opencv-python-headless, easyocr\n",
            "  Attempting uninstall: opencv-python-headless\n",
            "    Found existing installation: opencv-python-headless 4.7.0.72\n",
            "    Uninstalling opencv-python-headless-4.7.0.72:\n",
            "      Successfully uninstalled opencv-python-headless-4.7.0.72\n",
            "Successfully installed easyocr-1.6.2 ninja-1.11.1 opencv-python-headless-4.5.4.60 pyclipper-1.3.0.post4 python-bidi-0.4.2\n"
          ]
        },
        {
          "output_type": "display_data",
          "data": {
            "application/vnd.colab-display-data+json": {
              "pip_warning": {
                "packages": [
                  "cv2"
                ]
              }
            }
          },
          "metadata": {}
        }
      ]
    },
    {
      "cell_type": "code",
      "source": [
        "import os\n",
        "import cv2 as cv\n",
        "import pandas as pd\n",
        "import easyocr\n",
        "import matplotlib.pyplot as plt\n",
        "import numpy as np\n",
        "import easyocr\n",
        "reader = easyocr.Reader(['en'],gpu=False)"
      ],
      "metadata": {
        "id": "gxFHiClEBili",
        "colab": {
          "base_uri": "https://localhost:8080/"
        },
        "outputId": "0dd0fcde-a09b-4c16-c838-fdc23e165922"
      },
      "execution_count": 11,
      "outputs": [
        {
          "output_type": "stream",
          "name": "stderr",
          "text": [
            "WARNING:easyocr.easyocr:Using CPU. Note: This module is much faster with a GPU.\n",
            "WARNING:easyocr.easyocr:Downloading detection model, please wait. This may take several minutes depending upon your network connection.\n"
          ]
        },
        {
          "output_type": "stream",
          "name": "stdout",
          "text": [
            "Progress: |██████████████████████████████████████████████████| 100.0% Complete"
          ]
        },
        {
          "output_type": "stream",
          "name": "stderr",
          "text": [
            "WARNING:easyocr.easyocr:Downloading recognition model, please wait. This may take several minutes depending upon your network connection.\n"
          ]
        },
        {
          "output_type": "stream",
          "name": "stdout",
          "text": [
            "Progress: |██████████████████████████████████████████████████| 100.0% Complete"
          ]
        }
      ]
    },
    {
      "cell_type": "code",
      "source": [
        "!git clone https://github.com/ultralytics/yolov5  # clone\n",
        "%cd yolov5\n",
        "%pip install -qr requirements.txt  # install\n",
        "\n",
        "import torch\n",
        "import utils\n",
        "display = utils.notebook_init()  # checks"
      ],
      "metadata": {
        "colab": {
          "base_uri": "https://localhost:8080/"
        },
        "id": "7OPvtFjo2Gz6",
        "outputId": "38b1be9d-ef27-4380-a8f6-35e5f1b20c2f"
      },
      "execution_count": 12,
      "outputs": [
        {
          "output_type": "stream",
          "name": "stderr",
          "text": [
            "YOLOv5 🚀 v7.0-131-g0c8de3f Python-3.9.16 torch-1.13.1+cu116 CPU\n"
          ]
        },
        {
          "output_type": "stream",
          "name": "stdout",
          "text": [
            "Setup complete ✅ (2 CPUs, 12.7 GB RAM, 26.3/107.7 GB disk)\n"
          ]
        }
      ]
    },
    {
      "cell_type": "code",
      "source": [
        "# Getting the cropped pics of the panels\n",
        "\n",
        "# !python detect.py --save-txt --source  --weights \n",
        "!python /content/yolov5/detect.py --save-crop --save-txt --source /content/Venomnibus-v01-0017_jpg.rf.83e126859e17be704619d4adc35cd61f.jpg --weights /content/best_yolov5X.pt"
      ],
      "metadata": {
        "colab": {
          "base_uri": "https://localhost:8080/"
        },
        "id": "HLfScc_p2AY9",
        "outputId": "af3e9e27-e5b5-4cd6-c255-f0d0dc32e923"
      },
      "execution_count": 13,
      "outputs": [
        {
          "output_type": "stream",
          "name": "stdout",
          "text": [
            "\u001b[34m\u001b[1mdetect: \u001b[0mweights=['/content/best_yolov5X.pt'], source=/content/Venomnibus-v01-0017_jpg.rf.83e126859e17be704619d4adc35cd61f.jpg, data=data/coco128.yaml, imgsz=[640, 640], conf_thres=0.25, iou_thres=0.45, max_det=1000, device=, view_img=False, save_txt=True, save_conf=False, save_crop=True, nosave=False, classes=None, agnostic_nms=False, augment=False, visualize=False, update=False, project=runs/detect, name=exp, exist_ok=False, line_thickness=3, hide_labels=False, hide_conf=False, half=False, dnn=False, vid_stride=1\n",
            "YOLOv5 🚀 v7.0-131-g0c8de3f Python-3.9.16 torch-1.13.1+cu116 CPU\n",
            "\n",
            "Fusing layers... \n",
            "Model summary: 322 layers, 86173414 parameters, 0 gradients, 203.8 GFLOPs\n",
            "1 [[tensor(444.), tensor(153.), tensor(639.), tensor(463.)], [tensor(0.), tensor(468.), tensor(635.), tensor(640.)], [tensor(329.), tensor(20.), tensor(639.), tensor(151.)], [tensor(21.), tensor(22.), tensor(321.), tensor(151.)], [tensor(0.), tensor(157.), tensor(439.), tensor(461.)]]\n",
            "5\n",
            "2 [[tensor(21.), tensor(22.), tensor(321.), tensor(151.)], [tensor(329.), tensor(20.), tensor(639.), tensor(151.)], [tensor(0.), tensor(157.), tensor(439.), tensor(461.)], [tensor(444.), tensor(153.), tensor(639.), tensor(463.)], [tensor(0.), tensor(468.), tensor(635.), tensor(640.)]]\n",
            "[tensor(21.), tensor(22.), tensor(321.), tensor(151.)]\n",
            "[tensor(329.), tensor(20.), tensor(639.), tensor(151.)]\n",
            "[tensor(0.), tensor(157.), tensor(439.), tensor(461.)]\n",
            "[tensor(444.), tensor(153.), tensor(639.), tensor(463.)]\n",
            "[tensor(0.), tensor(468.), tensor(635.), tensor(640.)]\n",
            "image 1/1 /content/Venomnibus-v01-0017_jpg.rf.83e126859e17be704619d4adc35cd61f.jpg: 640x640 5 Panelss, 3835.0ms\n",
            "Speed: 7.4ms pre-process, 3835.0ms inference, 24.5ms NMS per image at shape (1, 3, 640, 640)\n",
            "Results saved to \u001b[1mruns/detect/exp\u001b[0m\n",
            "1 labels saved to runs/detect/exp/labels\n"
          ]
        }
      ]
    },
    {
      "cell_type": "code",
      "source": [
        "panels = []\n",
        "for root,dir,files in os.walk(os.path.abspath(\"/content/yolov5/runs/detect/exp/crops/Panels/\")):\n",
        "  for file in files:\n",
        "    panels.append((os.path.join(root, file)))\n",
        "     "
      ],
      "metadata": {
        "id": "3gobtppfAeCH"
      },
      "execution_count": 17,
      "outputs": []
    },
    {
      "cell_type": "code",
      "source": [
        "panels.sort()"
      ],
      "metadata": {
        "id": "2yKtKgbdBm_O"
      },
      "execution_count": 18,
      "outputs": []
    },
    {
      "cell_type": "code",
      "source": [
        "panels"
      ],
      "metadata": {
        "colab": {
          "base_uri": "https://localhost:8080/"
        },
        "id": "6T2jG9W4Bnki",
        "outputId": "81b9a20c-f29a-46cc-9dd9-688d8a17518c"
      },
      "execution_count": 19,
      "outputs": [
        {
          "output_type": "execute_result",
          "data": {
            "text/plain": [
              "['/content/yolov5/runs/detect/exp/crops/Panels/kp.jpg',\n",
              " '/content/yolov5/runs/detect/exp/crops/Panels/kp2.jpg',\n",
              " '/content/yolov5/runs/detect/exp/crops/Panels/kp3.jpg',\n",
              " '/content/yolov5/runs/detect/exp/crops/Panels/kp4.jpg',\n",
              " '/content/yolov5/runs/detect/exp/crops/Panels/kp5.jpg']"
            ]
          },
          "metadata": {},
          "execution_count": 19
        }
      ]
    },
    {
      "cell_type": "code",
      "source": [
        "for i in range(len(panels)):\n",
        "  !python /content/yolov5/detect_speech.py --save-crop --save-txt --source {panels[i]} --weights /content/best_speechballoons.pt"
      ],
      "metadata": {
        "colab": {
          "base_uri": "https://localhost:8080/"
        },
        "id": "_ZVwnQ0Boevx",
        "outputId": "5c504400-7667-427c-8090-d1a1d2754592"
      },
      "execution_count": 20,
      "outputs": [
        {
          "output_type": "stream",
          "name": "stdout",
          "text": [
            "\u001b[34m\u001b[1mdetect_speech: \u001b[0mweights=['/content/best_speechballoons.pt'], source=/content/yolov5/runs/detect/exp/crops/Panels/kp.jpg, data=data/coco128.yaml, imgsz=[640, 640], conf_thres=0.25, iou_thres=0.45, max_det=1000, device=, view_img=False, save_txt=True, save_conf=False, save_crop=True, nosave=False, classes=None, agnostic_nms=False, augment=False, visualize=False, update=False, project=runs/detect, name=exp, exist_ok=False, line_thickness=3, hide_labels=False, hide_conf=False, half=False, dnn=False, vid_stride=1\n",
            "YOLOv5 🚀 v7.0-131-g0c8de3f Python-3.9.16 torch-1.13.1+cu116 CPU\n",
            "\n",
            "Fusing layers... \n",
            "Model summary: 322 layers, 86213788 parameters, 0 gradients, 203.9 GFLOPs\n",
            "1 [[tensor(203.), tensor(22.), tensor(293.), tensor(58.)], [tensor(6.), tensor(23.), tensor(124.), tensor(72.)]]\n",
            "2\n",
            "2 [[tensor(6.), tensor(23.), tensor(124.), tensor(72.)], [tensor(203.), tensor(22.), tensor(293.), tensor(58.)]]\n",
            "[tensor(6.), tensor(23.), tensor(124.), tensor(72.)]\n",
            "[tensor(203.), tensor(22.), tensor(293.), tensor(58.)]\n",
            "image 1/1 /content/yolov5/runs/detect/exp/crops/Panels/kp.jpg: 288x640 2 General_speechs, 2505.9ms\n",
            "Speed: 3.9ms pre-process, 2505.9ms inference, 1.6ms NMS per image at shape (1, 3, 640, 640)\n",
            "Results saved to \u001b[1mruns/detect/exp2\u001b[0m\n",
            "1 labels saved to runs/detect/exp2/labels\n",
            "\u001b[34m\u001b[1mdetect_speech: \u001b[0mweights=['/content/best_speechballoons.pt'], source=/content/yolov5/runs/detect/exp/crops/Panels/kp2.jpg, data=data/coco128.yaml, imgsz=[640, 640], conf_thres=0.25, iou_thres=0.45, max_det=1000, device=, view_img=False, save_txt=True, save_conf=False, save_crop=True, nosave=False, classes=None, agnostic_nms=False, augment=False, visualize=False, update=False, project=runs/detect, name=exp, exist_ok=False, line_thickness=3, hide_labels=False, hide_conf=False, half=False, dnn=False, vid_stride=1\n",
            "YOLOv5 🚀 v7.0-131-g0c8de3f Python-3.9.16 torch-1.13.1+cu116 CPU\n",
            "\n",
            "Fusing layers... \n",
            "Model summary: 322 layers, 86213788 parameters, 0 gradients, 203.9 GFLOPs\n",
            "1 [[tensor(19.), tensor(84.), tensor(223.), tensor(130.)]]\n",
            "1\n",
            "2 [[tensor(19.), tensor(84.), tensor(223.), tensor(130.)]]\n",
            "[tensor(19.), tensor(84.), tensor(223.), tensor(130.)]\n",
            "image 1/1 /content/yolov5/runs/detect/exp/crops/Panels/kp2.jpg: 288x640 1 blast_sound, 1721.7ms\n",
            "Speed: 1.3ms pre-process, 1721.7ms inference, 1.2ms NMS per image at shape (1, 3, 640, 640)\n",
            "Results saved to \u001b[1mruns/detect/exp3\u001b[0m\n",
            "1 labels saved to runs/detect/exp3/labels\n",
            "\u001b[34m\u001b[1mdetect_speech: \u001b[0mweights=['/content/best_speechballoons.pt'], source=/content/yolov5/runs/detect/exp/crops/Panels/kp3.jpg, data=data/coco128.yaml, imgsz=[640, 640], conf_thres=0.25, iou_thres=0.45, max_det=1000, device=, view_img=False, save_txt=True, save_conf=False, save_crop=True, nosave=False, classes=None, agnostic_nms=False, augment=False, visualize=False, update=False, project=runs/detect, name=exp, exist_ok=False, line_thickness=3, hide_labels=False, hide_conf=False, half=False, dnn=False, vid_stride=1\n",
            "YOLOv5 🚀 v7.0-131-g0c8de3f Python-3.9.16 torch-1.13.1+cu116 CPU\n",
            "\n",
            "Fusing layers... \n",
            "Model summary: 322 layers, 86213788 parameters, 0 gradients, 203.9 GFLOPs\n",
            "1 [[tensor(258.), tensor(22.), tensor(418.), tensor(116.)], [tensor(37.), tensor(9.), tensor(258.), tensor(78.)]]\n",
            "2\n",
            "2 [[tensor(37.), tensor(9.), tensor(258.), tensor(78.)], [tensor(258.), tensor(22.), tensor(418.), tensor(116.)]]\n",
            "[tensor(37.), tensor(9.), tensor(258.), tensor(78.)]\n",
            "[tensor(258.), tensor(22.), tensor(418.), tensor(116.)]\n",
            "image 1/1 /content/yolov5/runs/detect/exp/crops/Panels/kp3.jpg: 480x640 2 General_speechs, 3742.2ms\n",
            "Speed: 2.9ms pre-process, 3742.2ms inference, 1.4ms NMS per image at shape (1, 3, 640, 640)\n",
            "Results saved to \u001b[1mruns/detect/exp4\u001b[0m\n",
            "1 labels saved to runs/detect/exp4/labels\n",
            "\u001b[34m\u001b[1mdetect_speech: \u001b[0mweights=['/content/best_speechballoons.pt'], source=/content/yolov5/runs/detect/exp/crops/Panels/kp4.jpg, data=data/coco128.yaml, imgsz=[640, 640], conf_thres=0.25, iou_thres=0.45, max_det=1000, device=, view_img=False, save_txt=True, save_conf=False, save_crop=True, nosave=False, classes=None, agnostic_nms=False, augment=False, visualize=False, update=False, project=runs/detect, name=exp, exist_ok=False, line_thickness=3, hide_labels=False, hide_conf=False, half=False, dnn=False, vid_stride=1\n",
            "YOLOv5 🚀 v7.0-131-g0c8de3f Python-3.9.16 torch-1.13.1+cu116 CPU\n",
            "\n",
            "Fusing layers... \n",
            "Model summary: 322 layers, 86213788 parameters, 0 gradients, 203.9 GFLOPs\n",
            "1 [[tensor(33.), tensor(72.), tensor(104.), tensor(106.)], [tensor(43.), tensor(40.), tensor(138.), tensor(76.)], [tensor(4.), tensor(101.), tensor(76.), tensor(142.)]]\n",
            "3\n",
            "2 [[tensor(4.), tensor(101.), tensor(76.), tensor(142.)], [tensor(33.), tensor(72.), tensor(104.), tensor(106.)], [tensor(43.), tensor(40.), tensor(138.), tensor(76.)]]\n",
            "[tensor(4.), tensor(101.), tensor(76.), tensor(142.)]\n",
            "[tensor(33.), tensor(72.), tensor(104.), tensor(106.)]\n",
            "[tensor(43.), tensor(40.), tensor(138.), tensor(76.)]\n",
            "image 1/1 /content/yolov5/runs/detect/exp/crops/Panels/kp4.jpg: 640x416 3 General_speechs, 4788.7ms\n",
            "Speed: 2.2ms pre-process, 4788.7ms inference, 1.2ms NMS per image at shape (1, 3, 640, 640)\n",
            "Results saved to \u001b[1mruns/detect/exp5\u001b[0m\n",
            "1 labels saved to runs/detect/exp5/labels\n",
            "\u001b[34m\u001b[1mdetect_speech: \u001b[0mweights=['/content/best_speechballoons.pt'], source=/content/yolov5/runs/detect/exp/crops/Panels/kp5.jpg, data=data/coco128.yaml, imgsz=[640, 640], conf_thres=0.25, iou_thres=0.45, max_det=1000, device=, view_img=False, save_txt=True, save_conf=False, save_crop=True, nosave=False, classes=None, agnostic_nms=False, augment=False, visualize=False, update=False, project=runs/detect, name=exp, exist_ok=False, line_thickness=3, hide_labels=False, hide_conf=False, half=False, dnn=False, vid_stride=1\n",
            "YOLOv5 🚀 v7.0-131-g0c8de3f Python-3.9.16 torch-1.13.1+cu116 CPU\n",
            "\n",
            "Fusing layers... \n",
            "Model summary: 322 layers, 86213788 parameters, 0 gradients, 203.9 GFLOPs\n",
            "1 [[tensor(229.), tensor(14.), tensor(381.), tensor(57.)]]\n",
            "1\n",
            "2 [[tensor(229.), tensor(14.), tensor(381.), tensor(57.)]]\n",
            "[tensor(229.), tensor(14.), tensor(381.), tensor(57.)]\n",
            "image 1/1 /content/yolov5/runs/detect/exp/crops/Panels/kp5.jpg: 192x640 1 narration speech, 1198.2ms\n",
            "Speed: 1.2ms pre-process, 1198.2ms inference, 1.2ms NMS per image at shape (1, 3, 640, 640)\n",
            "Results saved to \u001b[1mruns/detect/exp6\u001b[0m\n",
            "1 labels saved to runs/detect/exp6/labels\n"
          ]
        }
      ]
    },
    {
      "cell_type": "code",
      "source": [
        "# !python /content/yolov5/detect_speech.py --save-crop --save-txt --source /content/Deadpool-Bad-Blood-2022-02-of-04-004_jpg.rf.f2e6cad7568cb28f18a2fdc9bad90788.jpg --weights /content/best_speechballoons.pt\n",
        "# !python detect.py --source  --weights /content/best_speechballoons.pt"
      ],
      "metadata": {
        "colab": {
          "base_uri": "https://localhost:8080/"
        },
        "id": "5jQG8PO6imBu",
        "outputId": "048ba3ad-965e-4f27-a852-d5026ffa356b"
      },
      "execution_count": null,
      "outputs": [
        {
          "output_type": "stream",
          "name": "stdout",
          "text": [
            "\u001b[34m\u001b[1mdetect_speech: \u001b[0mweights=['/content/best_speechballoons.pt'], source=/content/Deadpool-Bad-Blood-2022-02-of-04-004_jpg.rf.f2e6cad7568cb28f18a2fdc9bad90788.jpg, data=data/coco128.yaml, imgsz=[640, 640], conf_thres=0.25, iou_thres=0.45, max_det=1000, device=, view_img=False, save_txt=True, save_conf=False, save_crop=True, nosave=False, classes=None, agnostic_nms=False, augment=False, visualize=False, update=False, project=runs/detect/speech_balloon, name=exp, exist_ok=False, line_thickness=3, hide_labels=False, hide_conf=False, half=False, dnn=False, vid_stride=1\n",
            "YOLOv5 🚀 v7.0-129-gb54fd0a Python-3.9.16 torch-1.13.1+cu116 CPU\n",
            "\n",
            "Fusing layers... \n",
            "Model summary: 322 layers, 86213788 parameters, 0 gradients, 203.9 GFLOPs\n",
            "1 [[tensor(1.), tensor(1.), tensor(81.), tensor(26.)], [tensor(545.), tensor(566.), tensor(640.), tensor(624.)], [tensor(255.), tensor(581.), tensor(315.), tensor(613.)], [tensor(283.), tensor(307.), tensor(450.), tensor(365.)], [tensor(511.), tensor(110.), tensor(568.), tensor(139.)], [tensor(482.), tensor(18.), tensor(597.), tensor(57.)], [tensor(118.), tensor(58.), tensor(200.), tensor(119.)]]\n",
            "7\n",
            "2 [[tensor(1.), tensor(1.), tensor(81.), tensor(26.)], [tensor(118.), tensor(58.), tensor(200.), tensor(119.)], [tensor(482.), tensor(18.), tensor(597.), tensor(57.)], [tensor(511.), tensor(110.), tensor(568.), tensor(139.)], [tensor(283.), tensor(307.), tensor(450.), tensor(365.)], [tensor(255.), tensor(581.), tensor(315.), tensor(613.)], [tensor(545.), tensor(566.), tensor(640.), tensor(624.)]]\n",
            "[tensor(1.), tensor(1.), tensor(81.), tensor(26.)]\n",
            "[tensor(118.), tensor(58.), tensor(200.), tensor(119.)]\n",
            "[tensor(482.), tensor(18.), tensor(597.), tensor(57.)]\n",
            "[tensor(511.), tensor(110.), tensor(568.), tensor(139.)]\n",
            "[tensor(283.), tensor(307.), tensor(450.), tensor(365.)]\n",
            "[tensor(255.), tensor(581.), tensor(315.), tensor(613.)]\n",
            "[tensor(545.), tensor(566.), tensor(640.), tensor(624.)]\n",
            "image 1/1 /content/Deadpool-Bad-Blood-2022-02-of-04-004_jpg.rf.f2e6cad7568cb28f18a2fdc9bad90788.jpg: 640x640 7 General_speechs, 3230.2ms\n",
            "Speed: 6.9ms pre-process, 3230.2ms inference, 1.5ms NMS per image at shape (1, 3, 640, 640)\n",
            "Results saved to \u001b[1mruns/detect/speech_balloon/exp\u001b[0m\n",
            "1 labels saved to runs/detect/speech_balloon/exp/labels\n"
          ]
        }
      ]
    },
    {
      "cell_type": "code",
      "source": [
        "def sorting_speech_balloons(df,panel_number):\n",
        "  sx = df.values.tolist()\n",
        "  sx.sort(key=lambda x:x[2])\n",
        "  #print(sx)\n",
        "  x = []\n",
        "  y = []\n",
        "  k = 0\n",
        "  for i in range(len(sx)):\n",
        "    if sx[i][2] < sx[k][2]+0.1:\n",
        "      x.append(sx[i])\n",
        "      # print(x)\n",
        "    else:\n",
        "      x.sort(key=lambda x:x[1])\n",
        "      for j in range(len(x)):\n",
        "        y.append(x[j])\n",
        "      # print(y)\n",
        "      x = []\n",
        "      # print(x)\n",
        "      x.append(sx[i])\n",
        "      k=i\n",
        "  x.sort(key=lambda x:x[1])\n",
        "  print(\"last\",x)\n",
        "  for p in range(len(x)):\n",
        "    y.append(x[p])\n",
        "  dff = pd.DataFrame(y)\n",
        "  dff.columns = [\"Class\",\"X_center\", \"y_center\", \"height\", \"width\"]\n",
        "  dff.insert(0,'Panel_no',panel_number)\n",
        "  return dff"
      ],
      "metadata": {
        "id": "Cq9RrWy4O3Ky"
      },
      "execution_count": 21,
      "outputs": []
    },
    {
      "cell_type": "code",
      "source": [
        "#Speech_balloon table with distance\n",
        "speech_baloons_paths_main = []\n",
        "temp = []\n",
        "panel_number = 0\n",
        "dataframe = pd.DataFrame(columns = ['Panel_no',\t'Class',\t'X_center',\t'y_center',\t'height',\t'width'])\n",
        "for i in range(2,len(panels)+2):\n",
        "  for root,dir,files in os.walk(os.path.abspath(\"/content/yolov5/runs/detect/exp{0}/labels/\".format(i))):\n",
        "    for file in files:\n",
        "      temp.append(os.path.join(root, file))\n",
        "      print('sddddddddddddd',temp)\n",
        "      # zz = '{fname}'.format(fname=temp)\n",
        "for k in range(len(temp)):\n",
        "  df = pd.read_csv(temp[k], header = None, sep=\" \")\n",
        "  panel_number += 1 \n",
        "  dff = sorting_speech_balloons(df,panel_number)\n",
        "      # print(dff)\n",
        "  dataframe = dataframe.append(dff, ignore_index=True)"
      ],
      "metadata": {
        "colab": {
          "base_uri": "https://localhost:8080/"
        },
        "id": "SqQpDv_FL0CO",
        "outputId": "e678be69-1b07-4486-a8f7-a58c32139e19"
      },
      "execution_count": 26,
      "outputs": [
        {
          "output_type": "stream",
          "name": "stdout",
          "text": [
            "sddddddddddddd ['/content/yolov5/runs/detect/exp2/labels/kp.txt']\n",
            "sddddddddddddd ['/content/yolov5/runs/detect/exp2/labels/kp.txt', '/content/yolov5/runs/detect/exp3/labels/kp2.txt']\n",
            "sddddddddddddd ['/content/yolov5/runs/detect/exp2/labels/kp.txt', '/content/yolov5/runs/detect/exp3/labels/kp2.txt', '/content/yolov5/runs/detect/exp4/labels/kp3.txt']\n",
            "sddddddddddddd ['/content/yolov5/runs/detect/exp2/labels/kp.txt', '/content/yolov5/runs/detect/exp3/labels/kp2.txt', '/content/yolov5/runs/detect/exp4/labels/kp3.txt', '/content/yolov5/runs/detect/exp5/labels/kp4.txt']\n",
            "sddddddddddddd ['/content/yolov5/runs/detect/exp2/labels/kp.txt', '/content/yolov5/runs/detect/exp3/labels/kp2.txt', '/content/yolov5/runs/detect/exp4/labels/kp3.txt', '/content/yolov5/runs/detect/exp5/labels/kp4.txt', '/content/yolov5/runs/detect/exp6/labels/kp5.txt']\n",
            "last [[0.0, 0.205696, 0.334507, 0.373418, 0.34507], [0.0, 0.78481, 0.28169, 0.28481, 0.253521]]\n",
            "last [[1.0, 0.378125, 0.743056, 0.6375, 0.319444]]\n",
            "last [[0.0, 0.329241, 0.135514, 0.493304, 0.214953], [0.0, 0.754464, 0.214953, 0.357143, 0.292835]]\n",
            "last [[0.0, 0.197044, 0.37156, 0.35468, 0.125382]]\n",
            "last [[3.0, 0.476562, 0.198324, 0.2375, 0.240223]]\n"
          ]
        },
        {
          "output_type": "stream",
          "name": "stderr",
          "text": [
            "<ipython-input-26-ea366b18d345>:17: FutureWarning: The frame.append method is deprecated and will be removed from pandas in a future version. Use pandas.concat instead.\n",
            "  dataframe = dataframe.append(dff, ignore_index=True)\n",
            "<ipython-input-26-ea366b18d345>:17: FutureWarning: The frame.append method is deprecated and will be removed from pandas in a future version. Use pandas.concat instead.\n",
            "  dataframe = dataframe.append(dff, ignore_index=True)\n",
            "<ipython-input-26-ea366b18d345>:17: FutureWarning: The frame.append method is deprecated and will be removed from pandas in a future version. Use pandas.concat instead.\n",
            "  dataframe = dataframe.append(dff, ignore_index=True)\n",
            "<ipython-input-26-ea366b18d345>:17: FutureWarning: The frame.append method is deprecated and will be removed from pandas in a future version. Use pandas.concat instead.\n",
            "  dataframe = dataframe.append(dff, ignore_index=True)\n",
            "<ipython-input-26-ea366b18d345>:17: FutureWarning: The frame.append method is deprecated and will be removed from pandas in a future version. Use pandas.concat instead.\n",
            "  dataframe = dataframe.append(dff, ignore_index=True)\n"
          ]
        }
      ]
    },
    {
      "cell_type": "code",
      "source": [
        "dataframe"
      ],
      "metadata": {
        "colab": {
          "base_uri": "https://localhost:8080/",
          "height": 331
        },
        "id": "xOvOg_BmmWKJ",
        "outputId": "ccb77086-e612-4d07-c615-81883d58be98"
      },
      "execution_count": 27,
      "outputs": [
        {
          "output_type": "execute_result",
          "data": {
            "text/plain": [
              "  Panel_no  Class  X_center  y_center    height     width\n",
              "0        1    0.0  0.205696  0.334507  0.373418  0.345070\n",
              "1        1    0.0  0.784810  0.281690  0.284810  0.253521\n",
              "2        2    1.0  0.378125  0.743056  0.637500  0.319444\n",
              "3        3    0.0  0.329241  0.135514  0.493304  0.214953\n",
              "4        3    0.0  0.754464  0.214953  0.357143  0.292835\n",
              "5        4    0.0  0.337438  0.272171  0.349754  0.103976\n",
              "6        4    0.0  0.445813  0.177370  0.467980  0.110092\n",
              "7        4    0.0  0.197044  0.371560  0.354680  0.125382\n",
              "8        5    3.0  0.476562  0.198324  0.237500  0.240223"
            ],
            "text/html": [
              "\n",
              "  <div id=\"df-da23c46a-f6d9-4021-bdda-74c016c5902e\">\n",
              "    <div class=\"colab-df-container\">\n",
              "      <div>\n",
              "<style scoped>\n",
              "    .dataframe tbody tr th:only-of-type {\n",
              "        vertical-align: middle;\n",
              "    }\n",
              "\n",
              "    .dataframe tbody tr th {\n",
              "        vertical-align: top;\n",
              "    }\n",
              "\n",
              "    .dataframe thead th {\n",
              "        text-align: right;\n",
              "    }\n",
              "</style>\n",
              "<table border=\"1\" class=\"dataframe\">\n",
              "  <thead>\n",
              "    <tr style=\"text-align: right;\">\n",
              "      <th></th>\n",
              "      <th>Panel_no</th>\n",
              "      <th>Class</th>\n",
              "      <th>X_center</th>\n",
              "      <th>y_center</th>\n",
              "      <th>height</th>\n",
              "      <th>width</th>\n",
              "    </tr>\n",
              "  </thead>\n",
              "  <tbody>\n",
              "    <tr>\n",
              "      <th>0</th>\n",
              "      <td>1</td>\n",
              "      <td>0.0</td>\n",
              "      <td>0.205696</td>\n",
              "      <td>0.334507</td>\n",
              "      <td>0.373418</td>\n",
              "      <td>0.345070</td>\n",
              "    </tr>\n",
              "    <tr>\n",
              "      <th>1</th>\n",
              "      <td>1</td>\n",
              "      <td>0.0</td>\n",
              "      <td>0.784810</td>\n",
              "      <td>0.281690</td>\n",
              "      <td>0.284810</td>\n",
              "      <td>0.253521</td>\n",
              "    </tr>\n",
              "    <tr>\n",
              "      <th>2</th>\n",
              "      <td>2</td>\n",
              "      <td>1.0</td>\n",
              "      <td>0.378125</td>\n",
              "      <td>0.743056</td>\n",
              "      <td>0.637500</td>\n",
              "      <td>0.319444</td>\n",
              "    </tr>\n",
              "    <tr>\n",
              "      <th>3</th>\n",
              "      <td>3</td>\n",
              "      <td>0.0</td>\n",
              "      <td>0.329241</td>\n",
              "      <td>0.135514</td>\n",
              "      <td>0.493304</td>\n",
              "      <td>0.214953</td>\n",
              "    </tr>\n",
              "    <tr>\n",
              "      <th>4</th>\n",
              "      <td>3</td>\n",
              "      <td>0.0</td>\n",
              "      <td>0.754464</td>\n",
              "      <td>0.214953</td>\n",
              "      <td>0.357143</td>\n",
              "      <td>0.292835</td>\n",
              "    </tr>\n",
              "    <tr>\n",
              "      <th>5</th>\n",
              "      <td>4</td>\n",
              "      <td>0.0</td>\n",
              "      <td>0.337438</td>\n",
              "      <td>0.272171</td>\n",
              "      <td>0.349754</td>\n",
              "      <td>0.103976</td>\n",
              "    </tr>\n",
              "    <tr>\n",
              "      <th>6</th>\n",
              "      <td>4</td>\n",
              "      <td>0.0</td>\n",
              "      <td>0.445813</td>\n",
              "      <td>0.177370</td>\n",
              "      <td>0.467980</td>\n",
              "      <td>0.110092</td>\n",
              "    </tr>\n",
              "    <tr>\n",
              "      <th>7</th>\n",
              "      <td>4</td>\n",
              "      <td>0.0</td>\n",
              "      <td>0.197044</td>\n",
              "      <td>0.371560</td>\n",
              "      <td>0.354680</td>\n",
              "      <td>0.125382</td>\n",
              "    </tr>\n",
              "    <tr>\n",
              "      <th>8</th>\n",
              "      <td>5</td>\n",
              "      <td>3.0</td>\n",
              "      <td>0.476562</td>\n",
              "      <td>0.198324</td>\n",
              "      <td>0.237500</td>\n",
              "      <td>0.240223</td>\n",
              "    </tr>\n",
              "  </tbody>\n",
              "</table>\n",
              "</div>\n",
              "      <button class=\"colab-df-convert\" onclick=\"convertToInteractive('df-da23c46a-f6d9-4021-bdda-74c016c5902e')\"\n",
              "              title=\"Convert this dataframe to an interactive table.\"\n",
              "              style=\"display:none;\">\n",
              "        \n",
              "  <svg xmlns=\"http://www.w3.org/2000/svg\" height=\"24px\"viewBox=\"0 0 24 24\"\n",
              "       width=\"24px\">\n",
              "    <path d=\"M0 0h24v24H0V0z\" fill=\"none\"/>\n",
              "    <path d=\"M18.56 5.44l.94 2.06.94-2.06 2.06-.94-2.06-.94-.94-2.06-.94 2.06-2.06.94zm-11 1L8.5 8.5l.94-2.06 2.06-.94-2.06-.94L8.5 2.5l-.94 2.06-2.06.94zm10 10l.94 2.06.94-2.06 2.06-.94-2.06-.94-.94-2.06-.94 2.06-2.06.94z\"/><path d=\"M17.41 7.96l-1.37-1.37c-.4-.4-.92-.59-1.43-.59-.52 0-1.04.2-1.43.59L10.3 9.45l-7.72 7.72c-.78.78-.78 2.05 0 2.83L4 21.41c.39.39.9.59 1.41.59.51 0 1.02-.2 1.41-.59l7.78-7.78 2.81-2.81c.8-.78.8-2.07 0-2.86zM5.41 20L4 18.59l7.72-7.72 1.47 1.35L5.41 20z\"/>\n",
              "  </svg>\n",
              "      </button>\n",
              "      \n",
              "  <style>\n",
              "    .colab-df-container {\n",
              "      display:flex;\n",
              "      flex-wrap:wrap;\n",
              "      gap: 12px;\n",
              "    }\n",
              "\n",
              "    .colab-df-convert {\n",
              "      background-color: #E8F0FE;\n",
              "      border: none;\n",
              "      border-radius: 50%;\n",
              "      cursor: pointer;\n",
              "      display: none;\n",
              "      fill: #1967D2;\n",
              "      height: 32px;\n",
              "      padding: 0 0 0 0;\n",
              "      width: 32px;\n",
              "    }\n",
              "\n",
              "    .colab-df-convert:hover {\n",
              "      background-color: #E2EBFA;\n",
              "      box-shadow: 0px 1px 2px rgba(60, 64, 67, 0.3), 0px 1px 3px 1px rgba(60, 64, 67, 0.15);\n",
              "      fill: #174EA6;\n",
              "    }\n",
              "\n",
              "    [theme=dark] .colab-df-convert {\n",
              "      background-color: #3B4455;\n",
              "      fill: #D2E3FC;\n",
              "    }\n",
              "\n",
              "    [theme=dark] .colab-df-convert:hover {\n",
              "      background-color: #434B5C;\n",
              "      box-shadow: 0px 1px 3px 1px rgba(0, 0, 0, 0.15);\n",
              "      filter: drop-shadow(0px 1px 2px rgba(0, 0, 0, 0.3));\n",
              "      fill: #FFFFFF;\n",
              "    }\n",
              "  </style>\n",
              "\n",
              "      <script>\n",
              "        const buttonEl =\n",
              "          document.querySelector('#df-da23c46a-f6d9-4021-bdda-74c016c5902e button.colab-df-convert');\n",
              "        buttonEl.style.display =\n",
              "          google.colab.kernel.accessAllowed ? 'block' : 'none';\n",
              "\n",
              "        async function convertToInteractive(key) {\n",
              "          const element = document.querySelector('#df-da23c46a-f6d9-4021-bdda-74c016c5902e');\n",
              "          const dataTable =\n",
              "            await google.colab.kernel.invokeFunction('convertToInteractive',\n",
              "                                                     [key], {});\n",
              "          if (!dataTable) return;\n",
              "\n",
              "          const docLinkHtml = 'Like what you see? Visit the ' +\n",
              "            '<a target=\"_blank\" href=https://colab.research.google.com/notebooks/data_table.ipynb>data table notebook</a>'\n",
              "            + ' to learn more about interactive tables.';\n",
              "          element.innerHTML = '';\n",
              "          dataTable['output_type'] = 'display_data';\n",
              "          await google.colab.output.renderOutput(dataTable, element);\n",
              "          const docLink = document.createElement('div');\n",
              "          docLink.innerHTML = docLinkHtml;\n",
              "          element.appendChild(docLink);\n",
              "        }\n",
              "      </script>\n",
              "    </div>\n",
              "  </div>\n",
              "  "
            ]
          },
          "metadata": {},
          "execution_count": 27
        }
      ]
    },
    {
      "cell_type": "code",
      "source": [
        "# dataframe.update(dff)  Should I update or will it auto,atcally do. Yes"
      ],
      "metadata": {
        "id": "2BGe2mlMPilC"
      },
      "execution_count": 28,
      "outputs": []
    },
    {
      "cell_type": "code",
      "source": [
        "#=================================================================================================================="
      ],
      "metadata": {
        "id": "1-VKAHYrgWh_"
      },
      "execution_count": 72,
      "outputs": []
    },
    {
      "cell_type": "code",
      "source": [],
      "metadata": {
        "id": "vaBJxQy3gWeO"
      },
      "execution_count": null,
      "outputs": []
    },
    {
      "cell_type": "code",
      "source": [
        "beta = []\n",
        "def crop_convex_hull(img):\n",
        "  img = cv.resize(img, (400, 350))\n",
        "  Thresh_original = img.copy()\n",
        "  Hull_biggestarea = img.copy()\n",
        "  gray = cv.cvtColor(img,cv.COLOR_BGR2GRAY)\n",
        "  _,binary = cv.threshold(gray,245,255,cv.THRESH_BINARY)\n",
        "  contours1, hirechay1 = cv.findContours(binary,cv.RETR_EXTERNAL,cv.CHAIN_APPROX_SIMPLE)\n",
        "  con_thresh = cv.drawContours(Thresh_original,contours1, -1,(0,255,0),3) #-1 is to detect all contours, (255,255,255)=>green line, 3=> thickness\n",
        "  #Biggest contours\n",
        "  if len(contours1)>=1:  \n",
        "    biggest_contours = max(contours1, key = cv.contourArea)\n",
        "    hull_biggest = cv.convexHull(biggest_contours)\n",
        "    cv.drawContours(Hull_biggestarea,[hull_biggest],0,(0,0,255),3)\n",
        "    mask = np.zeros(gray.shape, np.uint8)\n",
        "    cv.drawContours(mask, [hull_biggest], 0, 255, -1)\n",
        "    result = cv.bitwise_and(img, img, mask=mask)\n",
        "    # plt.imshow(result)\n",
        "\n",
        "    results = reader.readtext(result)\n",
        "  else:\n",
        "    results = reader.readtext(img)\n",
        "  return results\n",
        "  # return result\n",
        "\n",
        "def preprocess_text(images):\n",
        "  gray = cv.cvtColor(images, cv.COLOR_BGR2GRAY)\n",
        "  enhanced = cv.equalizeHist(gray)\n",
        "  results = reader.readtext(enhanced)\n",
        "  return results\n",
        "def list_text(value):\n",
        "  df = pd.DataFrame(value, columns=['bbox','text','confidence'])\n",
        "  column_to_one_row = df['text'].tolist()\n",
        "  One_sentence = ' '.join(column_to_one_row)\n",
        "  sentence = One_sentence.lower()\n",
        "  beta.append(sentence)\n",
        "  return beta\n",
        "# for i in speech_baloons_paths:\n",
        "#   img = cv.imread(i)\n",
        "#   res = list_text(crop_convex_hull(img))\n",
        "#   print(beta)"
      ],
      "metadata": {
        "id": "l09c0Niwc3X0"
      },
      "execution_count": 64,
      "outputs": []
    },
    {
      "cell_type": "code",
      "source": [
        "speech_baloons_paths = []\n",
        "temp = []\n",
        "for i in range(2,len(panels)+2):\n",
        "  for root,dir,files in os.walk(os.path.abspath(\"/content/yolov5/runs/detect/exp{0}/crops/\".format(i))):\n",
        "    for file in files:\n",
        "      temp.append(os.path.join(root, file))\n",
        "      # print(temp)\n",
        "  temp.sort()\n",
        "  speech_baloons_paths.append(temp)\n",
        "  temp = []\n",
        "for i in range(len(speech_baloons_paths)):\n",
        "  for j in range(len(speech_baloons_paths[i])):\n",
        "    print(speech_baloons_paths[i][j])\n",
        "    img = cv.imread(speech_baloons_paths[i][j])\n",
        "    res = list_text(crop_convex_hull(img))\n",
        "print(beta)"
      ],
      "metadata": {
        "colab": {
          "base_uri": "https://localhost:8080/"
        },
        "id": "TQ_DRSm7c3UG",
        "outputId": "58022bb0-262f-4ef3-f157-65e7c9d208e8"
      },
      "execution_count": 65,
      "outputs": [
        {
          "output_type": "stream",
          "name": "stdout",
          "text": [
            "/content/yolov5/runs/detect/exp2/crops/General_speech/kp.jpg\n",
            "/content/yolov5/runs/detect/exp2/crops/General_speech/kp2.jpg\n",
            "/content/yolov5/runs/detect/exp3/crops/blast_sound/kp.jpg\n",
            "/content/yolov5/runs/detect/exp4/crops/General_speech/kp.jpg\n",
            "/content/yolov5/runs/detect/exp4/crops/General_speech/kp2.jpg\n",
            "/content/yolov5/runs/detect/exp5/crops/General_speech/kp.jpg\n",
            "/content/yolov5/runs/detect/exp5/crops/General_speech/kp2.jpg\n",
            "/content/yolov5/runs/detect/exp5/crops/General_speech/kp3.jpg\n",
            "/content/yolov5/runs/detect/exp6/crops/narration speech/kp.jpg\n",
            "[\"lslt yql won't gfi another chance venom:\", 'thi , enps nowi', '', \"we 'll viscuss yolk betrayal laef\", 'fok he moment thiefe } some thicg toli nlld i0 know. those gentlc men reflr ffacra6 orficers', 'get \"im:', 'wma 2', \"aren't'\", 'ghwow']\n"
          ]
        }
      ]
    },
    {
      "cell_type": "code",
      "source": [
        "# speech_baloons_paths = []\n",
        "# temp = []\n",
        "# for i in range(2,len(panels)+2):\n",
        "#   for root,dir,files in os.walk(os.path.abspath(\"/content/yolov5/runs/detect/speech_balloon/exp{0}/crops/General_speech\".format(i))):\n",
        "#     for file in files:\n",
        "#       temp.append(os.path.join(root, file))\n",
        "#   temp.sort()\n",
        "#   speech_baloons_paths.append(temp)\n",
        "#   temp = []"
      ],
      "metadata": {
        "id": "TU3Eh3cvi41l"
      },
      "execution_count": null,
      "outputs": []
    },
    {
      "cell_type": "code",
      "source": [
        "speech_baloons_paths"
      ],
      "metadata": {
        "colab": {
          "base_uri": "https://localhost:8080/"
        },
        "id": "iom4xniyOlCY",
        "outputId": "e46401ac-76a9-47c0-a14b-2a775aff24ca"
      },
      "execution_count": 38,
      "outputs": [
        {
          "output_type": "execute_result",
          "data": {
            "text/plain": [
              "[['/content/yolov5/runs/detect/exp2/crops/General_speech/kp.jpg',\n",
              "  '/content/yolov5/runs/detect/exp2/crops/General_speech/kp2.jpg'],\n",
              " ['/content/yolov5/runs/detect/exp3/crops/blast_sound/kp.jpg'],\n",
              " ['/content/yolov5/runs/detect/exp4/crops/General_speech/kp.jpg',\n",
              "  '/content/yolov5/runs/detect/exp4/crops/General_speech/kp2.jpg'],\n",
              " ['/content/yolov5/runs/detect/exp5/crops/General_speech/kp.jpg',\n",
              "  '/content/yolov5/runs/detect/exp5/crops/General_speech/kp2.jpg',\n",
              "  '/content/yolov5/runs/detect/exp5/crops/General_speech/kp3.jpg'],\n",
              " ['/content/yolov5/runs/detect/exp6/crops/narration speech/kp.jpg']]"
            ]
          },
          "metadata": {},
          "execution_count": 38
        }
      ]
    },
    {
      "cell_type": "code",
      "source": [
        "speech_baloons_paths[1]"
      ],
      "metadata": {
        "colab": {
          "base_uri": "https://localhost:8080/",
          "height": 35
        },
        "id": "kyjTLBkkeZdV",
        "outputId": "5f9baadf-b66b-441e-a458-ec40c6eecbb8"
      },
      "execution_count": 41,
      "outputs": [
        {
          "output_type": "execute_result",
          "data": {
            "text/plain": [
              "'/content/yolov5/runs/detect/exp3/crops/blast_sound/kp.jpg'"
            ],
            "application/vnd.google.colaboratory.intrinsic+json": {
              "type": "string"
            }
          },
          "metadata": {},
          "execution_count": 41
        }
      ]
    },
    {
      "cell_type": "code",
      "source": [
        "# #Speech_balloon table with distance\n",
        "# for i in range(len(speech_baloons_paths)):\n",
        "#   zz = '{fname}'.format(fname=i)\n",
        "#   df = pd.read_csv(zz, header = None, sep=\" \")\n"
      ],
      "metadata": {
        "colab": {
          "base_uri": "https://localhost:8080/"
        },
        "id": "TnZwfHRIOloU",
        "outputId": "615517bf-4fa6-4100-f7e6-2bcbf5d7c55e"
      },
      "execution_count": null,
      "outputs": [
        {
          "output_type": "execute_result",
          "data": {
            "text/plain": [
              "['/content/yolov5/runs/detect/speech_balloon/exp2/crops/General_speech/kp.jpg']"
            ]
          },
          "metadata": {},
          "execution_count": 39
        }
      ]
    },
    {
      "cell_type": "code",
      "source": [
        "text_dataframe = pd.DataFrame(beta,columns=['Text'])\n",
        "text_dataframe"
      ],
      "metadata": {
        "id": "0dAs-Y8aPvpd",
        "colab": {
          "base_uri": "https://localhost:8080/",
          "height": 331
        },
        "outputId": "d02764a1-542a-4d23-c0e0-d99340d15f98"
      },
      "execution_count": 66,
      "outputs": [
        {
          "output_type": "execute_result",
          "data": {
            "text/plain": [
              "                                                Text\n",
              "0           lslt yql won't gfi another chance venom:\n",
              "1                                    thi , enps nowi\n",
              "2                                                   \n",
              "3                  we 'll viscuss yolk betrayal laef\n",
              "4  fok he moment thiefe } some thicg toli nlld i0...\n",
              "5                                           get \"im:\n",
              "6                                              wma 2\n",
              "7                                            aren't'\n",
              "8                                              ghwow"
            ],
            "text/html": [
              "\n",
              "  <div id=\"df-1cb980bf-ef1f-4839-b64a-26006d13cbfd\">\n",
              "    <div class=\"colab-df-container\">\n",
              "      <div>\n",
              "<style scoped>\n",
              "    .dataframe tbody tr th:only-of-type {\n",
              "        vertical-align: middle;\n",
              "    }\n",
              "\n",
              "    .dataframe tbody tr th {\n",
              "        vertical-align: top;\n",
              "    }\n",
              "\n",
              "    .dataframe thead th {\n",
              "        text-align: right;\n",
              "    }\n",
              "</style>\n",
              "<table border=\"1\" class=\"dataframe\">\n",
              "  <thead>\n",
              "    <tr style=\"text-align: right;\">\n",
              "      <th></th>\n",
              "      <th>Text</th>\n",
              "    </tr>\n",
              "  </thead>\n",
              "  <tbody>\n",
              "    <tr>\n",
              "      <th>0</th>\n",
              "      <td>lslt yql won't gfi another chance venom:</td>\n",
              "    </tr>\n",
              "    <tr>\n",
              "      <th>1</th>\n",
              "      <td>thi , enps nowi</td>\n",
              "    </tr>\n",
              "    <tr>\n",
              "      <th>2</th>\n",
              "      <td></td>\n",
              "    </tr>\n",
              "    <tr>\n",
              "      <th>3</th>\n",
              "      <td>we 'll viscuss yolk betrayal laef</td>\n",
              "    </tr>\n",
              "    <tr>\n",
              "      <th>4</th>\n",
              "      <td>fok he moment thiefe } some thicg toli nlld i0...</td>\n",
              "    </tr>\n",
              "    <tr>\n",
              "      <th>5</th>\n",
              "      <td>get \"im:</td>\n",
              "    </tr>\n",
              "    <tr>\n",
              "      <th>6</th>\n",
              "      <td>wma 2</td>\n",
              "    </tr>\n",
              "    <tr>\n",
              "      <th>7</th>\n",
              "      <td>aren't'</td>\n",
              "    </tr>\n",
              "    <tr>\n",
              "      <th>8</th>\n",
              "      <td>ghwow</td>\n",
              "    </tr>\n",
              "  </tbody>\n",
              "</table>\n",
              "</div>\n",
              "      <button class=\"colab-df-convert\" onclick=\"convertToInteractive('df-1cb980bf-ef1f-4839-b64a-26006d13cbfd')\"\n",
              "              title=\"Convert this dataframe to an interactive table.\"\n",
              "              style=\"display:none;\">\n",
              "        \n",
              "  <svg xmlns=\"http://www.w3.org/2000/svg\" height=\"24px\"viewBox=\"0 0 24 24\"\n",
              "       width=\"24px\">\n",
              "    <path d=\"M0 0h24v24H0V0z\" fill=\"none\"/>\n",
              "    <path d=\"M18.56 5.44l.94 2.06.94-2.06 2.06-.94-2.06-.94-.94-2.06-.94 2.06-2.06.94zm-11 1L8.5 8.5l.94-2.06 2.06-.94-2.06-.94L8.5 2.5l-.94 2.06-2.06.94zm10 10l.94 2.06.94-2.06 2.06-.94-2.06-.94-.94-2.06-.94 2.06-2.06.94z\"/><path d=\"M17.41 7.96l-1.37-1.37c-.4-.4-.92-.59-1.43-.59-.52 0-1.04.2-1.43.59L10.3 9.45l-7.72 7.72c-.78.78-.78 2.05 0 2.83L4 21.41c.39.39.9.59 1.41.59.51 0 1.02-.2 1.41-.59l7.78-7.78 2.81-2.81c.8-.78.8-2.07 0-2.86zM5.41 20L4 18.59l7.72-7.72 1.47 1.35L5.41 20z\"/>\n",
              "  </svg>\n",
              "      </button>\n",
              "      \n",
              "  <style>\n",
              "    .colab-df-container {\n",
              "      display:flex;\n",
              "      flex-wrap:wrap;\n",
              "      gap: 12px;\n",
              "    }\n",
              "\n",
              "    .colab-df-convert {\n",
              "      background-color: #E8F0FE;\n",
              "      border: none;\n",
              "      border-radius: 50%;\n",
              "      cursor: pointer;\n",
              "      display: none;\n",
              "      fill: #1967D2;\n",
              "      height: 32px;\n",
              "      padding: 0 0 0 0;\n",
              "      width: 32px;\n",
              "    }\n",
              "\n",
              "    .colab-df-convert:hover {\n",
              "      background-color: #E2EBFA;\n",
              "      box-shadow: 0px 1px 2px rgba(60, 64, 67, 0.3), 0px 1px 3px 1px rgba(60, 64, 67, 0.15);\n",
              "      fill: #174EA6;\n",
              "    }\n",
              "\n",
              "    [theme=dark] .colab-df-convert {\n",
              "      background-color: #3B4455;\n",
              "      fill: #D2E3FC;\n",
              "    }\n",
              "\n",
              "    [theme=dark] .colab-df-convert:hover {\n",
              "      background-color: #434B5C;\n",
              "      box-shadow: 0px 1px 3px 1px rgba(0, 0, 0, 0.15);\n",
              "      filter: drop-shadow(0px 1px 2px rgba(0, 0, 0, 0.3));\n",
              "      fill: #FFFFFF;\n",
              "    }\n",
              "  </style>\n",
              "\n",
              "      <script>\n",
              "        const buttonEl =\n",
              "          document.querySelector('#df-1cb980bf-ef1f-4839-b64a-26006d13cbfd button.colab-df-convert');\n",
              "        buttonEl.style.display =\n",
              "          google.colab.kernel.accessAllowed ? 'block' : 'none';\n",
              "\n",
              "        async function convertToInteractive(key) {\n",
              "          const element = document.querySelector('#df-1cb980bf-ef1f-4839-b64a-26006d13cbfd');\n",
              "          const dataTable =\n",
              "            await google.colab.kernel.invokeFunction('convertToInteractive',\n",
              "                                                     [key], {});\n",
              "          if (!dataTable) return;\n",
              "\n",
              "          const docLinkHtml = 'Like what you see? Visit the ' +\n",
              "            '<a target=\"_blank\" href=https://colab.research.google.com/notebooks/data_table.ipynb>data table notebook</a>'\n",
              "            + ' to learn more about interactive tables.';\n",
              "          element.innerHTML = '';\n",
              "          dataTable['output_type'] = 'display_data';\n",
              "          await google.colab.output.renderOutput(dataTable, element);\n",
              "          const docLink = document.createElement('div');\n",
              "          docLink.innerHTML = docLinkHtml;\n",
              "          element.appendChild(docLink);\n",
              "        }\n",
              "      </script>\n",
              "    </div>\n",
              "  </div>\n",
              "  "
            ]
          },
          "metadata": {},
          "execution_count": 66
        }
      ]
    },
    {
      "cell_type": "code",
      "source": [
        "Text_dataframe = dataframe.join(text_dataframe['Text'])"
      ],
      "metadata": {
        "id": "-ZstUeAhM4nE"
      },
      "execution_count": 70,
      "outputs": []
    },
    {
      "cell_type": "code",
      "source": [
        "Text_dataframe"
      ],
      "metadata": {
        "colab": {
          "base_uri": "https://localhost:8080/",
          "height": 331
        },
        "id": "n_j2TNLKM4j1",
        "outputId": "01a65144-9d9f-44b7-ad98-c736e5cac0c7"
      },
      "execution_count": 71,
      "outputs": [
        {
          "output_type": "execute_result",
          "data": {
            "text/plain": [
              "  Panel_no  Class  X_center  y_center    height     width  \\\n",
              "0        1    0.0  0.205696  0.334507  0.373418  0.345070   \n",
              "1        1    0.0  0.784810  0.281690  0.284810  0.253521   \n",
              "2        2    1.0  0.378125  0.743056  0.637500  0.319444   \n",
              "3        3    0.0  0.329241  0.135514  0.493304  0.214953   \n",
              "4        3    0.0  0.754464  0.214953  0.357143  0.292835   \n",
              "5        4    0.0  0.337438  0.272171  0.349754  0.103976   \n",
              "6        4    0.0  0.445813  0.177370  0.467980  0.110092   \n",
              "7        4    0.0  0.197044  0.371560  0.354680  0.125382   \n",
              "8        5    3.0  0.476562  0.198324  0.237500  0.240223   \n",
              "\n",
              "                                                Text  \n",
              "0           lslt yql won't gfi another chance venom:  \n",
              "1                                    thi , enps nowi  \n",
              "2                                                     \n",
              "3                  we 'll viscuss yolk betrayal laef  \n",
              "4  fok he moment thiefe } some thicg toli nlld i0...  \n",
              "5                                           get \"im:  \n",
              "6                                              wma 2  \n",
              "7                                            aren't'  \n",
              "8                                              ghwow  "
            ],
            "text/html": [
              "\n",
              "  <div id=\"df-ec21aef5-7542-48cf-8998-ff3b01db551a\">\n",
              "    <div class=\"colab-df-container\">\n",
              "      <div>\n",
              "<style scoped>\n",
              "    .dataframe tbody tr th:only-of-type {\n",
              "        vertical-align: middle;\n",
              "    }\n",
              "\n",
              "    .dataframe tbody tr th {\n",
              "        vertical-align: top;\n",
              "    }\n",
              "\n",
              "    .dataframe thead th {\n",
              "        text-align: right;\n",
              "    }\n",
              "</style>\n",
              "<table border=\"1\" class=\"dataframe\">\n",
              "  <thead>\n",
              "    <tr style=\"text-align: right;\">\n",
              "      <th></th>\n",
              "      <th>Panel_no</th>\n",
              "      <th>Class</th>\n",
              "      <th>X_center</th>\n",
              "      <th>y_center</th>\n",
              "      <th>height</th>\n",
              "      <th>width</th>\n",
              "      <th>Text</th>\n",
              "    </tr>\n",
              "  </thead>\n",
              "  <tbody>\n",
              "    <tr>\n",
              "      <th>0</th>\n",
              "      <td>1</td>\n",
              "      <td>0.0</td>\n",
              "      <td>0.205696</td>\n",
              "      <td>0.334507</td>\n",
              "      <td>0.373418</td>\n",
              "      <td>0.345070</td>\n",
              "      <td>lslt yql won't gfi another chance venom:</td>\n",
              "    </tr>\n",
              "    <tr>\n",
              "      <th>1</th>\n",
              "      <td>1</td>\n",
              "      <td>0.0</td>\n",
              "      <td>0.784810</td>\n",
              "      <td>0.281690</td>\n",
              "      <td>0.284810</td>\n",
              "      <td>0.253521</td>\n",
              "      <td>thi , enps nowi</td>\n",
              "    </tr>\n",
              "    <tr>\n",
              "      <th>2</th>\n",
              "      <td>2</td>\n",
              "      <td>1.0</td>\n",
              "      <td>0.378125</td>\n",
              "      <td>0.743056</td>\n",
              "      <td>0.637500</td>\n",
              "      <td>0.319444</td>\n",
              "      <td></td>\n",
              "    </tr>\n",
              "    <tr>\n",
              "      <th>3</th>\n",
              "      <td>3</td>\n",
              "      <td>0.0</td>\n",
              "      <td>0.329241</td>\n",
              "      <td>0.135514</td>\n",
              "      <td>0.493304</td>\n",
              "      <td>0.214953</td>\n",
              "      <td>we 'll viscuss yolk betrayal laef</td>\n",
              "    </tr>\n",
              "    <tr>\n",
              "      <th>4</th>\n",
              "      <td>3</td>\n",
              "      <td>0.0</td>\n",
              "      <td>0.754464</td>\n",
              "      <td>0.214953</td>\n",
              "      <td>0.357143</td>\n",
              "      <td>0.292835</td>\n",
              "      <td>fok he moment thiefe } some thicg toli nlld i0...</td>\n",
              "    </tr>\n",
              "    <tr>\n",
              "      <th>5</th>\n",
              "      <td>4</td>\n",
              "      <td>0.0</td>\n",
              "      <td>0.337438</td>\n",
              "      <td>0.272171</td>\n",
              "      <td>0.349754</td>\n",
              "      <td>0.103976</td>\n",
              "      <td>get \"im:</td>\n",
              "    </tr>\n",
              "    <tr>\n",
              "      <th>6</th>\n",
              "      <td>4</td>\n",
              "      <td>0.0</td>\n",
              "      <td>0.445813</td>\n",
              "      <td>0.177370</td>\n",
              "      <td>0.467980</td>\n",
              "      <td>0.110092</td>\n",
              "      <td>wma 2</td>\n",
              "    </tr>\n",
              "    <tr>\n",
              "      <th>7</th>\n",
              "      <td>4</td>\n",
              "      <td>0.0</td>\n",
              "      <td>0.197044</td>\n",
              "      <td>0.371560</td>\n",
              "      <td>0.354680</td>\n",
              "      <td>0.125382</td>\n",
              "      <td>aren't'</td>\n",
              "    </tr>\n",
              "    <tr>\n",
              "      <th>8</th>\n",
              "      <td>5</td>\n",
              "      <td>3.0</td>\n",
              "      <td>0.476562</td>\n",
              "      <td>0.198324</td>\n",
              "      <td>0.237500</td>\n",
              "      <td>0.240223</td>\n",
              "      <td>ghwow</td>\n",
              "    </tr>\n",
              "  </tbody>\n",
              "</table>\n",
              "</div>\n",
              "      <button class=\"colab-df-convert\" onclick=\"convertToInteractive('df-ec21aef5-7542-48cf-8998-ff3b01db551a')\"\n",
              "              title=\"Convert this dataframe to an interactive table.\"\n",
              "              style=\"display:none;\">\n",
              "        \n",
              "  <svg xmlns=\"http://www.w3.org/2000/svg\" height=\"24px\"viewBox=\"0 0 24 24\"\n",
              "       width=\"24px\">\n",
              "    <path d=\"M0 0h24v24H0V0z\" fill=\"none\"/>\n",
              "    <path d=\"M18.56 5.44l.94 2.06.94-2.06 2.06-.94-2.06-.94-.94-2.06-.94 2.06-2.06.94zm-11 1L8.5 8.5l.94-2.06 2.06-.94-2.06-.94L8.5 2.5l-.94 2.06-2.06.94zm10 10l.94 2.06.94-2.06 2.06-.94-2.06-.94-.94-2.06-.94 2.06-2.06.94z\"/><path d=\"M17.41 7.96l-1.37-1.37c-.4-.4-.92-.59-1.43-.59-.52 0-1.04.2-1.43.59L10.3 9.45l-7.72 7.72c-.78.78-.78 2.05 0 2.83L4 21.41c.39.39.9.59 1.41.59.51 0 1.02-.2 1.41-.59l7.78-7.78 2.81-2.81c.8-.78.8-2.07 0-2.86zM5.41 20L4 18.59l7.72-7.72 1.47 1.35L5.41 20z\"/>\n",
              "  </svg>\n",
              "      </button>\n",
              "      \n",
              "  <style>\n",
              "    .colab-df-container {\n",
              "      display:flex;\n",
              "      flex-wrap:wrap;\n",
              "      gap: 12px;\n",
              "    }\n",
              "\n",
              "    .colab-df-convert {\n",
              "      background-color: #E8F0FE;\n",
              "      border: none;\n",
              "      border-radius: 50%;\n",
              "      cursor: pointer;\n",
              "      display: none;\n",
              "      fill: #1967D2;\n",
              "      height: 32px;\n",
              "      padding: 0 0 0 0;\n",
              "      width: 32px;\n",
              "    }\n",
              "\n",
              "    .colab-df-convert:hover {\n",
              "      background-color: #E2EBFA;\n",
              "      box-shadow: 0px 1px 2px rgba(60, 64, 67, 0.3), 0px 1px 3px 1px rgba(60, 64, 67, 0.15);\n",
              "      fill: #174EA6;\n",
              "    }\n",
              "\n",
              "    [theme=dark] .colab-df-convert {\n",
              "      background-color: #3B4455;\n",
              "      fill: #D2E3FC;\n",
              "    }\n",
              "\n",
              "    [theme=dark] .colab-df-convert:hover {\n",
              "      background-color: #434B5C;\n",
              "      box-shadow: 0px 1px 3px 1px rgba(0, 0, 0, 0.15);\n",
              "      filter: drop-shadow(0px 1px 2px rgba(0, 0, 0, 0.3));\n",
              "      fill: #FFFFFF;\n",
              "    }\n",
              "  </style>\n",
              "\n",
              "      <script>\n",
              "        const buttonEl =\n",
              "          document.querySelector('#df-ec21aef5-7542-48cf-8998-ff3b01db551a button.colab-df-convert');\n",
              "        buttonEl.style.display =\n",
              "          google.colab.kernel.accessAllowed ? 'block' : 'none';\n",
              "\n",
              "        async function convertToInteractive(key) {\n",
              "          const element = document.querySelector('#df-ec21aef5-7542-48cf-8998-ff3b01db551a');\n",
              "          const dataTable =\n",
              "            await google.colab.kernel.invokeFunction('convertToInteractive',\n",
              "                                                     [key], {});\n",
              "          if (!dataTable) return;\n",
              "\n",
              "          const docLinkHtml = 'Like what you see? Visit the ' +\n",
              "            '<a target=\"_blank\" href=https://colab.research.google.com/notebooks/data_table.ipynb>data table notebook</a>'\n",
              "            + ' to learn more about interactive tables.';\n",
              "          element.innerHTML = '';\n",
              "          dataTable['output_type'] = 'display_data';\n",
              "          await google.colab.output.renderOutput(dataTable, element);\n",
              "          const docLink = document.createElement('div');\n",
              "          docLink.innerHTML = docLinkHtml;\n",
              "          element.appendChild(docLink);\n",
              "        }\n",
              "      </script>\n",
              "    </div>\n",
              "  </div>\n",
              "  "
            ]
          },
          "metadata": {},
          "execution_count": 71
        }
      ]
    },
    {
      "cell_type": "code",
      "source": [
        "\n",
        "# text ballons annotation\n",
        "# text detect"
      ],
      "metadata": {
        "id": "wiiZvE9jM4g5"
      },
      "execution_count": null,
      "outputs": []
    },
    {
      "cell_type": "code",
      "source": [],
      "metadata": {
        "id": "nGrE39CCTyrf"
      },
      "execution_count": null,
      "outputs": []
    },
    {
      "cell_type": "code",
      "source": [],
      "metadata": {
        "id": "UmCfCekATyou"
      },
      "execution_count": null,
      "outputs": []
    },
    {
      "cell_type": "code",
      "source": [],
      "metadata": {
        "id": "YId6ePawTymL"
      },
      "execution_count": null,
      "outputs": []
    },
    {
      "cell_type": "code",
      "source": [],
      "metadata": {
        "id": "DuRs8QVmTyja"
      },
      "execution_count": null,
      "outputs": []
    },
    {
      "cell_type": "code",
      "source": [],
      "metadata": {
        "id": "rnfpjJ_gTygo"
      },
      "execution_count": null,
      "outputs": []
    },
    {
      "cell_type": "code",
      "source": [
        "for i in speech_baloons_paths:\n",
        "  print(i)"
      ],
      "metadata": {
        "colab": {
          "base_uri": "https://localhost:8080/"
        },
        "id": "Ld-uxW3FUa5s",
        "outputId": "11d5a493-c6e5-49db-bcc5-5226c57ec5ca"
      },
      "execution_count": null,
      "outputs": [
        {
          "output_type": "stream",
          "name": "stdout",
          "text": [
            "['/content/yolov5/runs/detect/speech_balloon/exp2/crops/General_speech/kp.jpg']\n",
            "['/content/yolov5/runs/detect/speech_balloon/exp3/crops/General_speech/kp.jpg', '/content/yolov5/runs/detect/speech_balloon/exp3/crops/General_speech/kp2.jpg']\n",
            "['/content/yolov5/runs/detect/speech_balloon/exp4/crops/General_speech/kp.jpg', '/content/yolov5/runs/detect/speech_balloon/exp4/crops/General_speech/kp2.jpg']\n",
            "['/content/yolov5/runs/detect/speech_balloon/exp5/crops/General_speech/kp.jpg']\n"
          ]
        }
      ]
    },
    {
      "cell_type": "code",
      "source": [
        "!python /content/yolov5/detect.py --save-crop --save-txt --source /content/Venomnibus-v01-0004_jpg.rf.24a223739611afb4eb929b77f90c8a93.jpg --weights /content/best_speechballoons.pt"
      ],
      "metadata": {
        "id": "uFAMzM9WUcrg",
        "colab": {
          "base_uri": "https://localhost:8080/"
        },
        "outputId": "7f7ad135-9532-4fc4-bd76-4e9a7ce2bd65"
      },
      "execution_count": 6,
      "outputs": [
        {
          "output_type": "stream",
          "name": "stdout",
          "text": [
            "\u001b[34m\u001b[1mdetect: \u001b[0mweights=['/content/best_speechballoons.pt'], source=/content/Venomnibus-v01-0004_jpg.rf.24a223739611afb4eb929b77f90c8a93.jpg, data=data/coco128.yaml, imgsz=[640, 640], conf_thres=0.25, iou_thres=0.45, max_det=1000, device=, view_img=False, save_txt=True, save_conf=False, save_crop=True, nosave=False, classes=None, agnostic_nms=False, augment=False, visualize=False, update=False, project=runs/detect, name=exp, exist_ok=False, line_thickness=3, hide_labels=False, hide_conf=False, half=False, dnn=False, vid_stride=1\n",
            "YOLOv5 🚀 v7.0-131-g0c8de3f Python-3.9.16 torch-1.13.1+cu116 CPU\n",
            "\n",
            "Fusing layers... \n",
            "Model summary: 322 layers, 86213788 parameters, 0 gradients, 203.9 GFLOPs\n",
            "1 [[tensor(420.), tensor(543.), tensor(527.), tensor(595.)], [tensor(87.), tensor(528.), tensor(194.), tensor(591.)], [tensor(369.), tensor(34.), tensor(601.), tensor(57.)], [tensor(20.), tensor(30.), tensor(159.), tensor(57.)], [tensor(26.), tensor(150.), tensor(288.), tensor(188.)], [tensor(302.), tensor(266.), tensor(403.), tensor(325.)], [tensor(520.), tensor(162.), tensor(597.), tensor(222.)], [tensor(63.), tensor(278.), tensor(200.), tensor(316.)], [tensor(22.), tensor(310.), tensor(111.), tensor(383.)]]\n",
            "9\n",
            "2 [[tensor(20.), tensor(30.), tensor(159.), tensor(57.)], [tensor(369.), tensor(34.), tensor(601.), tensor(57.)], [tensor(26.), tensor(150.), tensor(288.), tensor(188.)], [tensor(520.), tensor(162.), tensor(597.), tensor(222.)], [tensor(22.), tensor(310.), tensor(111.), tensor(383.)], [tensor(63.), tensor(278.), tensor(200.), tensor(316.)], [tensor(302.), tensor(266.), tensor(403.), tensor(325.)], [tensor(87.), tensor(528.), tensor(194.), tensor(591.)], [tensor(420.), tensor(543.), tensor(527.), tensor(595.)]]\n",
            "[tensor(20.), tensor(30.), tensor(159.), tensor(57.)]\n",
            "[tensor(369.), tensor(34.), tensor(601.), tensor(57.)]\n",
            "[tensor(26.), tensor(150.), tensor(288.), tensor(188.)]\n",
            "[tensor(520.), tensor(162.), tensor(597.), tensor(222.)]\n",
            "[tensor(22.), tensor(310.), tensor(111.), tensor(383.)]\n",
            "[tensor(63.), tensor(278.), tensor(200.), tensor(316.)]\n",
            "[tensor(302.), tensor(266.), tensor(403.), tensor(325.)]\n",
            "[tensor(87.), tensor(528.), tensor(194.), tensor(591.)]\n",
            "[tensor(420.), tensor(543.), tensor(527.), tensor(595.)]\n",
            "image 1/1 /content/Venomnibus-v01-0004_jpg.rf.24a223739611afb4eb929b77f90c8a93.jpg: 640x640 4 General_speechs, 5 narration speechs, 3611.5ms\n",
            "Speed: 3.6ms pre-process, 3611.5ms inference, 22.4ms NMS per image at shape (1, 3, 640, 640)\n",
            "Results saved to \u001b[1mruns/detect/exp\u001b[0m\n",
            "1 labels saved to runs/detect/exp/labels\n"
          ]
        }
      ]
    },
    {
      "cell_type": "code",
      "source": [
        "yy = []\n",
        "for root,dir,files in os.walk(os.path.abspath(\"/content/yolov5/runs/detect/exp/labels/\")):\n",
        "  for file in files:\n",
        "    yy.append((os.path.join(root, file)))"
      ],
      "metadata": {
        "id": "4dHTWrTWxSv6"
      },
      "execution_count": 49,
      "outputs": []
    },
    {
      "cell_type": "code",
      "source": [
        "yy"
      ],
      "metadata": {
        "colab": {
          "base_uri": "https://localhost:8080/"
        },
        "id": "ybPgqDhYxcuW",
        "outputId": "89ebce5e-dbaa-4ee2-c2c8-729593d26cf6"
      },
      "execution_count": 50,
      "outputs": [
        {
          "output_type": "execute_result",
          "data": {
            "text/plain": [
              "['/content/yolov5/runs/detect/exp/labels/Venomnibus-v01-0004_jpg.rf.24a223739611afb4eb929b77f90c8a93.txt']"
            ]
          },
          "metadata": {},
          "execution_count": 50
        }
      ]
    },
    {
      "cell_type": "code",
      "source": [
        "zz = '{fname}'.format(fname=yy[0])\n",
        "df = pd.read_csv(zz, header = None, sep=\" \")"
      ],
      "metadata": {
        "id": "_CZBOCvDwjUN"
      },
      "execution_count": 51,
      "outputs": []
    },
    {
      "cell_type": "code",
      "source": [
        "df"
      ],
      "metadata": {
        "colab": {
          "base_uri": "https://localhost:8080/",
          "height": 331
        },
        "id": "mrFjbJ0lxqXa",
        "outputId": "e1fd1df6-bb65-4248-8aab-b7d6b2d021e3"
      },
      "execution_count": 52,
      "outputs": [
        {
          "output_type": "execute_result",
          "data": {
            "text/plain": [
              "   0         1         2         3         4\n",
              "0  0  0.739844  0.889063  0.167187  0.081250\n",
              "1  0  0.219531  0.874219  0.167187  0.098437\n",
              "2  3  0.757812  0.071094  0.362500  0.035937\n",
              "3  3  0.139844  0.067969  0.217187  0.042188\n",
              "4  3  0.245312  0.264062  0.409375  0.059375\n",
              "5  0  0.550781  0.461719  0.157813  0.092188\n",
              "6  3  0.872656  0.300000  0.120312  0.093750\n",
              "7  3  0.205469  0.464063  0.214062  0.059375\n",
              "8  0  0.103906  0.541406  0.139062  0.114063"
            ],
            "text/html": [
              "\n",
              "  <div id=\"df-534fb1ea-2131-4db1-b94f-b2af18b9f745\">\n",
              "    <div class=\"colab-df-container\">\n",
              "      <div>\n",
              "<style scoped>\n",
              "    .dataframe tbody tr th:only-of-type {\n",
              "        vertical-align: middle;\n",
              "    }\n",
              "\n",
              "    .dataframe tbody tr th {\n",
              "        vertical-align: top;\n",
              "    }\n",
              "\n",
              "    .dataframe thead th {\n",
              "        text-align: right;\n",
              "    }\n",
              "</style>\n",
              "<table border=\"1\" class=\"dataframe\">\n",
              "  <thead>\n",
              "    <tr style=\"text-align: right;\">\n",
              "      <th></th>\n",
              "      <th>0</th>\n",
              "      <th>1</th>\n",
              "      <th>2</th>\n",
              "      <th>3</th>\n",
              "      <th>4</th>\n",
              "    </tr>\n",
              "  </thead>\n",
              "  <tbody>\n",
              "    <tr>\n",
              "      <th>0</th>\n",
              "      <td>0</td>\n",
              "      <td>0.739844</td>\n",
              "      <td>0.889063</td>\n",
              "      <td>0.167187</td>\n",
              "      <td>0.081250</td>\n",
              "    </tr>\n",
              "    <tr>\n",
              "      <th>1</th>\n",
              "      <td>0</td>\n",
              "      <td>0.219531</td>\n",
              "      <td>0.874219</td>\n",
              "      <td>0.167187</td>\n",
              "      <td>0.098437</td>\n",
              "    </tr>\n",
              "    <tr>\n",
              "      <th>2</th>\n",
              "      <td>3</td>\n",
              "      <td>0.757812</td>\n",
              "      <td>0.071094</td>\n",
              "      <td>0.362500</td>\n",
              "      <td>0.035937</td>\n",
              "    </tr>\n",
              "    <tr>\n",
              "      <th>3</th>\n",
              "      <td>3</td>\n",
              "      <td>0.139844</td>\n",
              "      <td>0.067969</td>\n",
              "      <td>0.217187</td>\n",
              "      <td>0.042188</td>\n",
              "    </tr>\n",
              "    <tr>\n",
              "      <th>4</th>\n",
              "      <td>3</td>\n",
              "      <td>0.245312</td>\n",
              "      <td>0.264062</td>\n",
              "      <td>0.409375</td>\n",
              "      <td>0.059375</td>\n",
              "    </tr>\n",
              "    <tr>\n",
              "      <th>5</th>\n",
              "      <td>0</td>\n",
              "      <td>0.550781</td>\n",
              "      <td>0.461719</td>\n",
              "      <td>0.157813</td>\n",
              "      <td>0.092188</td>\n",
              "    </tr>\n",
              "    <tr>\n",
              "      <th>6</th>\n",
              "      <td>3</td>\n",
              "      <td>0.872656</td>\n",
              "      <td>0.300000</td>\n",
              "      <td>0.120312</td>\n",
              "      <td>0.093750</td>\n",
              "    </tr>\n",
              "    <tr>\n",
              "      <th>7</th>\n",
              "      <td>3</td>\n",
              "      <td>0.205469</td>\n",
              "      <td>0.464063</td>\n",
              "      <td>0.214062</td>\n",
              "      <td>0.059375</td>\n",
              "    </tr>\n",
              "    <tr>\n",
              "      <th>8</th>\n",
              "      <td>0</td>\n",
              "      <td>0.103906</td>\n",
              "      <td>0.541406</td>\n",
              "      <td>0.139062</td>\n",
              "      <td>0.114063</td>\n",
              "    </tr>\n",
              "  </tbody>\n",
              "</table>\n",
              "</div>\n",
              "      <button class=\"colab-df-convert\" onclick=\"convertToInteractive('df-534fb1ea-2131-4db1-b94f-b2af18b9f745')\"\n",
              "              title=\"Convert this dataframe to an interactive table.\"\n",
              "              style=\"display:none;\">\n",
              "        \n",
              "  <svg xmlns=\"http://www.w3.org/2000/svg\" height=\"24px\"viewBox=\"0 0 24 24\"\n",
              "       width=\"24px\">\n",
              "    <path d=\"M0 0h24v24H0V0z\" fill=\"none\"/>\n",
              "    <path d=\"M18.56 5.44l.94 2.06.94-2.06 2.06-.94-2.06-.94-.94-2.06-.94 2.06-2.06.94zm-11 1L8.5 8.5l.94-2.06 2.06-.94-2.06-.94L8.5 2.5l-.94 2.06-2.06.94zm10 10l.94 2.06.94-2.06 2.06-.94-2.06-.94-.94-2.06-.94 2.06-2.06.94z\"/><path d=\"M17.41 7.96l-1.37-1.37c-.4-.4-.92-.59-1.43-.59-.52 0-1.04.2-1.43.59L10.3 9.45l-7.72 7.72c-.78.78-.78 2.05 0 2.83L4 21.41c.39.39.9.59 1.41.59.51 0 1.02-.2 1.41-.59l7.78-7.78 2.81-2.81c.8-.78.8-2.07 0-2.86zM5.41 20L4 18.59l7.72-7.72 1.47 1.35L5.41 20z\"/>\n",
              "  </svg>\n",
              "      </button>\n",
              "      \n",
              "  <style>\n",
              "    .colab-df-container {\n",
              "      display:flex;\n",
              "      flex-wrap:wrap;\n",
              "      gap: 12px;\n",
              "    }\n",
              "\n",
              "    .colab-df-convert {\n",
              "      background-color: #E8F0FE;\n",
              "      border: none;\n",
              "      border-radius: 50%;\n",
              "      cursor: pointer;\n",
              "      display: none;\n",
              "      fill: #1967D2;\n",
              "      height: 32px;\n",
              "      padding: 0 0 0 0;\n",
              "      width: 32px;\n",
              "    }\n",
              "\n",
              "    .colab-df-convert:hover {\n",
              "      background-color: #E2EBFA;\n",
              "      box-shadow: 0px 1px 2px rgba(60, 64, 67, 0.3), 0px 1px 3px 1px rgba(60, 64, 67, 0.15);\n",
              "      fill: #174EA6;\n",
              "    }\n",
              "\n",
              "    [theme=dark] .colab-df-convert {\n",
              "      background-color: #3B4455;\n",
              "      fill: #D2E3FC;\n",
              "    }\n",
              "\n",
              "    [theme=dark] .colab-df-convert:hover {\n",
              "      background-color: #434B5C;\n",
              "      box-shadow: 0px 1px 3px 1px rgba(0, 0, 0, 0.15);\n",
              "      filter: drop-shadow(0px 1px 2px rgba(0, 0, 0, 0.3));\n",
              "      fill: #FFFFFF;\n",
              "    }\n",
              "  </style>\n",
              "\n",
              "      <script>\n",
              "        const buttonEl =\n",
              "          document.querySelector('#df-534fb1ea-2131-4db1-b94f-b2af18b9f745 button.colab-df-convert');\n",
              "        buttonEl.style.display =\n",
              "          google.colab.kernel.accessAllowed ? 'block' : 'none';\n",
              "\n",
              "        async function convertToInteractive(key) {\n",
              "          const element = document.querySelector('#df-534fb1ea-2131-4db1-b94f-b2af18b9f745');\n",
              "          const dataTable =\n",
              "            await google.colab.kernel.invokeFunction('convertToInteractive',\n",
              "                                                     [key], {});\n",
              "          if (!dataTable) return;\n",
              "\n",
              "          const docLinkHtml = 'Like what you see? Visit the ' +\n",
              "            '<a target=\"_blank\" href=https://colab.research.google.com/notebooks/data_table.ipynb>data table notebook</a>'\n",
              "            + ' to learn more about interactive tables.';\n",
              "          element.innerHTML = '';\n",
              "          dataTable['output_type'] = 'display_data';\n",
              "          await google.colab.output.renderOutput(dataTable, element);\n",
              "          const docLink = document.createElement('div');\n",
              "          docLink.innerHTML = docLinkHtml;\n",
              "          element.appendChild(docLink);\n",
              "        }\n",
              "      </script>\n",
              "    </div>\n",
              "  </div>\n",
              "  "
            ]
          },
          "metadata": {},
          "execution_count": 52
        }
      ]
    },
    {
      "cell_type": "code",
      "source": [
        "def sorting_speech_balloons(sx):\n",
        "  sx = df.values.tolist()\n",
        "  sx.sort(key=lambda x:x[2])\n",
        "  #print(sx)\n",
        "  x = []\n",
        "  y = []\n",
        "  k = 0\n",
        "  for i in range(len(sx)):\n",
        "    if sx[i][2] < sx[k][2]+0.1:\n",
        "      x.append(sx[i])\n",
        "      # print(x)\n",
        "    else:\n",
        "      x.sort(key=lambda x:x[1])\n",
        "      for j in range(len(x)):\n",
        "        y.append(x[j])\n",
        "      # print(y)\n",
        "      x = []\n",
        "      # print(x)\n",
        "      x.append(sx[i])\n",
        "      k=i\n",
        "  x.sort(key=lambda x:x[1])\n",
        "  print(\"last\",x)\n",
        "  for p in range(len(x)):\n",
        "    y.append(x[p])\n",
        "  dff = pd.DataFrame(y)\n",
        "  dff.columns = [\"Class\",\"X_center\", \"y_center\", \"height\", \"width\"]\n",
        "  dff.insert(0,'Panel_no',0)\n",
        "  return dff"
      ],
      "metadata": {
        "id": "ZSx2HMNbNGF4"
      },
      "execution_count": null,
      "outputs": []
    },
    {
      "cell_type": "code",
      "source": [
        "sx = df.values.tolist()\n",
        "\n",
        "sx.sort(key=lambda x:x[2])\n",
        "print(sx)"
      ],
      "metadata": {
        "colab": {
          "base_uri": "https://localhost:8080/"
        },
        "id": "DaIYUC5L8bck",
        "outputId": "7a58380e-d4f7-47e9-bcf5-3a65b997f195"
      },
      "execution_count": 53,
      "outputs": [
        {
          "output_type": "stream",
          "name": "stdout",
          "text": [
            "[[3.0, 0.139844, 0.0679687, 0.217187, 0.0421875], [3.0, 0.757812, 0.0710938, 0.3625, 0.0359375], [3.0, 0.245312, 0.264062, 0.409375, 0.059375], [3.0, 0.872656, 0.3, 0.120312, 0.09375], [0.0, 0.550781, 0.461719, 0.157813, 0.0921875], [3.0, 0.205469, 0.464063, 0.214062, 0.059375], [0.0, 0.103906, 0.541406, 0.139062, 0.114063], [0.0, 0.219531, 0.874219, 0.167187, 0.0984375], [0.0, 0.739844, 0.889063, 0.167187, 0.08125]]\n"
          ]
        }
      ]
    },
    {
      "cell_type": "code",
      "source": [
        "x = []\n",
        "y = []\n",
        "k = 0\n",
        "for i in range(len(sx)):\n",
        "  if sx[i][2] < sx[k][2]+0.1:\n",
        "    x.append(sx[i])\n",
        "    print(x)\n",
        "  else:\n",
        "    x.sort(key=lambda x:x[1])\n",
        "    for j in range(len(x)):\n",
        "      y.append(x[j])\n",
        "    print(y)\n",
        "    x = []\n",
        "    print(x)\n",
        "    x.append(sx[i])\n",
        "    k=i\n",
        "x.sort(key=lambda x:x[1])\n",
        "print(\"last\",x)\n",
        "for p in range(len(x)):\n",
        "  y.append(x[p])\n"
      ],
      "metadata": {
        "colab": {
          "base_uri": "https://localhost:8080/"
        },
        "id": "YR4vjLfhzqAK",
        "outputId": "ac7e9582-15b6-4d6a-b04c-c07051c0c464"
      },
      "execution_count": 57,
      "outputs": [
        {
          "output_type": "stream",
          "name": "stdout",
          "text": [
            "[[3.0, 0.139844, 0.0679687, 0.217187, 0.0421875]]\n",
            "[[3.0, 0.139844, 0.0679687, 0.217187, 0.0421875], [3.0, 0.757812, 0.0710938, 0.3625, 0.0359375]]\n",
            "[[3.0, 0.139844, 0.0679687, 0.217187, 0.0421875], [3.0, 0.757812, 0.0710938, 0.3625, 0.0359375]]\n",
            "[]\n",
            "[[3.0, 0.245312, 0.264062, 0.409375, 0.059375], [3.0, 0.872656, 0.3, 0.120312, 0.09375]]\n",
            "[[3.0, 0.139844, 0.0679687, 0.217187, 0.0421875], [3.0, 0.757812, 0.0710938, 0.3625, 0.0359375], [3.0, 0.245312, 0.264062, 0.409375, 0.059375], [3.0, 0.872656, 0.3, 0.120312, 0.09375]]\n",
            "[]\n",
            "[[0.0, 0.550781, 0.461719, 0.157813, 0.0921875], [3.0, 0.205469, 0.464063, 0.214062, 0.059375]]\n",
            "[[0.0, 0.550781, 0.461719, 0.157813, 0.0921875], [3.0, 0.205469, 0.464063, 0.214062, 0.059375], [0.0, 0.103906, 0.541406, 0.139062, 0.114063]]\n",
            "[[3.0, 0.139844, 0.0679687, 0.217187, 0.0421875], [3.0, 0.757812, 0.0710938, 0.3625, 0.0359375], [3.0, 0.245312, 0.264062, 0.409375, 0.059375], [3.0, 0.872656, 0.3, 0.120312, 0.09375], [0.0, 0.103906, 0.541406, 0.139062, 0.114063], [3.0, 0.205469, 0.464063, 0.214062, 0.059375], [0.0, 0.550781, 0.461719, 0.157813, 0.0921875]]\n",
            "[]\n",
            "[[0.0, 0.219531, 0.874219, 0.167187, 0.0984375], [0.0, 0.739844, 0.889063, 0.167187, 0.08125]]\n",
            "last [[0.0, 0.219531, 0.874219, 0.167187, 0.0984375], [0.0, 0.739844, 0.889063, 0.167187, 0.08125]]\n"
          ]
        }
      ]
    },
    {
      "cell_type": "code",
      "source": [
        "\n",
        "dff = pd.DataFrame(y)\n",
        "dff.columns = [\"Class\",\"X_center\", \"y_center\", \"height\", \"width\"]"
      ],
      "metadata": {
        "id": "jj0THvHN08M0"
      },
      "execution_count": 58,
      "outputs": []
    },
    {
      "cell_type": "code",
      "source": [
        "dff"
      ],
      "metadata": {
        "colab": {
          "base_uri": "https://localhost:8080/",
          "height": 331
        },
        "id": "Y52GiaU60_qJ",
        "outputId": "c4dee1c1-dbd9-46f2-ff5b-508ca1b9e59c"
      },
      "execution_count": 59,
      "outputs": [
        {
          "output_type": "execute_result",
          "data": {
            "text/plain": [
              "   Class  X_center  y_center    height     width\n",
              "0    3.0  0.139844  0.067969  0.217187  0.042188\n",
              "1    3.0  0.757812  0.071094  0.362500  0.035937\n",
              "2    3.0  0.245312  0.264062  0.409375  0.059375\n",
              "3    3.0  0.872656  0.300000  0.120312  0.093750\n",
              "4    0.0  0.103906  0.541406  0.139062  0.114063\n",
              "5    3.0  0.205469  0.464063  0.214062  0.059375\n",
              "6    0.0  0.550781  0.461719  0.157813  0.092188\n",
              "7    0.0  0.219531  0.874219  0.167187  0.098437\n",
              "8    0.0  0.739844  0.889063  0.167187  0.081250"
            ],
            "text/html": [
              "\n",
              "  <div id=\"df-f9e87c68-00d7-450f-b837-96eb8ad7ad68\">\n",
              "    <div class=\"colab-df-container\">\n",
              "      <div>\n",
              "<style scoped>\n",
              "    .dataframe tbody tr th:only-of-type {\n",
              "        vertical-align: middle;\n",
              "    }\n",
              "\n",
              "    .dataframe tbody tr th {\n",
              "        vertical-align: top;\n",
              "    }\n",
              "\n",
              "    .dataframe thead th {\n",
              "        text-align: right;\n",
              "    }\n",
              "</style>\n",
              "<table border=\"1\" class=\"dataframe\">\n",
              "  <thead>\n",
              "    <tr style=\"text-align: right;\">\n",
              "      <th></th>\n",
              "      <th>Class</th>\n",
              "      <th>X_center</th>\n",
              "      <th>y_center</th>\n",
              "      <th>height</th>\n",
              "      <th>width</th>\n",
              "    </tr>\n",
              "  </thead>\n",
              "  <tbody>\n",
              "    <tr>\n",
              "      <th>0</th>\n",
              "      <td>3.0</td>\n",
              "      <td>0.139844</td>\n",
              "      <td>0.067969</td>\n",
              "      <td>0.217187</td>\n",
              "      <td>0.042188</td>\n",
              "    </tr>\n",
              "    <tr>\n",
              "      <th>1</th>\n",
              "      <td>3.0</td>\n",
              "      <td>0.757812</td>\n",
              "      <td>0.071094</td>\n",
              "      <td>0.362500</td>\n",
              "      <td>0.035937</td>\n",
              "    </tr>\n",
              "    <tr>\n",
              "      <th>2</th>\n",
              "      <td>3.0</td>\n",
              "      <td>0.245312</td>\n",
              "      <td>0.264062</td>\n",
              "      <td>0.409375</td>\n",
              "      <td>0.059375</td>\n",
              "    </tr>\n",
              "    <tr>\n",
              "      <th>3</th>\n",
              "      <td>3.0</td>\n",
              "      <td>0.872656</td>\n",
              "      <td>0.300000</td>\n",
              "      <td>0.120312</td>\n",
              "      <td>0.093750</td>\n",
              "    </tr>\n",
              "    <tr>\n",
              "      <th>4</th>\n",
              "      <td>0.0</td>\n",
              "      <td>0.103906</td>\n",
              "      <td>0.541406</td>\n",
              "      <td>0.139062</td>\n",
              "      <td>0.114063</td>\n",
              "    </tr>\n",
              "    <tr>\n",
              "      <th>5</th>\n",
              "      <td>3.0</td>\n",
              "      <td>0.205469</td>\n",
              "      <td>0.464063</td>\n",
              "      <td>0.214062</td>\n",
              "      <td>0.059375</td>\n",
              "    </tr>\n",
              "    <tr>\n",
              "      <th>6</th>\n",
              "      <td>0.0</td>\n",
              "      <td>0.550781</td>\n",
              "      <td>0.461719</td>\n",
              "      <td>0.157813</td>\n",
              "      <td>0.092188</td>\n",
              "    </tr>\n",
              "    <tr>\n",
              "      <th>7</th>\n",
              "      <td>0.0</td>\n",
              "      <td>0.219531</td>\n",
              "      <td>0.874219</td>\n",
              "      <td>0.167187</td>\n",
              "      <td>0.098437</td>\n",
              "    </tr>\n",
              "    <tr>\n",
              "      <th>8</th>\n",
              "      <td>0.0</td>\n",
              "      <td>0.739844</td>\n",
              "      <td>0.889063</td>\n",
              "      <td>0.167187</td>\n",
              "      <td>0.081250</td>\n",
              "    </tr>\n",
              "  </tbody>\n",
              "</table>\n",
              "</div>\n",
              "      <button class=\"colab-df-convert\" onclick=\"convertToInteractive('df-f9e87c68-00d7-450f-b837-96eb8ad7ad68')\"\n",
              "              title=\"Convert this dataframe to an interactive table.\"\n",
              "              style=\"display:none;\">\n",
              "        \n",
              "  <svg xmlns=\"http://www.w3.org/2000/svg\" height=\"24px\"viewBox=\"0 0 24 24\"\n",
              "       width=\"24px\">\n",
              "    <path d=\"M0 0h24v24H0V0z\" fill=\"none\"/>\n",
              "    <path d=\"M18.56 5.44l.94 2.06.94-2.06 2.06-.94-2.06-.94-.94-2.06-.94 2.06-2.06.94zm-11 1L8.5 8.5l.94-2.06 2.06-.94-2.06-.94L8.5 2.5l-.94 2.06-2.06.94zm10 10l.94 2.06.94-2.06 2.06-.94-2.06-.94-.94-2.06-.94 2.06-2.06.94z\"/><path d=\"M17.41 7.96l-1.37-1.37c-.4-.4-.92-.59-1.43-.59-.52 0-1.04.2-1.43.59L10.3 9.45l-7.72 7.72c-.78.78-.78 2.05 0 2.83L4 21.41c.39.39.9.59 1.41.59.51 0 1.02-.2 1.41-.59l7.78-7.78 2.81-2.81c.8-.78.8-2.07 0-2.86zM5.41 20L4 18.59l7.72-7.72 1.47 1.35L5.41 20z\"/>\n",
              "  </svg>\n",
              "      </button>\n",
              "      \n",
              "  <style>\n",
              "    .colab-df-container {\n",
              "      display:flex;\n",
              "      flex-wrap:wrap;\n",
              "      gap: 12px;\n",
              "    }\n",
              "\n",
              "    .colab-df-convert {\n",
              "      background-color: #E8F0FE;\n",
              "      border: none;\n",
              "      border-radius: 50%;\n",
              "      cursor: pointer;\n",
              "      display: none;\n",
              "      fill: #1967D2;\n",
              "      height: 32px;\n",
              "      padding: 0 0 0 0;\n",
              "      width: 32px;\n",
              "    }\n",
              "\n",
              "    .colab-df-convert:hover {\n",
              "      background-color: #E2EBFA;\n",
              "      box-shadow: 0px 1px 2px rgba(60, 64, 67, 0.3), 0px 1px 3px 1px rgba(60, 64, 67, 0.15);\n",
              "      fill: #174EA6;\n",
              "    }\n",
              "\n",
              "    [theme=dark] .colab-df-convert {\n",
              "      background-color: #3B4455;\n",
              "      fill: #D2E3FC;\n",
              "    }\n",
              "\n",
              "    [theme=dark] .colab-df-convert:hover {\n",
              "      background-color: #434B5C;\n",
              "      box-shadow: 0px 1px 3px 1px rgba(0, 0, 0, 0.15);\n",
              "      filter: drop-shadow(0px 1px 2px rgba(0, 0, 0, 0.3));\n",
              "      fill: #FFFFFF;\n",
              "    }\n",
              "  </style>\n",
              "\n",
              "      <script>\n",
              "        const buttonEl =\n",
              "          document.querySelector('#df-f9e87c68-00d7-450f-b837-96eb8ad7ad68 button.colab-df-convert');\n",
              "        buttonEl.style.display =\n",
              "          google.colab.kernel.accessAllowed ? 'block' : 'none';\n",
              "\n",
              "        async function convertToInteractive(key) {\n",
              "          const element = document.querySelector('#df-f9e87c68-00d7-450f-b837-96eb8ad7ad68');\n",
              "          const dataTable =\n",
              "            await google.colab.kernel.invokeFunction('convertToInteractive',\n",
              "                                                     [key], {});\n",
              "          if (!dataTable) return;\n",
              "\n",
              "          const docLinkHtml = 'Like what you see? Visit the ' +\n",
              "            '<a target=\"_blank\" href=https://colab.research.google.com/notebooks/data_table.ipynb>data table notebook</a>'\n",
              "            + ' to learn more about interactive tables.';\n",
              "          element.innerHTML = '';\n",
              "          dataTable['output_type'] = 'display_data';\n",
              "          await google.colab.output.renderOutput(dataTable, element);\n",
              "          const docLink = document.createElement('div');\n",
              "          docLink.innerHTML = docLinkHtml;\n",
              "          element.appendChild(docLink);\n",
              "        }\n",
              "      </script>\n",
              "    </div>\n",
              "  </div>\n",
              "  "
            ]
          },
          "metadata": {},
          "execution_count": 59
        }
      ]
    },
    {
      "cell_type": "code",
      "source": [
        "sx = dff.tolist()"
      ],
      "metadata": {
        "id": "pMN1HhNY70SV"
      },
      "execution_count": null,
      "outputs": []
    },
    {
      "cell_type": "code",
      "source": [
        "x = []\n",
        "y = []\n",
        "k = 0\n",
        "for i in range(len(sx)):\n",
        "  if sx[i][2] < sx[k][2]+0.2:\n",
        "    x.append(sx[i])\n",
        "    print(x)\n",
        "  else:\n",
        "    x.sort(key=lambda x:x[1])\n",
        "    for j in range(len(x)):\n",
        "      y.append(x[j])\n",
        "    print(y)\n",
        "    x = []\n",
        "    print(x)\n",
        "    x.append(sx[i])\n",
        "    k=i\n",
        "x.sort(key=lambda x:x[1])\n",
        "print(\"last\",x)\n",
        "for p in range(len(x)):\n",
        "  y.append(x[p])"
      ],
      "metadata": {
        "id": "xPWnLwu_1Tte"
      },
      "execution_count": null,
      "outputs": []
    },
    {
      "cell_type": "code",
      "source": [],
      "metadata": {
        "id": "CocnY8N634TP"
      },
      "execution_count": null,
      "outputs": []
    },
    {
      "cell_type": "code",
      "source": [],
      "metadata": {
        "id": "EjFAFEhG34Py"
      },
      "execution_count": null,
      "outputs": []
    },
    {
      "cell_type": "code",
      "source": [
        "#Checking the sorting for the table\n",
        "sx = [[56.0, 0.188281, 0.392969],\n",
        " [56.0, 0.549219, 0.442969],\n",
        " [56.0, 0.485938, 0.680469],\n",
        " [50.0, 0.735156, 0.7375],\n",
        " [56.0, 0.550781, 0.764063]]"
      ],
      "metadata": {
        "id": "yav7uO_134NR"
      },
      "execution_count": 28,
      "outputs": []
    },
    {
      "cell_type": "code",
      "source": [
        "sx"
      ],
      "metadata": {
        "colab": {
          "base_uri": "https://localhost:8080/"
        },
        "id": "hwA90Llb3_Pa",
        "outputId": "eeb3a053-517c-4709-e6c0-890154ec3a01"
      },
      "execution_count": 29,
      "outputs": [
        {
          "output_type": "execute_result",
          "data": {
            "text/plain": [
              "[[56.0, 0.188281, 0.392969],\n",
              " [56.0, 0.549219, 0.442969],\n",
              " [56.0, 0.485938, 0.680469],\n",
              " [50.0, 0.735156, 0.7375],\n",
              " [56.0, 0.550781, 0.764063]]"
            ]
          },
          "metadata": {},
          "execution_count": 29
        }
      ]
    },
    {
      "cell_type": "code",
      "source": [
        "x = []\n",
        "y = []\n",
        "k = 0\n",
        "for i in range(len(sx)):\n",
        "  if sx[i][2] < sx[k][2]+0.2:\n",
        "    x.append(sx[i])\n",
        "    print(x)\n",
        "  else:\n",
        "    x.sort(key=lambda x:x[1])\n",
        "    for j in range(len(x)):\n",
        "      y.append(x[j])\n",
        "    print(y)\n",
        "    x = []\n",
        "    print(x)\n",
        "    x.append(sx[i])\n",
        "    k=i\n",
        "x.sort(key=lambda x:x[1])\n",
        "print(\"last\",x)\n",
        "for p in range(len(x)):\n",
        "  y.append(x[p])"
      ],
      "metadata": {
        "colab": {
          "base_uri": "https://localhost:8080/"
        },
        "id": "L_14RUrv3_xC",
        "outputId": "828f01eb-c42d-4edf-c1e3-ff033ea4c197"
      },
      "execution_count": 44,
      "outputs": [
        {
          "output_type": "stream",
          "name": "stdout",
          "text": [
            "[[56.0, 0.188281, 0.392969]]\n",
            "[[56.0, 0.188281, 0.392969], [56.0, 0.549219, 0.442969]]\n",
            "[[56.0, 0.188281, 0.392969], [56.0, 0.549219, 0.442969]]\n",
            "[]\n",
            "[[56.0, 0.485938, 0.680469], [50.0, 0.735156, 0.7375]]\n",
            "[[56.0, 0.485938, 0.680469], [50.0, 0.735156, 0.7375], [56.0, 0.550781, 0.764063]]\n",
            "last [[56.0, 0.485938, 0.680469], [56.0, 0.550781, 0.764063], [50.0, 0.735156, 0.7375]]\n"
          ]
        }
      ]
    },
    {
      "cell_type": "code",
      "source": [
        "y"
      ],
      "metadata": {
        "colab": {
          "base_uri": "https://localhost:8080/"
        },
        "id": "bkvvO6tB5Jkh",
        "outputId": "801d1fdd-4ddb-4799-94a3-9fd7698899c5"
      },
      "execution_count": 45,
      "outputs": [
        {
          "output_type": "execute_result",
          "data": {
            "text/plain": [
              "[[56.0, 0.188281, 0.392969],\n",
              " [56.0, 0.549219, 0.442969],\n",
              " [56.0, 0.485938, 0.680469],\n",
              " [56.0, 0.550781, 0.764063],\n",
              " [50.0, 0.735156, 0.7375]]"
            ]
          },
          "metadata": {},
          "execution_count": 45
        }
      ]
    },
    {
      "cell_type": "code",
      "source": [
        "zxz=[[56.0, 0.485938, 0.680469], [50.0, 0.735156, 0.7375], [56.0, 0.550781, 0.764063]]\n"
      ],
      "metadata": {
        "id": "eTi3IsmN5KB-"
      },
      "execution_count": 41,
      "outputs": []
    },
    {
      "cell_type": "code",
      "source": [
        "# zxz[1].sort()\n",
        "\n",
        "zxz.sort(key=lambda x:x[1])\n",
        "     \n"
      ],
      "metadata": {
        "id": "86gX8W4Q6xha"
      },
      "execution_count": 42,
      "outputs": []
    },
    {
      "cell_type": "code",
      "source": [
        "zxz"
      ],
      "metadata": {
        "colab": {
          "base_uri": "https://localhost:8080/"
        },
        "id": "qkPZQbfB6y6x",
        "outputId": "afbf8a9a-2e67-4d59-9229-c5503c27f3d3"
      },
      "execution_count": 43,
      "outputs": [
        {
          "output_type": "execute_result",
          "data": {
            "text/plain": [
              "[[56.0, 0.485938, 0.680469],\n",
              " [56.0, 0.550781, 0.764063],\n",
              " [50.0, 0.735156, 0.7375]]"
            ]
          },
          "metadata": {},
          "execution_count": 43
        }
      ]
    },
    {
      "cell_type": "code",
      "source": [
        "pp = [['/content/yolov5/runs/detect/speech_balloon/exp2/crops/General_speech/kp.jpg'],\n",
        " ['/content/yolov5/runs/detect/speech_balloon/exp3/crops/General_speech/kp.jpg',\n",
        "  '/content/yolov5/runs/detect/speech_balloon/exp3/crops/General_speech/kp2.jpg'],\n",
        " ['/content/yolov5/runs/detect/speech_balloon/exp4/crops/General_speech/kp.jpg',\n",
        "  '/content/yolov5/runs/detect/speech_balloon/exp4/crops/General_speech/kp2.jpg'],\n",
        " ['/content/yolov5/runs/detect/speech_balloon/exp5/crops/General_speech/kp.jpg']]"
      ],
      "metadata": {
        "id": "VLoYkN-m6zp5"
      },
      "execution_count": 60,
      "outputs": []
    },
    {
      "cell_type": "code",
      "source": [
        "pp[1]"
      ],
      "metadata": {
        "colab": {
          "base_uri": "https://localhost:8080/"
        },
        "id": "sQgiKH3SE1WY",
        "outputId": "38a476af-2507-4194-a70a-c4e733de03cf"
      },
      "execution_count": 64,
      "outputs": [
        {
          "output_type": "execute_result",
          "data": {
            "text/plain": [
              "['/content/yolov5/runs/detect/speech_balloon/exp3/crops/General_speech/kp.jpg',\n",
              " '/content/yolov5/runs/detect/speech_balloon/exp3/crops/General_speech/kp2.jpg']"
            ]
          },
          "metadata": {},
          "execution_count": 64
        }
      ]
    },
    {
      "cell_type": "code",
      "source": [
        "for i in range(len(pp)):\n",
        "  for j in range(len(pp[i])):\n",
        "    print(pp[i][j])\n",
        "  "
      ],
      "metadata": {
        "colab": {
          "base_uri": "https://localhost:8080/"
        },
        "id": "2Ai_dIZ4E2JY",
        "outputId": "2658dcdb-2a26-4c2d-a643-6817a1490377"
      },
      "execution_count": 68,
      "outputs": [
        {
          "output_type": "stream",
          "name": "stdout",
          "text": [
            "/content/yolov5/runs/detect/speech_balloon/exp2/crops/General_speech/kp.jpg\n",
            "/content/yolov5/runs/detect/speech_balloon/exp3/crops/General_speech/kp.jpg\n",
            "/content/yolov5/runs/detect/speech_balloon/exp3/crops/General_speech/kp2.jpg\n",
            "/content/yolov5/runs/detect/speech_balloon/exp4/crops/General_speech/kp.jpg\n",
            "/content/yolov5/runs/detect/speech_balloon/exp4/crops/General_speech/kp2.jpg\n",
            "/content/yolov5/runs/detect/speech_balloon/exp5/crops/General_speech/kp.jpg\n"
          ]
        }
      ]
    },
    {
      "cell_type": "code",
      "source": [
        "dff"
      ],
      "metadata": {
        "colab": {
          "base_uri": "https://localhost:8080/",
          "height": 331
        },
        "id": "9PmN8CwmFbBm",
        "outputId": "8d2519fc-ea7f-4883-9d06-7e47adaaae1f"
      },
      "execution_count": 69,
      "outputs": [
        {
          "output_type": "execute_result",
          "data": {
            "text/plain": [
              "   Class  X_center  y_center    height     width\n",
              "0    3.0  0.139844  0.067969  0.217187  0.042188\n",
              "1    3.0  0.757812  0.071094  0.362500  0.035937\n",
              "2    3.0  0.245312  0.264062  0.409375  0.059375\n",
              "3    3.0  0.872656  0.300000  0.120312  0.093750\n",
              "4    0.0  0.103906  0.541406  0.139062  0.114063\n",
              "5    3.0  0.205469  0.464063  0.214062  0.059375\n",
              "6    0.0  0.550781  0.461719  0.157813  0.092188\n",
              "7    0.0  0.219531  0.874219  0.167187  0.098437\n",
              "8    0.0  0.739844  0.889063  0.167187  0.081250"
            ],
            "text/html": [
              "\n",
              "  <div id=\"df-c7091d21-9fec-4e99-b8a9-dc44ac55a94b\">\n",
              "    <div class=\"colab-df-container\">\n",
              "      <div>\n",
              "<style scoped>\n",
              "    .dataframe tbody tr th:only-of-type {\n",
              "        vertical-align: middle;\n",
              "    }\n",
              "\n",
              "    .dataframe tbody tr th {\n",
              "        vertical-align: top;\n",
              "    }\n",
              "\n",
              "    .dataframe thead th {\n",
              "        text-align: right;\n",
              "    }\n",
              "</style>\n",
              "<table border=\"1\" class=\"dataframe\">\n",
              "  <thead>\n",
              "    <tr style=\"text-align: right;\">\n",
              "      <th></th>\n",
              "      <th>Class</th>\n",
              "      <th>X_center</th>\n",
              "      <th>y_center</th>\n",
              "      <th>height</th>\n",
              "      <th>width</th>\n",
              "    </tr>\n",
              "  </thead>\n",
              "  <tbody>\n",
              "    <tr>\n",
              "      <th>0</th>\n",
              "      <td>3.0</td>\n",
              "      <td>0.139844</td>\n",
              "      <td>0.067969</td>\n",
              "      <td>0.217187</td>\n",
              "      <td>0.042188</td>\n",
              "    </tr>\n",
              "    <tr>\n",
              "      <th>1</th>\n",
              "      <td>3.0</td>\n",
              "      <td>0.757812</td>\n",
              "      <td>0.071094</td>\n",
              "      <td>0.362500</td>\n",
              "      <td>0.035937</td>\n",
              "    </tr>\n",
              "    <tr>\n",
              "      <th>2</th>\n",
              "      <td>3.0</td>\n",
              "      <td>0.245312</td>\n",
              "      <td>0.264062</td>\n",
              "      <td>0.409375</td>\n",
              "      <td>0.059375</td>\n",
              "    </tr>\n",
              "    <tr>\n",
              "      <th>3</th>\n",
              "      <td>3.0</td>\n",
              "      <td>0.872656</td>\n",
              "      <td>0.300000</td>\n",
              "      <td>0.120312</td>\n",
              "      <td>0.093750</td>\n",
              "    </tr>\n",
              "    <tr>\n",
              "      <th>4</th>\n",
              "      <td>0.0</td>\n",
              "      <td>0.103906</td>\n",
              "      <td>0.541406</td>\n",
              "      <td>0.139062</td>\n",
              "      <td>0.114063</td>\n",
              "    </tr>\n",
              "    <tr>\n",
              "      <th>5</th>\n",
              "      <td>3.0</td>\n",
              "      <td>0.205469</td>\n",
              "      <td>0.464063</td>\n",
              "      <td>0.214062</td>\n",
              "      <td>0.059375</td>\n",
              "    </tr>\n",
              "    <tr>\n",
              "      <th>6</th>\n",
              "      <td>0.0</td>\n",
              "      <td>0.550781</td>\n",
              "      <td>0.461719</td>\n",
              "      <td>0.157813</td>\n",
              "      <td>0.092188</td>\n",
              "    </tr>\n",
              "    <tr>\n",
              "      <th>7</th>\n",
              "      <td>0.0</td>\n",
              "      <td>0.219531</td>\n",
              "      <td>0.874219</td>\n",
              "      <td>0.167187</td>\n",
              "      <td>0.098437</td>\n",
              "    </tr>\n",
              "    <tr>\n",
              "      <th>8</th>\n",
              "      <td>0.0</td>\n",
              "      <td>0.739844</td>\n",
              "      <td>0.889063</td>\n",
              "      <td>0.167187</td>\n",
              "      <td>0.081250</td>\n",
              "    </tr>\n",
              "  </tbody>\n",
              "</table>\n",
              "</div>\n",
              "      <button class=\"colab-df-convert\" onclick=\"convertToInteractive('df-c7091d21-9fec-4e99-b8a9-dc44ac55a94b')\"\n",
              "              title=\"Convert this dataframe to an interactive table.\"\n",
              "              style=\"display:none;\">\n",
              "        \n",
              "  <svg xmlns=\"http://www.w3.org/2000/svg\" height=\"24px\"viewBox=\"0 0 24 24\"\n",
              "       width=\"24px\">\n",
              "    <path d=\"M0 0h24v24H0V0z\" fill=\"none\"/>\n",
              "    <path d=\"M18.56 5.44l.94 2.06.94-2.06 2.06-.94-2.06-.94-.94-2.06-.94 2.06-2.06.94zm-11 1L8.5 8.5l.94-2.06 2.06-.94-2.06-.94L8.5 2.5l-.94 2.06-2.06.94zm10 10l.94 2.06.94-2.06 2.06-.94-2.06-.94-.94-2.06-.94 2.06-2.06.94z\"/><path d=\"M17.41 7.96l-1.37-1.37c-.4-.4-.92-.59-1.43-.59-.52 0-1.04.2-1.43.59L10.3 9.45l-7.72 7.72c-.78.78-.78 2.05 0 2.83L4 21.41c.39.39.9.59 1.41.59.51 0 1.02-.2 1.41-.59l7.78-7.78 2.81-2.81c.8-.78.8-2.07 0-2.86zM5.41 20L4 18.59l7.72-7.72 1.47 1.35L5.41 20z\"/>\n",
              "  </svg>\n",
              "      </button>\n",
              "      \n",
              "  <style>\n",
              "    .colab-df-container {\n",
              "      display:flex;\n",
              "      flex-wrap:wrap;\n",
              "      gap: 12px;\n",
              "    }\n",
              "\n",
              "    .colab-df-convert {\n",
              "      background-color: #E8F0FE;\n",
              "      border: none;\n",
              "      border-radius: 50%;\n",
              "      cursor: pointer;\n",
              "      display: none;\n",
              "      fill: #1967D2;\n",
              "      height: 32px;\n",
              "      padding: 0 0 0 0;\n",
              "      width: 32px;\n",
              "    }\n",
              "\n",
              "    .colab-df-convert:hover {\n",
              "      background-color: #E2EBFA;\n",
              "      box-shadow: 0px 1px 2px rgba(60, 64, 67, 0.3), 0px 1px 3px 1px rgba(60, 64, 67, 0.15);\n",
              "      fill: #174EA6;\n",
              "    }\n",
              "\n",
              "    [theme=dark] .colab-df-convert {\n",
              "      background-color: #3B4455;\n",
              "      fill: #D2E3FC;\n",
              "    }\n",
              "\n",
              "    [theme=dark] .colab-df-convert:hover {\n",
              "      background-color: #434B5C;\n",
              "      box-shadow: 0px 1px 3px 1px rgba(0, 0, 0, 0.15);\n",
              "      filter: drop-shadow(0px 1px 2px rgba(0, 0, 0, 0.3));\n",
              "      fill: #FFFFFF;\n",
              "    }\n",
              "  </style>\n",
              "\n",
              "      <script>\n",
              "        const buttonEl =\n",
              "          document.querySelector('#df-c7091d21-9fec-4e99-b8a9-dc44ac55a94b button.colab-df-convert');\n",
              "        buttonEl.style.display =\n",
              "          google.colab.kernel.accessAllowed ? 'block' : 'none';\n",
              "\n",
              "        async function convertToInteractive(key) {\n",
              "          const element = document.querySelector('#df-c7091d21-9fec-4e99-b8a9-dc44ac55a94b');\n",
              "          const dataTable =\n",
              "            await google.colab.kernel.invokeFunction('convertToInteractive',\n",
              "                                                     [key], {});\n",
              "          if (!dataTable) return;\n",
              "\n",
              "          const docLinkHtml = 'Like what you see? Visit the ' +\n",
              "            '<a target=\"_blank\" href=https://colab.research.google.com/notebooks/data_table.ipynb>data table notebook</a>'\n",
              "            + ' to learn more about interactive tables.';\n",
              "          element.innerHTML = '';\n",
              "          dataTable['output_type'] = 'display_data';\n",
              "          await google.colab.output.renderOutput(dataTable, element);\n",
              "          const docLink = document.createElement('div');\n",
              "          docLink.innerHTML = docLinkHtml;\n",
              "          element.appendChild(docLink);\n",
              "        }\n",
              "      </script>\n",
              "    </div>\n",
              "  </div>\n",
              "  "
            ]
          },
          "metadata": {},
          "execution_count": 69
        }
      ]
    },
    {
      "cell_type": "code",
      "source": [
        "dff.insert(0,'Panel_no',0)"
      ],
      "metadata": {
        "id": "6RkloE4yN2BK"
      },
      "execution_count": 70,
      "outputs": []
    },
    {
      "cell_type": "code",
      "source": [
        "dff"
      ],
      "metadata": {
        "colab": {
          "base_uri": "https://localhost:8080/",
          "height": 331
        },
        "id": "41pu_BYeOT_y",
        "outputId": "f903ab04-3531-4cb6-c6d8-3796740e66a8"
      },
      "execution_count": 71,
      "outputs": [
        {
          "output_type": "execute_result",
          "data": {
            "text/plain": [
              "   Panel_no  Class  X_center  y_center    height     width\n",
              "0         0    3.0  0.139844  0.067969  0.217187  0.042188\n",
              "1         0    3.0  0.757812  0.071094  0.362500  0.035937\n",
              "2         0    3.0  0.245312  0.264062  0.409375  0.059375\n",
              "3         0    3.0  0.872656  0.300000  0.120312  0.093750\n",
              "4         0    0.0  0.103906  0.541406  0.139062  0.114063\n",
              "5         0    3.0  0.205469  0.464063  0.214062  0.059375\n",
              "6         0    0.0  0.550781  0.461719  0.157813  0.092188\n",
              "7         0    0.0  0.219531  0.874219  0.167187  0.098437\n",
              "8         0    0.0  0.739844  0.889063  0.167187  0.081250"
            ],
            "text/html": [
              "\n",
              "  <div id=\"df-1cae41a4-5e4d-48b9-8c7b-ab8e294f91d1\">\n",
              "    <div class=\"colab-df-container\">\n",
              "      <div>\n",
              "<style scoped>\n",
              "    .dataframe tbody tr th:only-of-type {\n",
              "        vertical-align: middle;\n",
              "    }\n",
              "\n",
              "    .dataframe tbody tr th {\n",
              "        vertical-align: top;\n",
              "    }\n",
              "\n",
              "    .dataframe thead th {\n",
              "        text-align: right;\n",
              "    }\n",
              "</style>\n",
              "<table border=\"1\" class=\"dataframe\">\n",
              "  <thead>\n",
              "    <tr style=\"text-align: right;\">\n",
              "      <th></th>\n",
              "      <th>Panel_no</th>\n",
              "      <th>Class</th>\n",
              "      <th>X_center</th>\n",
              "      <th>y_center</th>\n",
              "      <th>height</th>\n",
              "      <th>width</th>\n",
              "    </tr>\n",
              "  </thead>\n",
              "  <tbody>\n",
              "    <tr>\n",
              "      <th>0</th>\n",
              "      <td>0</td>\n",
              "      <td>3.0</td>\n",
              "      <td>0.139844</td>\n",
              "      <td>0.067969</td>\n",
              "      <td>0.217187</td>\n",
              "      <td>0.042188</td>\n",
              "    </tr>\n",
              "    <tr>\n",
              "      <th>1</th>\n",
              "      <td>0</td>\n",
              "      <td>3.0</td>\n",
              "      <td>0.757812</td>\n",
              "      <td>0.071094</td>\n",
              "      <td>0.362500</td>\n",
              "      <td>0.035937</td>\n",
              "    </tr>\n",
              "    <tr>\n",
              "      <th>2</th>\n",
              "      <td>0</td>\n",
              "      <td>3.0</td>\n",
              "      <td>0.245312</td>\n",
              "      <td>0.264062</td>\n",
              "      <td>0.409375</td>\n",
              "      <td>0.059375</td>\n",
              "    </tr>\n",
              "    <tr>\n",
              "      <th>3</th>\n",
              "      <td>0</td>\n",
              "      <td>3.0</td>\n",
              "      <td>0.872656</td>\n",
              "      <td>0.300000</td>\n",
              "      <td>0.120312</td>\n",
              "      <td>0.093750</td>\n",
              "    </tr>\n",
              "    <tr>\n",
              "      <th>4</th>\n",
              "      <td>0</td>\n",
              "      <td>0.0</td>\n",
              "      <td>0.103906</td>\n",
              "      <td>0.541406</td>\n",
              "      <td>0.139062</td>\n",
              "      <td>0.114063</td>\n",
              "    </tr>\n",
              "    <tr>\n",
              "      <th>5</th>\n",
              "      <td>0</td>\n",
              "      <td>3.0</td>\n",
              "      <td>0.205469</td>\n",
              "      <td>0.464063</td>\n",
              "      <td>0.214062</td>\n",
              "      <td>0.059375</td>\n",
              "    </tr>\n",
              "    <tr>\n",
              "      <th>6</th>\n",
              "      <td>0</td>\n",
              "      <td>0.0</td>\n",
              "      <td>0.550781</td>\n",
              "      <td>0.461719</td>\n",
              "      <td>0.157813</td>\n",
              "      <td>0.092188</td>\n",
              "    </tr>\n",
              "    <tr>\n",
              "      <th>7</th>\n",
              "      <td>0</td>\n",
              "      <td>0.0</td>\n",
              "      <td>0.219531</td>\n",
              "      <td>0.874219</td>\n",
              "      <td>0.167187</td>\n",
              "      <td>0.098437</td>\n",
              "    </tr>\n",
              "    <tr>\n",
              "      <th>8</th>\n",
              "      <td>0</td>\n",
              "      <td>0.0</td>\n",
              "      <td>0.739844</td>\n",
              "      <td>0.889063</td>\n",
              "      <td>0.167187</td>\n",
              "      <td>0.081250</td>\n",
              "    </tr>\n",
              "  </tbody>\n",
              "</table>\n",
              "</div>\n",
              "      <button class=\"colab-df-convert\" onclick=\"convertToInteractive('df-1cae41a4-5e4d-48b9-8c7b-ab8e294f91d1')\"\n",
              "              title=\"Convert this dataframe to an interactive table.\"\n",
              "              style=\"display:none;\">\n",
              "        \n",
              "  <svg xmlns=\"http://www.w3.org/2000/svg\" height=\"24px\"viewBox=\"0 0 24 24\"\n",
              "       width=\"24px\">\n",
              "    <path d=\"M0 0h24v24H0V0z\" fill=\"none\"/>\n",
              "    <path d=\"M18.56 5.44l.94 2.06.94-2.06 2.06-.94-2.06-.94-.94-2.06-.94 2.06-2.06.94zm-11 1L8.5 8.5l.94-2.06 2.06-.94-2.06-.94L8.5 2.5l-.94 2.06-2.06.94zm10 10l.94 2.06.94-2.06 2.06-.94-2.06-.94-.94-2.06-.94 2.06-2.06.94z\"/><path d=\"M17.41 7.96l-1.37-1.37c-.4-.4-.92-.59-1.43-.59-.52 0-1.04.2-1.43.59L10.3 9.45l-7.72 7.72c-.78.78-.78 2.05 0 2.83L4 21.41c.39.39.9.59 1.41.59.51 0 1.02-.2 1.41-.59l7.78-7.78 2.81-2.81c.8-.78.8-2.07 0-2.86zM5.41 20L4 18.59l7.72-7.72 1.47 1.35L5.41 20z\"/>\n",
              "  </svg>\n",
              "      </button>\n",
              "      \n",
              "  <style>\n",
              "    .colab-df-container {\n",
              "      display:flex;\n",
              "      flex-wrap:wrap;\n",
              "      gap: 12px;\n",
              "    }\n",
              "\n",
              "    .colab-df-convert {\n",
              "      background-color: #E8F0FE;\n",
              "      border: none;\n",
              "      border-radius: 50%;\n",
              "      cursor: pointer;\n",
              "      display: none;\n",
              "      fill: #1967D2;\n",
              "      height: 32px;\n",
              "      padding: 0 0 0 0;\n",
              "      width: 32px;\n",
              "    }\n",
              "\n",
              "    .colab-df-convert:hover {\n",
              "      background-color: #E2EBFA;\n",
              "      box-shadow: 0px 1px 2px rgba(60, 64, 67, 0.3), 0px 1px 3px 1px rgba(60, 64, 67, 0.15);\n",
              "      fill: #174EA6;\n",
              "    }\n",
              "\n",
              "    [theme=dark] .colab-df-convert {\n",
              "      background-color: #3B4455;\n",
              "      fill: #D2E3FC;\n",
              "    }\n",
              "\n",
              "    [theme=dark] .colab-df-convert:hover {\n",
              "      background-color: #434B5C;\n",
              "      box-shadow: 0px 1px 3px 1px rgba(0, 0, 0, 0.15);\n",
              "      filter: drop-shadow(0px 1px 2px rgba(0, 0, 0, 0.3));\n",
              "      fill: #FFFFFF;\n",
              "    }\n",
              "  </style>\n",
              "\n",
              "      <script>\n",
              "        const buttonEl =\n",
              "          document.querySelector('#df-1cae41a4-5e4d-48b9-8c7b-ab8e294f91d1 button.colab-df-convert');\n",
              "        buttonEl.style.display =\n",
              "          google.colab.kernel.accessAllowed ? 'block' : 'none';\n",
              "\n",
              "        async function convertToInteractive(key) {\n",
              "          const element = document.querySelector('#df-1cae41a4-5e4d-48b9-8c7b-ab8e294f91d1');\n",
              "          const dataTable =\n",
              "            await google.colab.kernel.invokeFunction('convertToInteractive',\n",
              "                                                     [key], {});\n",
              "          if (!dataTable) return;\n",
              "\n",
              "          const docLinkHtml = 'Like what you see? Visit the ' +\n",
              "            '<a target=\"_blank\" href=https://colab.research.google.com/notebooks/data_table.ipynb>data table notebook</a>'\n",
              "            + ' to learn more about interactive tables.';\n",
              "          element.innerHTML = '';\n",
              "          dataTable['output_type'] = 'display_data';\n",
              "          await google.colab.output.renderOutput(dataTable, element);\n",
              "          const docLink = document.createElement('div');\n",
              "          docLink.innerHTML = docLinkHtml;\n",
              "          element.appendChild(docLink);\n",
              "        }\n",
              "      </script>\n",
              "    </div>\n",
              "  </div>\n",
              "  "
            ]
          },
          "metadata": {},
          "execution_count": 71
        }
      ]
    },
    {
      "cell_type": "code",
      "source": [
        "import pandas as pd\n",
        "\n",
        "# create a sample dataframe\n",
        "data = {'name': ['John', 'Sara', 'Mia'],\n",
        "        'age': [25, 30, 35],\n",
        "        'gender': ['male', 'female', 'female']}\n",
        "df = pd.DataFrame(data)\n",
        "\n",
        "df"
      ],
      "metadata": {
        "colab": {
          "base_uri": "https://localhost:8080/",
          "height": 143
        },
        "id": "J39ACFN8OUgx",
        "outputId": "db5406f0-8e7d-4c96-cf3d-fd1e1d94c210"
      },
      "execution_count": 5,
      "outputs": [
        {
          "output_type": "execute_result",
          "data": {
            "text/plain": [
              "   name  age  gender\n",
              "0  John   25    male\n",
              "1  Sara   30  female\n",
              "2   Mia   35  female"
            ],
            "text/html": [
              "\n",
              "  <div id=\"df-e0c52c8c-084b-427a-93f4-27249153667f\">\n",
              "    <div class=\"colab-df-container\">\n",
              "      <div>\n",
              "<style scoped>\n",
              "    .dataframe tbody tr th:only-of-type {\n",
              "        vertical-align: middle;\n",
              "    }\n",
              "\n",
              "    .dataframe tbody tr th {\n",
              "        vertical-align: top;\n",
              "    }\n",
              "\n",
              "    .dataframe thead th {\n",
              "        text-align: right;\n",
              "    }\n",
              "</style>\n",
              "<table border=\"1\" class=\"dataframe\">\n",
              "  <thead>\n",
              "    <tr style=\"text-align: right;\">\n",
              "      <th></th>\n",
              "      <th>name</th>\n",
              "      <th>age</th>\n",
              "      <th>gender</th>\n",
              "    </tr>\n",
              "  </thead>\n",
              "  <tbody>\n",
              "    <tr>\n",
              "      <th>0</th>\n",
              "      <td>John</td>\n",
              "      <td>25</td>\n",
              "      <td>male</td>\n",
              "    </tr>\n",
              "    <tr>\n",
              "      <th>1</th>\n",
              "      <td>Sara</td>\n",
              "      <td>30</td>\n",
              "      <td>female</td>\n",
              "    </tr>\n",
              "    <tr>\n",
              "      <th>2</th>\n",
              "      <td>Mia</td>\n",
              "      <td>35</td>\n",
              "      <td>female</td>\n",
              "    </tr>\n",
              "  </tbody>\n",
              "</table>\n",
              "</div>\n",
              "      <button class=\"colab-df-convert\" onclick=\"convertToInteractive('df-e0c52c8c-084b-427a-93f4-27249153667f')\"\n",
              "              title=\"Convert this dataframe to an interactive table.\"\n",
              "              style=\"display:none;\">\n",
              "        \n",
              "  <svg xmlns=\"http://www.w3.org/2000/svg\" height=\"24px\"viewBox=\"0 0 24 24\"\n",
              "       width=\"24px\">\n",
              "    <path d=\"M0 0h24v24H0V0z\" fill=\"none\"/>\n",
              "    <path d=\"M18.56 5.44l.94 2.06.94-2.06 2.06-.94-2.06-.94-.94-2.06-.94 2.06-2.06.94zm-11 1L8.5 8.5l.94-2.06 2.06-.94-2.06-.94L8.5 2.5l-.94 2.06-2.06.94zm10 10l.94 2.06.94-2.06 2.06-.94-2.06-.94-.94-2.06-.94 2.06-2.06.94z\"/><path d=\"M17.41 7.96l-1.37-1.37c-.4-.4-.92-.59-1.43-.59-.52 0-1.04.2-1.43.59L10.3 9.45l-7.72 7.72c-.78.78-.78 2.05 0 2.83L4 21.41c.39.39.9.59 1.41.59.51 0 1.02-.2 1.41-.59l7.78-7.78 2.81-2.81c.8-.78.8-2.07 0-2.86zM5.41 20L4 18.59l7.72-7.72 1.47 1.35L5.41 20z\"/>\n",
              "  </svg>\n",
              "      </button>\n",
              "      \n",
              "  <style>\n",
              "    .colab-df-container {\n",
              "      display:flex;\n",
              "      flex-wrap:wrap;\n",
              "      gap: 12px;\n",
              "    }\n",
              "\n",
              "    .colab-df-convert {\n",
              "      background-color: #E8F0FE;\n",
              "      border: none;\n",
              "      border-radius: 50%;\n",
              "      cursor: pointer;\n",
              "      display: none;\n",
              "      fill: #1967D2;\n",
              "      height: 32px;\n",
              "      padding: 0 0 0 0;\n",
              "      width: 32px;\n",
              "    }\n",
              "\n",
              "    .colab-df-convert:hover {\n",
              "      background-color: #E2EBFA;\n",
              "      box-shadow: 0px 1px 2px rgba(60, 64, 67, 0.3), 0px 1px 3px 1px rgba(60, 64, 67, 0.15);\n",
              "      fill: #174EA6;\n",
              "    }\n",
              "\n",
              "    [theme=dark] .colab-df-convert {\n",
              "      background-color: #3B4455;\n",
              "      fill: #D2E3FC;\n",
              "    }\n",
              "\n",
              "    [theme=dark] .colab-df-convert:hover {\n",
              "      background-color: #434B5C;\n",
              "      box-shadow: 0px 1px 3px 1px rgba(0, 0, 0, 0.15);\n",
              "      filter: drop-shadow(0px 1px 2px rgba(0, 0, 0, 0.3));\n",
              "      fill: #FFFFFF;\n",
              "    }\n",
              "  </style>\n",
              "\n",
              "      <script>\n",
              "        const buttonEl =\n",
              "          document.querySelector('#df-e0c52c8c-084b-427a-93f4-27249153667f button.colab-df-convert');\n",
              "        buttonEl.style.display =\n",
              "          google.colab.kernel.accessAllowed ? 'block' : 'none';\n",
              "\n",
              "        async function convertToInteractive(key) {\n",
              "          const element = document.querySelector('#df-e0c52c8c-084b-427a-93f4-27249153667f');\n",
              "          const dataTable =\n",
              "            await google.colab.kernel.invokeFunction('convertToInteractive',\n",
              "                                                     [key], {});\n",
              "          if (!dataTable) return;\n",
              "\n",
              "          const docLinkHtml = 'Like what you see? Visit the ' +\n",
              "            '<a target=\"_blank\" href=https://colab.research.google.com/notebooks/data_table.ipynb>data table notebook</a>'\n",
              "            + ' to learn more about interactive tables.';\n",
              "          element.innerHTML = '';\n",
              "          dataTable['output_type'] = 'display_data';\n",
              "          await google.colab.output.renderOutput(dataTable, element);\n",
              "          const docLink = document.createElement('div');\n",
              "          docLink.innerHTML = docLinkHtml;\n",
              "          element.appendChild(docLink);\n",
              "        }\n",
              "      </script>\n",
              "    </div>\n",
              "  </div>\n",
              "  "
            ]
          },
          "metadata": {},
          "execution_count": 5
        }
      ]
    },
    {
      "cell_type": "code",
      "source": [
        "# create a new row to add\n",
        "new_row = ['Mikkk',54,'male']\n",
        "new_row_df = pd.DataFrame([new_row], columns=df.columns)\n",
        "# append the new row to the existing dataframe\n",
        "df = df.append(new_row_df, ignore_index=True)\n",
        "\n",
        "# print the updated dataframe\n",
        "print(df)"
      ],
      "metadata": {
        "colab": {
          "base_uri": "https://localhost:8080/"
        },
        "id": "08g2Zj6EHgzK",
        "outputId": "ecf57669-afdb-49e0-e236-9cd2b8c47ea3"
      },
      "execution_count": 8,
      "outputs": [
        {
          "output_type": "stream",
          "name": "stdout",
          "text": [
            "    name  age  gender\n",
            "0   John   25    male\n",
            "1   Sara   30  female\n",
            "2    Mia   35  female\n",
            "3  Mikkk   54    male\n",
            "4  Mikkk   54    male\n"
          ]
        },
        {
          "output_type": "stream",
          "name": "stderr",
          "text": [
            "<ipython-input-8-f71d899c8f45>:5: FutureWarning: The frame.append method is deprecated and will be removed from pandas in a future version. Use pandas.concat instead.\n",
            "  df = df.append(new_row_df, ignore_index=True)\n"
          ]
        }
      ]
    },
    {
      "cell_type": "code",
      "source": [],
      "metadata": {
        "id": "29s8RzVTHzFj"
      },
      "execution_count": null,
      "outputs": []
    }
  ]
}