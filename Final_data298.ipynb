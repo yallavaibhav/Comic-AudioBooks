{
  "nbformat": 4,
  "nbformat_minor": 0,
  "metadata": {
    "colab": {
      "provenance": [],
      "authorship_tag": "ABX9TyP2pga9mQODIThOKpCmq3He",
      "include_colab_link": true
    },
    "kernelspec": {
      "name": "python3",
      "display_name": "Python 3"
    },
    "language_info": {
      "name": "python"
    }
  },
  "cells": [
    {
      "cell_type": "markdown",
      "metadata": {
        "id": "view-in-github",
        "colab_type": "text"
      },
      "source": [
        "<a href=\"https://colab.research.google.com/github/yallavaibhav/Comic-AudioBooks/blob/master/Final_data298.ipynb\" target=\"_parent\"><img src=\"https://colab.research.google.com/assets/colab-badge.svg\" alt=\"Open In Colab\"/></a>"
      ]
    },
    {
      "cell_type": "code",
      "source": [
        "pip install easyocr   "
      ],
      "metadata": {
        "id": "u1uVQzDUT7xa",
        "colab": {
          "base_uri": "https://localhost:8080/"
        },
        "outputId": "e73b026d-2483-472f-9476-c346ea6f3b05"
      },
      "execution_count": 1,
      "outputs": [
        {
          "output_type": "stream",
          "name": "stdout",
          "text": [
            "Looking in indexes: https://pypi.org/simple, https://us-python.pkg.dev/colab-wheels/public/simple/\n",
            "Requirement already satisfied: easyocr in /usr/local/lib/python3.9/dist-packages (1.6.2)\n",
            "Requirement already satisfied: scikit-image in /usr/local/lib/python3.9/dist-packages (from easyocr) (0.19.3)\n",
            "Requirement already satisfied: python-bidi in /usr/local/lib/python3.9/dist-packages (from easyocr) (0.4.2)\n",
            "Requirement already satisfied: opencv-python-headless<=4.5.4.60 in /usr/local/lib/python3.9/dist-packages (from easyocr) (4.5.4.60)\n",
            "Requirement already satisfied: Shapely in /usr/local/lib/python3.9/dist-packages (from easyocr) (2.0.1)\n",
            "Requirement already satisfied: Pillow in /usr/local/lib/python3.9/dist-packages (from easyocr) (8.4.0)\n",
            "Requirement already satisfied: torchvision>=0.5 in /usr/local/lib/python3.9/dist-packages (from easyocr) (0.15.1+cu118)\n",
            "Requirement already satisfied: PyYAML in /usr/local/lib/python3.9/dist-packages (from easyocr) (6.0)\n",
            "Requirement already satisfied: ninja in /usr/local/lib/python3.9/dist-packages (from easyocr) (1.11.1)\n",
            "Requirement already satisfied: torch in /usr/local/lib/python3.9/dist-packages (from easyocr) (2.0.0+cu118)\n",
            "Requirement already satisfied: scipy in /usr/local/lib/python3.9/dist-packages (from easyocr) (1.10.1)\n",
            "Requirement already satisfied: numpy in /usr/local/lib/python3.9/dist-packages (from easyocr) (1.22.4)\n",
            "Requirement already satisfied: pyclipper in /usr/local/lib/python3.9/dist-packages (from easyocr) (1.3.0.post4)\n",
            "Requirement already satisfied: requests in /usr/local/lib/python3.9/dist-packages (from torchvision>=0.5->easyocr) (2.27.1)\n",
            "Requirement already satisfied: filelock in /usr/local/lib/python3.9/dist-packages (from torch->easyocr) (3.10.7)\n",
            "Requirement already satisfied: networkx in /usr/local/lib/python3.9/dist-packages (from torch->easyocr) (3.0)\n",
            "Requirement already satisfied: jinja2 in /usr/local/lib/python3.9/dist-packages (from torch->easyocr) (3.1.2)\n",
            "Requirement already satisfied: sympy in /usr/local/lib/python3.9/dist-packages (from torch->easyocr) (1.11.1)\n",
            "Requirement already satisfied: triton==2.0.0 in /usr/local/lib/python3.9/dist-packages (from torch->easyocr) (2.0.0)\n",
            "Requirement already satisfied: typing-extensions in /usr/local/lib/python3.9/dist-packages (from torch->easyocr) (4.5.0)\n",
            "Requirement already satisfied: lit in /usr/local/lib/python3.9/dist-packages (from triton==2.0.0->torch->easyocr) (16.0.0)\n",
            "Requirement already satisfied: cmake in /usr/local/lib/python3.9/dist-packages (from triton==2.0.0->torch->easyocr) (3.25.2)\n",
            "Requirement already satisfied: six in /usr/local/lib/python3.9/dist-packages (from python-bidi->easyocr) (1.16.0)\n",
            "Requirement already satisfied: imageio>=2.4.1 in /usr/local/lib/python3.9/dist-packages (from scikit-image->easyocr) (2.25.1)\n",
            "Requirement already satisfied: tifffile>=2019.7.26 in /usr/local/lib/python3.9/dist-packages (from scikit-image->easyocr) (2023.3.21)\n",
            "Requirement already satisfied: packaging>=20.0 in /usr/local/lib/python3.9/dist-packages (from scikit-image->easyocr) (23.0)\n",
            "Requirement already satisfied: PyWavelets>=1.1.1 in /usr/local/lib/python3.9/dist-packages (from scikit-image->easyocr) (1.4.1)\n",
            "Requirement already satisfied: MarkupSafe>=2.0 in /usr/local/lib/python3.9/dist-packages (from jinja2->torch->easyocr) (2.1.2)\n",
            "Requirement already satisfied: certifi>=2017.4.17 in /usr/local/lib/python3.9/dist-packages (from requests->torchvision>=0.5->easyocr) (2022.12.7)\n",
            "Requirement already satisfied: charset-normalizer~=2.0.0 in /usr/local/lib/python3.9/dist-packages (from requests->torchvision>=0.5->easyocr) (2.0.12)\n",
            "Requirement already satisfied: idna<4,>=2.5 in /usr/local/lib/python3.9/dist-packages (from requests->torchvision>=0.5->easyocr) (3.4)\n",
            "Requirement already satisfied: urllib3<1.27,>=1.21.1 in /usr/local/lib/python3.9/dist-packages (from requests->torchvision>=0.5->easyocr) (1.26.15)\n",
            "Requirement already satisfied: mpmath>=0.19 in /usr/local/lib/python3.9/dist-packages (from sympy->torch->easyocr) (1.3.0)\n"
          ]
        }
      ]
    },
    {
      "cell_type": "code",
      "source": [
        "import os\n",
        "import cv2 as cv\n",
        "import pandas as pd\n",
        "import easyocr\n",
        "import matplotlib.pyplot as plt\n",
        "import numpy as np\n",
        "import easyocr\n",
        "reader = easyocr.Reader(['en'],gpu=False)"
      ],
      "metadata": {
        "id": "gxFHiClEBili",
        "colab": {
          "base_uri": "https://localhost:8080/"
        },
        "outputId": "fa385cfb-80ec-4199-a8f3-c96251276855"
      },
      "execution_count": 2,
      "outputs": [
        {
          "output_type": "stream",
          "name": "stderr",
          "text": [
            "WARNING:easyocr.easyocr:Using CPU. Note: This module is much faster with a GPU.\n"
          ]
        }
      ]
    },
    {
      "cell_type": "markdown",
      "source": [
        "Installation of Yolov5"
      ],
      "metadata": {
        "id": "rCN7msCxafyM"
      }
    },
    {
      "cell_type": "code",
      "source": [
        "!git clone https://github.com/ultralytics/yolov5  # clone\n",
        "%cd yolov5\n",
        "%pip install -qr requirements.txt  # install\n",
        "\n",
        "import torch\n",
        "import utils\n",
        "display = utils.notebook_init()  # checks"
      ],
      "metadata": {
        "colab": {
          "base_uri": "https://localhost:8080/"
        },
        "id": "7OPvtFjo2Gz6",
        "outputId": "77f460fe-2ea0-4982-c369-0f3db707c403"
      },
      "execution_count": 3,
      "outputs": [
        {
          "output_type": "stream",
          "name": "stderr",
          "text": [
            "YOLOv5 🚀 v7.0-134-g23c4923 Python-3.9.16 torch-2.0.0+cu118 CPU\n"
          ]
        },
        {
          "output_type": "stream",
          "name": "stdout",
          "text": [
            "Setup complete ✅ (2 CPUs, 12.7 GB RAM, 27.0/107.7 GB disk)\n"
          ]
        }
      ]
    },
    {
      "cell_type": "markdown",
      "source": [
        "**Panels**\n",
        "- Croping the panels from the image using Yolov5 X"
      ],
      "metadata": {
        "id": "LBv_HcQ1bnqL"
      }
    },
    {
      "cell_type": "code",
      "source": [
        "# Getting the cropped pics of the panels\n",
        "\n",
        "# !python detect.py --save-txt --source  --weights \n",
        "!python /content/yolov5/detect.py --save-crop --save-txt --source /content/Venomnibus-v01-0006_jpg.rf.85d0de455b918337d0b360014e39b800.jpg --weights /content/best_yolov5X.pt"
      ],
      "metadata": {
        "colab": {
          "base_uri": "https://localhost:8080/"
        },
        "id": "HLfScc_p2AY9",
        "outputId": "2b51e335-1347-4e6d-8f8d-14c6ab6e8095"
      },
      "execution_count": 5,
      "outputs": [
        {
          "output_type": "stream",
          "name": "stdout",
          "text": [
            "\u001b[34m\u001b[1mdetect: \u001b[0mweights=['/content/best_yolov5X.pt'], source=/content/Venomnibus-v01-0006_jpg.rf.85d0de455b918337d0b360014e39b800.jpg, data=data/coco128.yaml, imgsz=[640, 640], conf_thres=0.25, iou_thres=0.45, max_det=1000, device=, view_img=False, save_txt=True, save_conf=False, save_crop=True, nosave=False, classes=None, agnostic_nms=False, augment=False, visualize=False, update=False, project=runs/detect, name=exp, exist_ok=False, line_thickness=3, hide_labels=False, hide_conf=False, half=False, dnn=False, vid_stride=1\n",
            "YOLOv5 🚀 v7.0-134-g23c4923 Python-3.9.16 torch-2.0.0+cu118 CPU\n",
            "\n",
            "Fusing layers... \n",
            "Model summary: 322 layers, 86173414 parameters, 0 gradients, 203.8 GFLOPs\n",
            "1 [[tensor(1.), tensor(11.), tensor(605.), tensor(185.)], [tensor(468.), tensor(185.), tensor(640.), tensor(377.)], [tensor(298.), tensor(186.), tensor(461.), tensor(375.)], [tensor(2.), tensor(181.), tensor(297.), tensor(640.)], [tensor(299.), tensor(379.), tensor(636.), tensor(635.)]]\n",
            "5\n",
            "2 [[tensor(1.), tensor(11.), tensor(605.), tensor(185.)], [tensor(2.), tensor(181.), tensor(297.), tensor(640.)], [tensor(298.), tensor(186.), tensor(461.), tensor(375.)], [tensor(468.), tensor(185.), tensor(640.), tensor(377.)], [tensor(299.), tensor(379.), tensor(636.), tensor(635.)]]\n",
            "[tensor(1.), tensor(11.), tensor(605.), tensor(185.)]\n",
            "[tensor(2.), tensor(181.), tensor(297.), tensor(640.)]\n",
            "[tensor(298.), tensor(186.), tensor(461.), tensor(375.)]\n",
            "[tensor(468.), tensor(185.), tensor(640.), tensor(377.)]\n",
            "[tensor(299.), tensor(379.), tensor(636.), tensor(635.)]\n",
            "image 1/1 /content/Venomnibus-v01-0006_jpg.rf.85d0de455b918337d0b360014e39b800.jpg: 640x640 5 Panelss, 3840.5ms\n",
            "Speed: 7.5ms pre-process, 3840.5ms inference, 1.6ms NMS per image at shape (1, 3, 640, 640)\n",
            "Results saved to \u001b[1mruns/detect/exp\u001b[0m\n",
            "1 labels saved to runs/detect/exp/labels\n"
          ]
        }
      ]
    },
    {
      "cell_type": "code",
      "source": [
        "# Storing the panels and sorting them in correct order\n",
        "panels = []\n",
        "for root,dir,files in os.walk(os.path.abspath(\"/content/yolov5/runs/detect/exp/crops/Panels/\")):\n",
        "  for file in files:\n",
        "    panels.append((os.path.join(root, file)))\n",
        "     "
      ],
      "metadata": {
        "id": "3gobtppfAeCH"
      },
      "execution_count": 6,
      "outputs": []
    },
    {
      "cell_type": "code",
      "source": [
        "panels.sort()"
      ],
      "metadata": {
        "id": "2yKtKgbdBm_O"
      },
      "execution_count": 7,
      "outputs": []
    },
    {
      "cell_type": "code",
      "source": [
        "panels"
      ],
      "metadata": {
        "colab": {
          "base_uri": "https://localhost:8080/"
        },
        "id": "6T2jG9W4Bnki",
        "outputId": "18c3da47-dde0-4cfd-dbd6-d7a309e8a8bb"
      },
      "execution_count": 8,
      "outputs": [
        {
          "output_type": "execute_result",
          "data": {
            "text/plain": [
              "['/content/yolov5/runs/detect/exp/crops/Panels/kp.jpg',\n",
              " '/content/yolov5/runs/detect/exp/crops/Panels/kp2.jpg',\n",
              " '/content/yolov5/runs/detect/exp/crops/Panels/kp3.jpg',\n",
              " '/content/yolov5/runs/detect/exp/crops/Panels/kp4.jpg',\n",
              " '/content/yolov5/runs/detect/exp/crops/Panels/kp5.jpg']"
            ]
          },
          "metadata": {},
          "execution_count": 8
        }
      ]
    },
    {
      "cell_type": "markdown",
      "source": [
        "**Characters**\n",
        "- Saving the croped dialouge images with texts datausing Yolov5"
      ],
      "metadata": {
        "id": "V-YsSZWFb_ea"
      }
    },
    {
      "cell_type": "code",
      "source": [
        "for i in range(len(panels)):\n",
        "  !python /content/yolov5/detect.py --save-crop --save-txt --source {panels[i]} --weights /content/best_speechballoons.pt"
      ],
      "metadata": {
        "colab": {
          "base_uri": "https://localhost:8080/"
        },
        "id": "_ZVwnQ0Boevx",
        "outputId": "5ce432f9-0c69-48bd-d124-b7b00a365ba7"
      },
      "execution_count": 14,
      "outputs": [
        {
          "output_type": "stream",
          "name": "stdout",
          "text": [
            "\u001b[34m\u001b[1mdetect: \u001b[0mweights=['/content/best_speechballoons.pt'], source=/content/yolov5/runs/detect/exp/crops/Panels/kp.jpg, data=data/coco128.yaml, imgsz=[640, 640], conf_thres=0.25, iou_thres=0.45, max_det=1000, device=, view_img=False, save_txt=True, save_conf=False, save_crop=True, nosave=False, classes=None, agnostic_nms=False, augment=False, visualize=False, update=False, project=runs/detect, name=exp, exist_ok=False, line_thickness=3, hide_labels=False, hide_conf=False, half=False, dnn=False, vid_stride=1\n",
            "YOLOv5 🚀 v7.0-134-g23c4923 Python-3.9.16 torch-2.0.0+cu118 CPU\n",
            "\n",
            "Fusing layers... \n",
            "Model summary: 322 layers, 86213788 parameters, 0 gradients, 203.9 GFLOPs\n",
            "1 [[tensor(444.), tensor(56.), tensor(577.), tensor(109.)]]\n",
            "1\n",
            "2 [[tensor(444.), tensor(56.), tensor(577.), tensor(109.)]]\n",
            "[tensor(444.), tensor(56.), tensor(577.), tensor(109.)]\n",
            "image 1/1 /content/yolov5/runs/detect/exp/crops/Panels/kp.jpg: 224x640 1 General_speech, 1356.5ms\n",
            "Speed: 4.0ms pre-process, 1356.5ms inference, 2.0ms NMS per image at shape (1, 3, 640, 640)\n",
            "Results saved to \u001b[1mruns/detect/exp2\u001b[0m\n",
            "1 labels saved to runs/detect/exp2/labels\n",
            "\u001b[34m\u001b[1mdetect: \u001b[0mweights=['/content/best_speechballoons.pt'], source=/content/yolov5/runs/detect/exp/crops/Panels/kp2.jpg, data=data/coco128.yaml, imgsz=[640, 640], conf_thres=0.25, iou_thres=0.45, max_det=1000, device=, view_img=False, save_txt=True, save_conf=False, save_crop=True, nosave=False, classes=None, agnostic_nms=False, augment=False, visualize=False, update=False, project=runs/detect, name=exp, exist_ok=False, line_thickness=3, hide_labels=False, hide_conf=False, half=False, dnn=False, vid_stride=1\n",
            "YOLOv5 🚀 v7.0-134-g23c4923 Python-3.9.16 torch-2.0.0+cu118 CPU\n",
            "\n",
            "Fusing layers... \n",
            "Model summary: 322 layers, 86213788 parameters, 0 gradients, 203.9 GFLOPs\n",
            "1 [[tensor(131.), tensor(10.), tensor(304.), tensor(118.)]]\n",
            "1\n",
            "2 [[tensor(131.), tensor(10.), tensor(304.), tensor(118.)]]\n",
            "[tensor(131.), tensor(10.), tensor(304.), tensor(118.)]\n",
            "image 1/1 /content/yolov5/runs/detect/exp/crops/Panels/kp2.jpg: 640x416 1 General_speech, 2363.0ms\n",
            "Speed: 4.0ms pre-process, 2363.0ms inference, 1.3ms NMS per image at shape (1, 3, 640, 640)\n",
            "Results saved to \u001b[1mruns/detect/exp3\u001b[0m\n",
            "1 labels saved to runs/detect/exp3/labels\n",
            "\u001b[34m\u001b[1mdetect: \u001b[0mweights=['/content/best_speechballoons.pt'], source=/content/yolov5/runs/detect/exp/crops/Panels/kp3.jpg, data=data/coco128.yaml, imgsz=[640, 640], conf_thres=0.25, iou_thres=0.45, max_det=1000, device=, view_img=False, save_txt=True, save_conf=False, save_crop=True, nosave=False, classes=None, agnostic_nms=False, augment=False, visualize=False, update=False, project=runs/detect, name=exp, exist_ok=False, line_thickness=3, hide_labels=False, hide_conf=False, half=False, dnn=False, vid_stride=1\n",
            "YOLOv5 🚀 v7.0-134-g23c4923 Python-3.9.16 torch-2.0.0+cu118 CPU\n",
            "\n",
            "Fusing layers... \n",
            "Model summary: 322 layers, 86213788 parameters, 0 gradients, 203.9 GFLOPs\n",
            "1 [[tensor(76.), tensor(8.), tensor(169.), tensor(32.)], [tensor(46.), tensor(32.), tensor(113.), tensor(63.)]]\n",
            "2\n",
            "2 [[tensor(46.), tensor(32.), tensor(113.), tensor(63.)], [tensor(76.), tensor(8.), tensor(169.), tensor(32.)]]\n",
            "[tensor(46.), tensor(32.), tensor(113.), tensor(63.)]\n",
            "[tensor(76.), tensor(8.), tensor(169.), tensor(32.)]\n",
            "image 1/1 /content/yolov5/runs/detect/exp/crops/Panels/kp3.jpg: 640x576 1 General_speech, 1 narration speech, 3115.2ms\n",
            "Speed: 3.5ms pre-process, 3115.2ms inference, 2.3ms NMS per image at shape (1, 3, 640, 640)\n",
            "Results saved to \u001b[1mruns/detect/exp4\u001b[0m\n",
            "1 labels saved to runs/detect/exp4/labels\n",
            "\u001b[34m\u001b[1mdetect: \u001b[0mweights=['/content/best_speechballoons.pt'], source=/content/yolov5/runs/detect/exp/crops/Panels/kp4.jpg, data=data/coco128.yaml, imgsz=[640, 640], conf_thres=0.25, iou_thres=0.45, max_det=1000, device=, view_img=False, save_txt=True, save_conf=False, save_crop=True, nosave=False, classes=None, agnostic_nms=False, augment=False, visualize=False, update=False, project=runs/detect, name=exp, exist_ok=False, line_thickness=3, hide_labels=False, hide_conf=False, half=False, dnn=False, vid_stride=1\n",
            "YOLOv5 🚀 v7.0-134-g23c4923 Python-3.9.16 torch-2.0.0+cu118 CPU\n",
            "\n",
            "Fusing layers... \n",
            "Model summary: 322 layers, 86213788 parameters, 0 gradients, 203.9 GFLOPs\n",
            "1 [[tensor(17.), tensor(14.), tensor(96.), tensor(67.)]]\n",
            "1\n",
            "2 [[tensor(17.), tensor(14.), tensor(96.), tensor(67.)]]\n",
            "[tensor(17.), tensor(14.), tensor(96.), tensor(67.)]\n",
            "image 1/1 /content/yolov5/runs/detect/exp/crops/Panels/kp4.jpg: 640x576 1 General_speech, 3021.5ms\n",
            "Speed: 3.5ms pre-process, 3021.5ms inference, 1.6ms NMS per image at shape (1, 3, 640, 640)\n",
            "Results saved to \u001b[1mruns/detect/exp5\u001b[0m\n",
            "1 labels saved to runs/detect/exp5/labels\n",
            "\u001b[34m\u001b[1mdetect: \u001b[0mweights=['/content/best_speechballoons.pt'], source=/content/yolov5/runs/detect/exp/crops/Panels/kp5.jpg, data=data/coco128.yaml, imgsz=[640, 640], conf_thres=0.25, iou_thres=0.45, max_det=1000, device=, view_img=False, save_txt=True, save_conf=False, save_crop=True, nosave=False, classes=None, agnostic_nms=False, augment=False, visualize=False, update=False, project=runs/detect, name=exp, exist_ok=False, line_thickness=3, hide_labels=False, hide_conf=False, half=False, dnn=False, vid_stride=1\n",
            "YOLOv5 🚀 v7.0-134-g23c4923 Python-3.9.16 torch-2.0.0+cu118 CPU\n",
            "\n",
            "Fusing layers... \n",
            "Model summary: 322 layers, 86213788 parameters, 0 gradients, 203.9 GFLOPs\n",
            "1 [[tensor(31.), tensor(8.), tensor(105.), tensor(35.)], [tensor(143.), tensor(6.), tensor(330.), tensor(87.)]]\n",
            "2\n",
            "2 [[tensor(31.), tensor(8.), tensor(105.), tensor(35.)], [tensor(143.), tensor(6.), tensor(330.), tensor(87.)]]\n",
            "[tensor(31.), tensor(8.), tensor(105.), tensor(35.)]\n",
            "[tensor(143.), tensor(6.), tensor(330.), tensor(87.)]\n",
            "image 1/1 /content/yolov5/runs/detect/exp/crops/Panels/kp5.jpg: 512x640 2 General_speechs, 2711.8ms\n",
            "Speed: 2.6ms pre-process, 2711.8ms inference, 1.4ms NMS per image at shape (1, 3, 640, 640)\n",
            "Results saved to \u001b[1mruns/detect/exp6\u001b[0m\n",
            "1 labels saved to runs/detect/exp6/labels\n"
          ]
        }
      ]
    },
    {
      "cell_type": "markdown",
      "source": [
        "This function is for sorting the data"
      ],
      "metadata": {
        "id": "NeaFBilAcrHG"
      }
    },
    {
      "cell_type": "code",
      "source": [
        "def sorting_speech_balloons(df,panel_number):\n",
        "  sx = df.values.tolist()\n",
        "  sx.sort(key=lambda x:x[2])\n",
        "  #print(sx)\n",
        "  x = []\n",
        "  y = []\n",
        "  k = 0\n",
        "  for i in range(len(sx)):\n",
        "    if sx[i][2] < sx[k][2]+0.1:\n",
        "      x.append(sx[i])\n",
        "      # print(x)\n",
        "    else:\n",
        "      x.sort(key=lambda x:x[1])\n",
        "      for j in range(len(x)):\n",
        "        y.append(x[j])\n",
        "      # print(y)\n",
        "      x = []\n",
        "      # print(x)\n",
        "      x.append(sx[i])\n",
        "      k=i\n",
        "  x.sort(key=lambda x:x[1])\n",
        "  print(\"last\",x)\n",
        "  for p in range(len(x)):\n",
        "    y.append(x[p])\n",
        "  dff = pd.DataFrame(y)\n",
        "  dff.columns = [\"Class\",\"X_center\", \"y_center\", \"height\", \"width\"]\n",
        "  dff.insert(0,'Panel_no',panel_number)\n",
        "  return dff"
      ],
      "metadata": {
        "id": "Cq9RrWy4O3Ky"
      },
      "execution_count": 15,
      "outputs": []
    },
    {
      "cell_type": "markdown",
      "source": [
        "Creating a dataframe from a single page (with different panels)"
      ],
      "metadata": {
        "id": "WbZWTNGZczIi"
      }
    },
    {
      "cell_type": "code",
      "source": [
        "#Speech_balloon table with distance\n",
        "speech_baloons_paths_main = []\n",
        "temp = []\n",
        "panel_number = 0\n",
        "dataframe = pd.DataFrame(columns = ['Panel_no',\t'Class',\t'X_center',\t'y_center',\t'height',\t'width'])\n",
        "for i in range(2,len(panels)+2):\n",
        "  for root,dir,files in os.walk(os.path.abspath(\"/content/yolov5/runs/detect/exp{0}/labels/\".format(i))):\n",
        "    for file in files:\n",
        "      temp.append(os.path.join(root, file))\n",
        "      print('sddddddddddddd',temp)\n",
        "      # zz = '{fname}'.format(fname=temp)\n",
        "for k in range(len(temp)):\n",
        "  df = pd.read_csv(temp[k], header = None, sep=\" \")\n",
        "  panel_number += 1 \n",
        "  dff = sorting_speech_balloons(df,panel_number)\n",
        "      # print(dff)\n",
        "  dataframe = dataframe.append(dff, ignore_index=True)"
      ],
      "metadata": {
        "colab": {
          "base_uri": "https://localhost:8080/"
        },
        "id": "SqQpDv_FL0CO",
        "outputId": "00b694c4-8e52-44ad-e6b9-175785e44138"
      },
      "execution_count": 16,
      "outputs": [
        {
          "output_type": "stream",
          "name": "stdout",
          "text": [
            "sddddddddddddd ['/content/yolov5/runs/detect/exp2/labels/kp.txt']\n",
            "sddddddddddddd ['/content/yolov5/runs/detect/exp2/labels/kp.txt', '/content/yolov5/runs/detect/exp3/labels/kp2.txt']\n",
            "sddddddddddddd ['/content/yolov5/runs/detect/exp2/labels/kp.txt', '/content/yolov5/runs/detect/exp3/labels/kp2.txt', '/content/yolov5/runs/detect/exp4/labels/kp3.txt']\n",
            "sddddddddddddd ['/content/yolov5/runs/detect/exp2/labels/kp.txt', '/content/yolov5/runs/detect/exp3/labels/kp2.txt', '/content/yolov5/runs/detect/exp4/labels/kp3.txt', '/content/yolov5/runs/detect/exp5/labels/kp4.txt']\n",
            "sddddddddddddd ['/content/yolov5/runs/detect/exp2/labels/kp.txt', '/content/yolov5/runs/detect/exp3/labels/kp2.txt', '/content/yolov5/runs/detect/exp4/labels/kp3.txt', '/content/yolov5/runs/detect/exp5/labels/kp4.txt', '/content/yolov5/runs/detect/exp6/labels/kp5.txt']\n",
            "last [[0.0, 0.828734, 0.441176, 0.215909, 0.283422]]\n",
            "last [[0.0, 0.715461, 0.136461, 0.569079, 0.230277]]\n",
            "last [[0.0, 0.451705, 0.235149, 0.380682, 0.153465]]\n",
            "last [[0.0, 0.315642, 0.197561, 0.441341, 0.258537]]\n",
            "last [[0.0, 0.194286, 0.0799256, 0.211429, 0.100372], [0.0, 0.675714, 0.172862, 0.534286, 0.301115]]\n"
          ]
        },
        {
          "output_type": "stream",
          "name": "stderr",
          "text": [
            "<ipython-input-16-ea366b18d345>:17: FutureWarning: The frame.append method is deprecated and will be removed from pandas in a future version. Use pandas.concat instead.\n",
            "  dataframe = dataframe.append(dff, ignore_index=True)\n",
            "<ipython-input-16-ea366b18d345>:17: FutureWarning: The frame.append method is deprecated and will be removed from pandas in a future version. Use pandas.concat instead.\n",
            "  dataframe = dataframe.append(dff, ignore_index=True)\n",
            "<ipython-input-16-ea366b18d345>:17: FutureWarning: The frame.append method is deprecated and will be removed from pandas in a future version. Use pandas.concat instead.\n",
            "  dataframe = dataframe.append(dff, ignore_index=True)\n",
            "<ipython-input-16-ea366b18d345>:17: FutureWarning: The frame.append method is deprecated and will be removed from pandas in a future version. Use pandas.concat instead.\n",
            "  dataframe = dataframe.append(dff, ignore_index=True)\n",
            "<ipython-input-16-ea366b18d345>:17: FutureWarning: The frame.append method is deprecated and will be removed from pandas in a future version. Use pandas.concat instead.\n",
            "  dataframe = dataframe.append(dff, ignore_index=True)\n"
          ]
        }
      ]
    },
    {
      "cell_type": "markdown",
      "source": [
        "This dataframe below is related to speech balloon locations only"
      ],
      "metadata": {
        "id": "nkoxPT2GdTx4"
      }
    },
    {
      "cell_type": "code",
      "source": [
        "dataframe"
      ],
      "metadata": {
        "colab": {
          "base_uri": "https://localhost:8080/",
          "height": 269
        },
        "id": "xOvOg_BmmWKJ",
        "outputId": "96073e04-6389-491f-b9b4-ae317eb72fdd"
      },
      "execution_count": 17,
      "outputs": [
        {
          "output_type": "execute_result",
          "data": {
            "text/plain": [
              "  Panel_no  Class  X_center  y_center    height     width\n",
              "0        1    0.0  0.828734  0.441176  0.215909  0.283422\n",
              "1        2    0.0  0.715461  0.136461  0.569079  0.230277\n",
              "2        3    3.0  0.696023  0.099010  0.528409  0.118812\n",
              "3        3    0.0  0.451705  0.235149  0.380682  0.153465\n",
              "4        4    0.0  0.315642  0.197561  0.441341  0.258537\n",
              "5        5    0.0  0.194286  0.079926  0.211429  0.100372\n",
              "6        5    0.0  0.675714  0.172862  0.534286  0.301115"
            ],
            "text/html": [
              "\n",
              "  <div id=\"df-defa5aee-0a59-4b38-b1d3-54929aff6ff9\">\n",
              "    <div class=\"colab-df-container\">\n",
              "      <div>\n",
              "<style scoped>\n",
              "    .dataframe tbody tr th:only-of-type {\n",
              "        vertical-align: middle;\n",
              "    }\n",
              "\n",
              "    .dataframe tbody tr th {\n",
              "        vertical-align: top;\n",
              "    }\n",
              "\n",
              "    .dataframe thead th {\n",
              "        text-align: right;\n",
              "    }\n",
              "</style>\n",
              "<table border=\"1\" class=\"dataframe\">\n",
              "  <thead>\n",
              "    <tr style=\"text-align: right;\">\n",
              "      <th></th>\n",
              "      <th>Panel_no</th>\n",
              "      <th>Class</th>\n",
              "      <th>X_center</th>\n",
              "      <th>y_center</th>\n",
              "      <th>height</th>\n",
              "      <th>width</th>\n",
              "    </tr>\n",
              "  </thead>\n",
              "  <tbody>\n",
              "    <tr>\n",
              "      <th>0</th>\n",
              "      <td>1</td>\n",
              "      <td>0.0</td>\n",
              "      <td>0.828734</td>\n",
              "      <td>0.441176</td>\n",
              "      <td>0.215909</td>\n",
              "      <td>0.283422</td>\n",
              "    </tr>\n",
              "    <tr>\n",
              "      <th>1</th>\n",
              "      <td>2</td>\n",
              "      <td>0.0</td>\n",
              "      <td>0.715461</td>\n",
              "      <td>0.136461</td>\n",
              "      <td>0.569079</td>\n",
              "      <td>0.230277</td>\n",
              "    </tr>\n",
              "    <tr>\n",
              "      <th>2</th>\n",
              "      <td>3</td>\n",
              "      <td>3.0</td>\n",
              "      <td>0.696023</td>\n",
              "      <td>0.099010</td>\n",
              "      <td>0.528409</td>\n",
              "      <td>0.118812</td>\n",
              "    </tr>\n",
              "    <tr>\n",
              "      <th>3</th>\n",
              "      <td>3</td>\n",
              "      <td>0.0</td>\n",
              "      <td>0.451705</td>\n",
              "      <td>0.235149</td>\n",
              "      <td>0.380682</td>\n",
              "      <td>0.153465</td>\n",
              "    </tr>\n",
              "    <tr>\n",
              "      <th>4</th>\n",
              "      <td>4</td>\n",
              "      <td>0.0</td>\n",
              "      <td>0.315642</td>\n",
              "      <td>0.197561</td>\n",
              "      <td>0.441341</td>\n",
              "      <td>0.258537</td>\n",
              "    </tr>\n",
              "    <tr>\n",
              "      <th>5</th>\n",
              "      <td>5</td>\n",
              "      <td>0.0</td>\n",
              "      <td>0.194286</td>\n",
              "      <td>0.079926</td>\n",
              "      <td>0.211429</td>\n",
              "      <td>0.100372</td>\n",
              "    </tr>\n",
              "    <tr>\n",
              "      <th>6</th>\n",
              "      <td>5</td>\n",
              "      <td>0.0</td>\n",
              "      <td>0.675714</td>\n",
              "      <td>0.172862</td>\n",
              "      <td>0.534286</td>\n",
              "      <td>0.301115</td>\n",
              "    </tr>\n",
              "  </tbody>\n",
              "</table>\n",
              "</div>\n",
              "      <button class=\"colab-df-convert\" onclick=\"convertToInteractive('df-defa5aee-0a59-4b38-b1d3-54929aff6ff9')\"\n",
              "              title=\"Convert this dataframe to an interactive table.\"\n",
              "              style=\"display:none;\">\n",
              "        \n",
              "  <svg xmlns=\"http://www.w3.org/2000/svg\" height=\"24px\"viewBox=\"0 0 24 24\"\n",
              "       width=\"24px\">\n",
              "    <path d=\"M0 0h24v24H0V0z\" fill=\"none\"/>\n",
              "    <path d=\"M18.56 5.44l.94 2.06.94-2.06 2.06-.94-2.06-.94-.94-2.06-.94 2.06-2.06.94zm-11 1L8.5 8.5l.94-2.06 2.06-.94-2.06-.94L8.5 2.5l-.94 2.06-2.06.94zm10 10l.94 2.06.94-2.06 2.06-.94-2.06-.94-.94-2.06-.94 2.06-2.06.94z\"/><path d=\"M17.41 7.96l-1.37-1.37c-.4-.4-.92-.59-1.43-.59-.52 0-1.04.2-1.43.59L10.3 9.45l-7.72 7.72c-.78.78-.78 2.05 0 2.83L4 21.41c.39.39.9.59 1.41.59.51 0 1.02-.2 1.41-.59l7.78-7.78 2.81-2.81c.8-.78.8-2.07 0-2.86zM5.41 20L4 18.59l7.72-7.72 1.47 1.35L5.41 20z\"/>\n",
              "  </svg>\n",
              "      </button>\n",
              "      \n",
              "  <style>\n",
              "    .colab-df-container {\n",
              "      display:flex;\n",
              "      flex-wrap:wrap;\n",
              "      gap: 12px;\n",
              "    }\n",
              "\n",
              "    .colab-df-convert {\n",
              "      background-color: #E8F0FE;\n",
              "      border: none;\n",
              "      border-radius: 50%;\n",
              "      cursor: pointer;\n",
              "      display: none;\n",
              "      fill: #1967D2;\n",
              "      height: 32px;\n",
              "      padding: 0 0 0 0;\n",
              "      width: 32px;\n",
              "    }\n",
              "\n",
              "    .colab-df-convert:hover {\n",
              "      background-color: #E2EBFA;\n",
              "      box-shadow: 0px 1px 2px rgba(60, 64, 67, 0.3), 0px 1px 3px 1px rgba(60, 64, 67, 0.15);\n",
              "      fill: #174EA6;\n",
              "    }\n",
              "\n",
              "    [theme=dark] .colab-df-convert {\n",
              "      background-color: #3B4455;\n",
              "      fill: #D2E3FC;\n",
              "    }\n",
              "\n",
              "    [theme=dark] .colab-df-convert:hover {\n",
              "      background-color: #434B5C;\n",
              "      box-shadow: 0px 1px 3px 1px rgba(0, 0, 0, 0.15);\n",
              "      filter: drop-shadow(0px 1px 2px rgba(0, 0, 0, 0.3));\n",
              "      fill: #FFFFFF;\n",
              "    }\n",
              "  </style>\n",
              "\n",
              "      <script>\n",
              "        const buttonEl =\n",
              "          document.querySelector('#df-defa5aee-0a59-4b38-b1d3-54929aff6ff9 button.colab-df-convert');\n",
              "        buttonEl.style.display =\n",
              "          google.colab.kernel.accessAllowed ? 'block' : 'none';\n",
              "\n",
              "        async function convertToInteractive(key) {\n",
              "          const element = document.querySelector('#df-defa5aee-0a59-4b38-b1d3-54929aff6ff9');\n",
              "          const dataTable =\n",
              "            await google.colab.kernel.invokeFunction('convertToInteractive',\n",
              "                                                     [key], {});\n",
              "          if (!dataTable) return;\n",
              "\n",
              "          const docLinkHtml = 'Like what you see? Visit the ' +\n",
              "            '<a target=\"_blank\" href=https://colab.research.google.com/notebooks/data_table.ipynb>data table notebook</a>'\n",
              "            + ' to learn more about interactive tables.';\n",
              "          element.innerHTML = '';\n",
              "          dataTable['output_type'] = 'display_data';\n",
              "          await google.colab.output.renderOutput(dataTable, element);\n",
              "          const docLink = document.createElement('div');\n",
              "          docLink.innerHTML = docLinkHtml;\n",
              "          element.appendChild(docLink);\n",
              "        }\n",
              "      </script>\n",
              "    </div>\n",
              "  </div>\n",
              "  "
            ]
          },
          "metadata": {},
          "execution_count": 17
        }
      ]
    },
    {
      "cell_type": "code",
      "source": [
        "#=================================================================================================================="
      ],
      "metadata": {
        "id": "1-VKAHYrgWh_"
      },
      "execution_count": null,
      "outputs": []
    },
    {
      "cell_type": "markdown",
      "source": [],
      "metadata": {
        "id": "aBePYgGOddVQ"
      }
    },
    {
      "cell_type": "markdown",
      "source": [
        "The function provides the following pre-processing steps for text detection:\n",
        "- Resizing \n",
        "- Thresholding\n",
        "- Convex Hull\n",
        "- Biggest Hull\n",
        "- Gray Scaling\n",
        "- Masking\n",
        "\n",
        "Used EasyOCR for text detection"
      ],
      "metadata": {
        "id": "YwZVkIfWddLB"
      }
    },
    {
      "cell_type": "code",
      "source": [
        "beta = []\n",
        "def crop_convex_hull(img):\n",
        "  img = cv.resize(img, (400, 350))\n",
        "  Thresh_original = img.copy()\n",
        "  Hull_biggestarea = img.copy()\n",
        "  gray = cv.cvtColor(img,cv.COLOR_BGR2GRAY)\n",
        "  _,binary = cv.threshold(gray,245,255,cv.THRESH_BINARY)\n",
        "  contours1, hirechay1 = cv.findContours(binary,cv.RETR_EXTERNAL,cv.CHAIN_APPROX_SIMPLE)\n",
        "  con_thresh = cv.drawContours(Thresh_original,contours1, -1,(0,255,0),3) #-1 is to detect all contours, (255,255,255)=>green line, 3=> thickness\n",
        "  #Biggest contours\n",
        "  if len(contours1)>=1:  \n",
        "    biggest_contours = max(contours1, key = cv.contourArea)\n",
        "    hull_biggest = cv.convexHull(biggest_contours)\n",
        "    cv.drawContours(Hull_biggestarea,[hull_biggest],0,(0,0,255),3)\n",
        "    mask = np.zeros(gray.shape, np.uint8)\n",
        "    cv.drawContours(mask, [hull_biggest], 0, 255, -1)\n",
        "    result = cv.bitwise_and(img, img, mask=mask)\n",
        "    # plt.imshow(result)\n",
        "\n",
        "    results = reader.readtext(result)\n",
        "  else:\n",
        "    results = reader.readtext(img)\n",
        "  return results\n",
        "  # return result\n",
        "\n",
        "def preprocess_text(images):\n",
        "  gray = cv.cvtColor(images, cv.COLOR_BGR2GRAY)\n",
        "  enhanced = cv.equalizeHist(gray)\n",
        "  results = reader.readtext(enhanced)\n",
        "  return results\n",
        "def list_text(value):\n",
        "  df = pd.DataFrame(value, columns=['bbox','text','confidence'])\n",
        "  column_to_one_row = df['text'].tolist()\n",
        "  One_sentence = ' '.join(column_to_one_row)\n",
        "  sentence = One_sentence.lower()\n",
        "  beta.append(sentence)\n",
        "  return beta\n",
        "# for i in speech_baloons_paths:\n",
        "#   img = cv.imread(i)\n",
        "#   res = list_text(crop_convex_hull(img))\n",
        "#   print(beta)"
      ],
      "metadata": {
        "id": "l09c0Niwc3X0"
      },
      "execution_count": 18,
      "outputs": []
    },
    {
      "cell_type": "code",
      "source": [
        "speech_baloons_paths = []\n",
        "temp = []\n",
        "for i in range(2,len(panels)+2):\n",
        "  for root,dir,files in os.walk(os.path.abspath(\"/content/yolov5/runs/detect/exp{0}/crops/\".format(i))):\n",
        "    for file in files:\n",
        "      temp.append(os.path.join(root, file))\n",
        "      # print(temp)\n",
        "  temp.sort()\n",
        "  speech_baloons_paths.append(temp)\n",
        "  temp = []\n",
        "for i in range(len(speech_baloons_paths)):\n",
        "  for j in range(len(speech_baloons_paths[i])):\n",
        "    print(speech_baloons_paths[i][j])\n",
        "    img = cv.imread(speech_baloons_paths[i][j])\n",
        "    res = list_text(crop_convex_hull(img))\n",
        "print(beta)"
      ],
      "metadata": {
        "colab": {
          "base_uri": "https://localhost:8080/"
        },
        "id": "TQ_DRSm7c3UG",
        "outputId": "265accb4-2996-4728-c204-14697b32326f"
      },
      "execution_count": 19,
      "outputs": [
        {
          "output_type": "stream",
          "name": "stdout",
          "text": [
            "/content/yolov5/runs/detect/exp2/crops/General_speech/kp.jpg\n",
            "/content/yolov5/runs/detect/exp3/crops/General_speech/kp.jpg\n",
            "/content/yolov5/runs/detect/exp4/crops/General_speech/kp.jpg\n",
            "/content/yolov5/runs/detect/exp4/crops/narration speech/kp.jpg\n",
            "/content/yolov5/runs/detect/exp5/crops/General_speech/kp.jpg\n",
            "/content/yolov5/runs/detect/exp6/crops/General_speech/kp.jpg\n",
            "/content/yolov5/runs/detect/exp6/crops/General_speech/kp2.jpg\n",
            "['yolpe dt spicable : yoj and ail your kindi', 'flting onthe defenbeless vinging nothing but miseky: paini deauhhi', 'y make 03 sick!', 'wi mhatre tol f', 'gwlet 6 g8a kk', '5 ovlei', 'oli\\'lldo but decay; in kivullis anp uption\\' mingling th ythe filih filea\"qf thf sewers of']\n"
          ]
        }
      ]
    },
    {
      "cell_type": "code",
      "source": [
        "speech_baloons_paths"
      ],
      "metadata": {
        "colab": {
          "base_uri": "https://localhost:8080/"
        },
        "id": "iom4xniyOlCY",
        "outputId": "7541ef11-9a94-4754-8188-fae023b7369a"
      },
      "execution_count": 21,
      "outputs": [
        {
          "output_type": "execute_result",
          "data": {
            "text/plain": [
              "[['/content/yolov5/runs/detect/exp2/crops/General_speech/kp.jpg'],\n",
              " ['/content/yolov5/runs/detect/exp3/crops/General_speech/kp.jpg'],\n",
              " ['/content/yolov5/runs/detect/exp4/crops/General_speech/kp.jpg',\n",
              "  '/content/yolov5/runs/detect/exp4/crops/narration speech/kp.jpg'],\n",
              " ['/content/yolov5/runs/detect/exp5/crops/General_speech/kp.jpg'],\n",
              " ['/content/yolov5/runs/detect/exp6/crops/General_speech/kp.jpg',\n",
              "  '/content/yolov5/runs/detect/exp6/crops/General_speech/kp2.jpg']]"
            ]
          },
          "metadata": {},
          "execution_count": 21
        }
      ]
    },
    {
      "cell_type": "code",
      "source": [
        "text_dataframe = pd.DataFrame(beta,columns=['Text'])\n",
        "text_dataframe"
      ],
      "metadata": {
        "id": "0dAs-Y8aPvpd",
        "colab": {
          "base_uri": "https://localhost:8080/",
          "height": 269
        },
        "outputId": "f7831d96-ff53-43f3-df9d-76f6f493b3fc"
      },
      "execution_count": 22,
      "outputs": [
        {
          "output_type": "execute_result",
          "data": {
            "text/plain": [
              "                                                Text\n",
              "0         yolpe dt spicable : yoj and ail your kindi\n",
              "1  flting onthe defenbeless vinging nothing but m...\n",
              "2                                    y make 03 sick!\n",
              "3                                    wi mhatre tol f\n",
              "4                                     gwlet 6 g8a kk\n",
              "5                                            5 ovlei\n",
              "6  oli'lldo but decay; in kivullis anp uption' mi..."
            ],
            "text/html": [
              "\n",
              "  <div id=\"df-11c2c846-339f-484a-8b3c-d1d2c653db4f\">\n",
              "    <div class=\"colab-df-container\">\n",
              "      <div>\n",
              "<style scoped>\n",
              "    .dataframe tbody tr th:only-of-type {\n",
              "        vertical-align: middle;\n",
              "    }\n",
              "\n",
              "    .dataframe tbody tr th {\n",
              "        vertical-align: top;\n",
              "    }\n",
              "\n",
              "    .dataframe thead th {\n",
              "        text-align: right;\n",
              "    }\n",
              "</style>\n",
              "<table border=\"1\" class=\"dataframe\">\n",
              "  <thead>\n",
              "    <tr style=\"text-align: right;\">\n",
              "      <th></th>\n",
              "      <th>Text</th>\n",
              "    </tr>\n",
              "  </thead>\n",
              "  <tbody>\n",
              "    <tr>\n",
              "      <th>0</th>\n",
              "      <td>yolpe dt spicable : yoj and ail your kindi</td>\n",
              "    </tr>\n",
              "    <tr>\n",
              "      <th>1</th>\n",
              "      <td>flting onthe defenbeless vinging nothing but m...</td>\n",
              "    </tr>\n",
              "    <tr>\n",
              "      <th>2</th>\n",
              "      <td>y make 03 sick!</td>\n",
              "    </tr>\n",
              "    <tr>\n",
              "      <th>3</th>\n",
              "      <td>wi mhatre tol f</td>\n",
              "    </tr>\n",
              "    <tr>\n",
              "      <th>4</th>\n",
              "      <td>gwlet 6 g8a kk</td>\n",
              "    </tr>\n",
              "    <tr>\n",
              "      <th>5</th>\n",
              "      <td>5 ovlei</td>\n",
              "    </tr>\n",
              "    <tr>\n",
              "      <th>6</th>\n",
              "      <td>oli'lldo but decay; in kivullis anp uption' mi...</td>\n",
              "    </tr>\n",
              "  </tbody>\n",
              "</table>\n",
              "</div>\n",
              "      <button class=\"colab-df-convert\" onclick=\"convertToInteractive('df-11c2c846-339f-484a-8b3c-d1d2c653db4f')\"\n",
              "              title=\"Convert this dataframe to an interactive table.\"\n",
              "              style=\"display:none;\">\n",
              "        \n",
              "  <svg xmlns=\"http://www.w3.org/2000/svg\" height=\"24px\"viewBox=\"0 0 24 24\"\n",
              "       width=\"24px\">\n",
              "    <path d=\"M0 0h24v24H0V0z\" fill=\"none\"/>\n",
              "    <path d=\"M18.56 5.44l.94 2.06.94-2.06 2.06-.94-2.06-.94-.94-2.06-.94 2.06-2.06.94zm-11 1L8.5 8.5l.94-2.06 2.06-.94-2.06-.94L8.5 2.5l-.94 2.06-2.06.94zm10 10l.94 2.06.94-2.06 2.06-.94-2.06-.94-.94-2.06-.94 2.06-2.06.94z\"/><path d=\"M17.41 7.96l-1.37-1.37c-.4-.4-.92-.59-1.43-.59-.52 0-1.04.2-1.43.59L10.3 9.45l-7.72 7.72c-.78.78-.78 2.05 0 2.83L4 21.41c.39.39.9.59 1.41.59.51 0 1.02-.2 1.41-.59l7.78-7.78 2.81-2.81c.8-.78.8-2.07 0-2.86zM5.41 20L4 18.59l7.72-7.72 1.47 1.35L5.41 20z\"/>\n",
              "  </svg>\n",
              "      </button>\n",
              "      \n",
              "  <style>\n",
              "    .colab-df-container {\n",
              "      display:flex;\n",
              "      flex-wrap:wrap;\n",
              "      gap: 12px;\n",
              "    }\n",
              "\n",
              "    .colab-df-convert {\n",
              "      background-color: #E8F0FE;\n",
              "      border: none;\n",
              "      border-radius: 50%;\n",
              "      cursor: pointer;\n",
              "      display: none;\n",
              "      fill: #1967D2;\n",
              "      height: 32px;\n",
              "      padding: 0 0 0 0;\n",
              "      width: 32px;\n",
              "    }\n",
              "\n",
              "    .colab-df-convert:hover {\n",
              "      background-color: #E2EBFA;\n",
              "      box-shadow: 0px 1px 2px rgba(60, 64, 67, 0.3), 0px 1px 3px 1px rgba(60, 64, 67, 0.15);\n",
              "      fill: #174EA6;\n",
              "    }\n",
              "\n",
              "    [theme=dark] .colab-df-convert {\n",
              "      background-color: #3B4455;\n",
              "      fill: #D2E3FC;\n",
              "    }\n",
              "\n",
              "    [theme=dark] .colab-df-convert:hover {\n",
              "      background-color: #434B5C;\n",
              "      box-shadow: 0px 1px 3px 1px rgba(0, 0, 0, 0.15);\n",
              "      filter: drop-shadow(0px 1px 2px rgba(0, 0, 0, 0.3));\n",
              "      fill: #FFFFFF;\n",
              "    }\n",
              "  </style>\n",
              "\n",
              "      <script>\n",
              "        const buttonEl =\n",
              "          document.querySelector('#df-11c2c846-339f-484a-8b3c-d1d2c653db4f button.colab-df-convert');\n",
              "        buttonEl.style.display =\n",
              "          google.colab.kernel.accessAllowed ? 'block' : 'none';\n",
              "\n",
              "        async function convertToInteractive(key) {\n",
              "          const element = document.querySelector('#df-11c2c846-339f-484a-8b3c-d1d2c653db4f');\n",
              "          const dataTable =\n",
              "            await google.colab.kernel.invokeFunction('convertToInteractive',\n",
              "                                                     [key], {});\n",
              "          if (!dataTable) return;\n",
              "\n",
              "          const docLinkHtml = 'Like what you see? Visit the ' +\n",
              "            '<a target=\"_blank\" href=https://colab.research.google.com/notebooks/data_table.ipynb>data table notebook</a>'\n",
              "            + ' to learn more about interactive tables.';\n",
              "          element.innerHTML = '';\n",
              "          dataTable['output_type'] = 'display_data';\n",
              "          await google.colab.output.renderOutput(dataTable, element);\n",
              "          const docLink = document.createElement('div');\n",
              "          docLink.innerHTML = docLinkHtml;\n",
              "          element.appendChild(docLink);\n",
              "        }\n",
              "      </script>\n",
              "    </div>\n",
              "  </div>\n",
              "  "
            ]
          },
          "metadata": {},
          "execution_count": 22
        }
      ]
    },
    {
      "cell_type": "code",
      "source": [
        "Text_dataframe = dataframe.join(text_dataframe['Text'])"
      ],
      "metadata": {
        "id": "-ZstUeAhM4nE"
      },
      "execution_count": 23,
      "outputs": []
    },
    {
      "cell_type": "markdown",
      "source": [
        "Joining both speech location data and its text into a single DataFrame"
      ],
      "metadata": {
        "id": "AFm6mfIXeiDq"
      }
    },
    {
      "cell_type": "code",
      "source": [
        "Text_dataframe"
      ],
      "metadata": {
        "colab": {
          "base_uri": "https://localhost:8080/",
          "height": 269
        },
        "id": "n_j2TNLKM4j1",
        "outputId": "bd6da4bd-fc2e-44e3-c568-e64a9e7eec4d"
      },
      "execution_count": 24,
      "outputs": [
        {
          "output_type": "execute_result",
          "data": {
            "text/plain": [
              "  Panel_no  Class  X_center  y_center    height     width  \\\n",
              "0        1    0.0  0.828734  0.441176  0.215909  0.283422   \n",
              "1        2    0.0  0.715461  0.136461  0.569079  0.230277   \n",
              "2        3    3.0  0.696023  0.099010  0.528409  0.118812   \n",
              "3        3    0.0  0.451705  0.235149  0.380682  0.153465   \n",
              "4        4    0.0  0.315642  0.197561  0.441341  0.258537   \n",
              "5        5    0.0  0.194286  0.079926  0.211429  0.100372   \n",
              "6        5    0.0  0.675714  0.172862  0.534286  0.301115   \n",
              "\n",
              "                                                Text  \n",
              "0         yolpe dt spicable : yoj and ail your kindi  \n",
              "1  flting onthe defenbeless vinging nothing but m...  \n",
              "2                                    y make 03 sick!  \n",
              "3                                    wi mhatre tol f  \n",
              "4                                     gwlet 6 g8a kk  \n",
              "5                                            5 ovlei  \n",
              "6  oli'lldo but decay; in kivullis anp uption' mi...  "
            ],
            "text/html": [
              "\n",
              "  <div id=\"df-08987448-438b-453f-837a-2c474bec0b0e\">\n",
              "    <div class=\"colab-df-container\">\n",
              "      <div>\n",
              "<style scoped>\n",
              "    .dataframe tbody tr th:only-of-type {\n",
              "        vertical-align: middle;\n",
              "    }\n",
              "\n",
              "    .dataframe tbody tr th {\n",
              "        vertical-align: top;\n",
              "    }\n",
              "\n",
              "    .dataframe thead th {\n",
              "        text-align: right;\n",
              "    }\n",
              "</style>\n",
              "<table border=\"1\" class=\"dataframe\">\n",
              "  <thead>\n",
              "    <tr style=\"text-align: right;\">\n",
              "      <th></th>\n",
              "      <th>Panel_no</th>\n",
              "      <th>Class</th>\n",
              "      <th>X_center</th>\n",
              "      <th>y_center</th>\n",
              "      <th>height</th>\n",
              "      <th>width</th>\n",
              "      <th>Text</th>\n",
              "    </tr>\n",
              "  </thead>\n",
              "  <tbody>\n",
              "    <tr>\n",
              "      <th>0</th>\n",
              "      <td>1</td>\n",
              "      <td>0.0</td>\n",
              "      <td>0.828734</td>\n",
              "      <td>0.441176</td>\n",
              "      <td>0.215909</td>\n",
              "      <td>0.283422</td>\n",
              "      <td>yolpe dt spicable : yoj and ail your kindi</td>\n",
              "    </tr>\n",
              "    <tr>\n",
              "      <th>1</th>\n",
              "      <td>2</td>\n",
              "      <td>0.0</td>\n",
              "      <td>0.715461</td>\n",
              "      <td>0.136461</td>\n",
              "      <td>0.569079</td>\n",
              "      <td>0.230277</td>\n",
              "      <td>flting onthe defenbeless vinging nothing but m...</td>\n",
              "    </tr>\n",
              "    <tr>\n",
              "      <th>2</th>\n",
              "      <td>3</td>\n",
              "      <td>3.0</td>\n",
              "      <td>0.696023</td>\n",
              "      <td>0.099010</td>\n",
              "      <td>0.528409</td>\n",
              "      <td>0.118812</td>\n",
              "      <td>y make 03 sick!</td>\n",
              "    </tr>\n",
              "    <tr>\n",
              "      <th>3</th>\n",
              "      <td>3</td>\n",
              "      <td>0.0</td>\n",
              "      <td>0.451705</td>\n",
              "      <td>0.235149</td>\n",
              "      <td>0.380682</td>\n",
              "      <td>0.153465</td>\n",
              "      <td>wi mhatre tol f</td>\n",
              "    </tr>\n",
              "    <tr>\n",
              "      <th>4</th>\n",
              "      <td>4</td>\n",
              "      <td>0.0</td>\n",
              "      <td>0.315642</td>\n",
              "      <td>0.197561</td>\n",
              "      <td>0.441341</td>\n",
              "      <td>0.258537</td>\n",
              "      <td>gwlet 6 g8a kk</td>\n",
              "    </tr>\n",
              "    <tr>\n",
              "      <th>5</th>\n",
              "      <td>5</td>\n",
              "      <td>0.0</td>\n",
              "      <td>0.194286</td>\n",
              "      <td>0.079926</td>\n",
              "      <td>0.211429</td>\n",
              "      <td>0.100372</td>\n",
              "      <td>5 ovlei</td>\n",
              "    </tr>\n",
              "    <tr>\n",
              "      <th>6</th>\n",
              "      <td>5</td>\n",
              "      <td>0.0</td>\n",
              "      <td>0.675714</td>\n",
              "      <td>0.172862</td>\n",
              "      <td>0.534286</td>\n",
              "      <td>0.301115</td>\n",
              "      <td>oli'lldo but decay; in kivullis anp uption' mi...</td>\n",
              "    </tr>\n",
              "  </tbody>\n",
              "</table>\n",
              "</div>\n",
              "      <button class=\"colab-df-convert\" onclick=\"convertToInteractive('df-08987448-438b-453f-837a-2c474bec0b0e')\"\n",
              "              title=\"Convert this dataframe to an interactive table.\"\n",
              "              style=\"display:none;\">\n",
              "        \n",
              "  <svg xmlns=\"http://www.w3.org/2000/svg\" height=\"24px\"viewBox=\"0 0 24 24\"\n",
              "       width=\"24px\">\n",
              "    <path d=\"M0 0h24v24H0V0z\" fill=\"none\"/>\n",
              "    <path d=\"M18.56 5.44l.94 2.06.94-2.06 2.06-.94-2.06-.94-.94-2.06-.94 2.06-2.06.94zm-11 1L8.5 8.5l.94-2.06 2.06-.94-2.06-.94L8.5 2.5l-.94 2.06-2.06.94zm10 10l.94 2.06.94-2.06 2.06-.94-2.06-.94-.94-2.06-.94 2.06-2.06.94z\"/><path d=\"M17.41 7.96l-1.37-1.37c-.4-.4-.92-.59-1.43-.59-.52 0-1.04.2-1.43.59L10.3 9.45l-7.72 7.72c-.78.78-.78 2.05 0 2.83L4 21.41c.39.39.9.59 1.41.59.51 0 1.02-.2 1.41-.59l7.78-7.78 2.81-2.81c.8-.78.8-2.07 0-2.86zM5.41 20L4 18.59l7.72-7.72 1.47 1.35L5.41 20z\"/>\n",
              "  </svg>\n",
              "      </button>\n",
              "      \n",
              "  <style>\n",
              "    .colab-df-container {\n",
              "      display:flex;\n",
              "      flex-wrap:wrap;\n",
              "      gap: 12px;\n",
              "    }\n",
              "\n",
              "    .colab-df-convert {\n",
              "      background-color: #E8F0FE;\n",
              "      border: none;\n",
              "      border-radius: 50%;\n",
              "      cursor: pointer;\n",
              "      display: none;\n",
              "      fill: #1967D2;\n",
              "      height: 32px;\n",
              "      padding: 0 0 0 0;\n",
              "      width: 32px;\n",
              "    }\n",
              "\n",
              "    .colab-df-convert:hover {\n",
              "      background-color: #E2EBFA;\n",
              "      box-shadow: 0px 1px 2px rgba(60, 64, 67, 0.3), 0px 1px 3px 1px rgba(60, 64, 67, 0.15);\n",
              "      fill: #174EA6;\n",
              "    }\n",
              "\n",
              "    [theme=dark] .colab-df-convert {\n",
              "      background-color: #3B4455;\n",
              "      fill: #D2E3FC;\n",
              "    }\n",
              "\n",
              "    [theme=dark] .colab-df-convert:hover {\n",
              "      background-color: #434B5C;\n",
              "      box-shadow: 0px 1px 3px 1px rgba(0, 0, 0, 0.15);\n",
              "      filter: drop-shadow(0px 1px 2px rgba(0, 0, 0, 0.3));\n",
              "      fill: #FFFFFF;\n",
              "    }\n",
              "  </style>\n",
              "\n",
              "      <script>\n",
              "        const buttonEl =\n",
              "          document.querySelector('#df-08987448-438b-453f-837a-2c474bec0b0e button.colab-df-convert');\n",
              "        buttonEl.style.display =\n",
              "          google.colab.kernel.accessAllowed ? 'block' : 'none';\n",
              "\n",
              "        async function convertToInteractive(key) {\n",
              "          const element = document.querySelector('#df-08987448-438b-453f-837a-2c474bec0b0e');\n",
              "          const dataTable =\n",
              "            await google.colab.kernel.invokeFunction('convertToInteractive',\n",
              "                                                     [key], {});\n",
              "          if (!dataTable) return;\n",
              "\n",
              "          const docLinkHtml = 'Like what you see? Visit the ' +\n",
              "            '<a target=\"_blank\" href=https://colab.research.google.com/notebooks/data_table.ipynb>data table notebook</a>'\n",
              "            + ' to learn more about interactive tables.';\n",
              "          element.innerHTML = '';\n",
              "          dataTable['output_type'] = 'display_data';\n",
              "          await google.colab.output.renderOutput(dataTable, element);\n",
              "          const docLink = document.createElement('div');\n",
              "          docLink.innerHTML = docLinkHtml;\n",
              "          element.appendChild(docLink);\n",
              "        }\n",
              "      </script>\n",
              "    </div>\n",
              "  </div>\n",
              "  "
            ]
          },
          "metadata": {},
          "execution_count": 24
        }
      ]
    },
    {
      "cell_type": "markdown",
      "source": [
        "**Characters**\n"
      ],
      "metadata": {
        "id": "Nq0SECzyUovI"
      }
    },
    {
      "cell_type": "code",
      "source": [
        "for i in range(len(panels)):\n",
        "  !python /content/yolov5/detect.py --save-txt --source {panels[i]} --weights /content/best_char.pt"
      ],
      "metadata": {
        "id": "nGrE39CCTyrf",
        "colab": {
          "base_uri": "https://localhost:8080/"
        },
        "outputId": "fb77fdbe-3fa1-48ab-aac0-17845d67d4a0"
      },
      "execution_count": 27,
      "outputs": [
        {
          "output_type": "stream",
          "name": "stdout",
          "text": [
            "\u001b[34m\u001b[1mdetect: \u001b[0mweights=['/content/best_char.pt'], source=/content/yolov5/runs/detect/exp/crops/Panels/kp.jpg, data=data/coco128.yaml, imgsz=[640, 640], conf_thres=0.25, iou_thres=0.45, max_det=1000, device=, view_img=False, save_txt=True, save_conf=False, save_crop=False, nosave=False, classes=None, agnostic_nms=False, augment=False, visualize=False, update=False, project=runs/detect, name=exp, exist_ok=False, line_thickness=3, hide_labels=False, hide_conf=False, half=False, dnn=False, vid_stride=1\n",
            "YOLOv5 🚀 v7.0-134-g23c4923 Python-3.9.16 torch-2.0.0+cu118 CPU\n",
            "\n",
            "Fusing layers... \n",
            "Model summary: 322 layers, 86644444 parameters, 0 gradients, 205.3 GFLOPs\n",
            "1 [[tensor(10.), tensor(51.), tensor(125.), tensor(173.)], [tensor(258.), tensor(72.), tensor(500.), tensor(178.)]]\n",
            "2\n",
            "2 [[tensor(10.), tensor(51.), tensor(125.), tensor(173.)], [tensor(258.), tensor(72.), tensor(500.), tensor(178.)]]\n",
            "image 1/1 /content/yolov5/runs/detect/exp/crops/Panels/kp.jpg: 224x640 1 man, 1 venom, 1671.9ms\n",
            "Speed: 4.2ms pre-process, 1671.9ms inference, 1.7ms NMS per image at shape (1, 3, 640, 640)\n",
            "Results saved to \u001b[1mruns/detect/exp7\u001b[0m\n",
            "1 labels saved to runs/detect/exp7/labels\n",
            "\u001b[34m\u001b[1mdetect: \u001b[0mweights=['/content/best_char.pt'], source=/content/yolov5/runs/detect/exp/crops/Panels/kp2.jpg, data=data/coco128.yaml, imgsz=[640, 640], conf_thres=0.25, iou_thres=0.45, max_det=1000, device=, view_img=False, save_txt=True, save_conf=False, save_crop=False, nosave=False, classes=None, agnostic_nms=False, augment=False, visualize=False, update=False, project=runs/detect, name=exp, exist_ok=False, line_thickness=3, hide_labels=False, hide_conf=False, half=False, dnn=False, vid_stride=1\n",
            "YOLOv5 🚀 v7.0-134-g23c4923 Python-3.9.16 torch-2.0.0+cu118 CPU\n",
            "\n",
            "Fusing layers... \n",
            "Model summary: 322 layers, 86644444 parameters, 0 gradients, 205.3 GFLOPs\n",
            "1 [[tensor(1.), tensor(48.), tensor(140.), tensor(231.)], [tensor(0.), tensor(331.), tensor(165.), tensor(469.)], [tensor(101.), tensor(107.), tensor(276.), tensor(331.)]]\n",
            "3\n",
            "2 [[tensor(1.), tensor(48.), tensor(140.), tensor(231.)], [tensor(101.), tensor(107.), tensor(276.), tensor(331.)], [tensor(0.), tensor(331.), tensor(165.), tensor(469.)]]\n",
            "image 1/1 /content/yolov5/runs/detect/exp/crops/Panels/kp2.jpg: 640x416 1 man, 1 venom, 1 woman, 2415.7ms\n",
            "Speed: 4.0ms pre-process, 2415.7ms inference, 2.1ms NMS per image at shape (1, 3, 640, 640)\n",
            "Results saved to \u001b[1mruns/detect/exp8\u001b[0m\n",
            "1 labels saved to runs/detect/exp8/labels\n",
            "\u001b[34m\u001b[1mdetect: \u001b[0mweights=['/content/best_char.pt'], source=/content/yolov5/runs/detect/exp/crops/Panels/kp3.jpg, data=data/coco128.yaml, imgsz=[640, 640], conf_thres=0.25, iou_thres=0.45, max_det=1000, device=, view_img=False, save_txt=True, save_conf=False, save_crop=False, nosave=False, classes=None, agnostic_nms=False, augment=False, visualize=False, update=False, project=runs/detect, name=exp, exist_ok=False, line_thickness=3, hide_labels=False, hide_conf=False, half=False, dnn=False, vid_stride=1\n",
            "YOLOv5 🚀 v7.0-134-g23c4923 Python-3.9.16 torch-2.0.0+cu118 CPU\n",
            "\n",
            "Fusing layers... \n",
            "Model summary: 322 layers, 86644444 parameters, 0 gradients, 205.3 GFLOPs\n",
            "1 [[tensor(8.), tensor(15.), tensor(153.), tensor(191.)]]\n",
            "1\n",
            "2 [[tensor(8.), tensor(15.), tensor(153.), tensor(191.)]]\n",
            "image 1/1 /content/yolov5/runs/detect/exp/crops/Panels/kp3.jpg: 640x576 1 Sandman, 3217.8ms\n",
            "Speed: 3.5ms pre-process, 3217.8ms inference, 2.7ms NMS per image at shape (1, 3, 640, 640)\n",
            "Results saved to \u001b[1mruns/detect/exp9\u001b[0m\n",
            "1 labels saved to runs/detect/exp9/labels\n",
            "\u001b[34m\u001b[1mdetect: \u001b[0mweights=['/content/best_char.pt'], source=/content/yolov5/runs/detect/exp/crops/Panels/kp4.jpg, data=data/coco128.yaml, imgsz=[640, 640], conf_thres=0.25, iou_thres=0.45, max_det=1000, device=, view_img=False, save_txt=True, save_conf=False, save_crop=False, nosave=False, classes=None, agnostic_nms=False, augment=False, visualize=False, update=False, project=runs/detect, name=exp, exist_ok=False, line_thickness=3, hide_labels=False, hide_conf=False, half=False, dnn=False, vid_stride=1\n",
            "YOLOv5 🚀 v7.0-134-g23c4923 Python-3.9.16 torch-2.0.0+cu118 CPU\n",
            "\n",
            "Fusing layers... \n",
            "Model summary: 322 layers, 86644444 parameters, 0 gradients, 205.3 GFLOPs\n",
            "image 1/1 /content/yolov5/runs/detect/exp/crops/Panels/kp4.jpg: 640x576 (no detections), 3239.3ms\n",
            "Speed: 3.4ms pre-process, 3239.3ms inference, 7.8ms NMS per image at shape (1, 3, 640, 640)\n",
            "Results saved to \u001b[1mruns/detect/exp10\u001b[0m\n",
            "0 labels saved to runs/detect/exp10/labels\n",
            "\u001b[34m\u001b[1mdetect: \u001b[0mweights=['/content/best_char.pt'], source=/content/yolov5/runs/detect/exp/crops/Panels/kp5.jpg, data=data/coco128.yaml, imgsz=[640, 640], conf_thres=0.25, iou_thres=0.45, max_det=1000, device=, view_img=False, save_txt=True, save_conf=False, save_crop=False, nosave=False, classes=None, agnostic_nms=False, augment=False, visualize=False, update=False, project=runs/detect, name=exp, exist_ok=False, line_thickness=3, hide_labels=False, hide_conf=False, half=False, dnn=False, vid_stride=1\n",
            "YOLOv5 🚀 v7.0-134-g23c4923 Python-3.9.16 torch-2.0.0+cu118 CPU\n",
            "\n",
            "Fusing layers... \n",
            "Model summary: 322 layers, 86644444 parameters, 0 gradients, 205.3 GFLOPs\n",
            "1 [[tensor(24.), tensor(146.), tensor(117.), tensor(252.)], [tensor(264.), tensor(89.), tensor(327.), tensor(181.)], [tensor(37.), tensor(17.), tensor(260.), tensor(252.)]]\n",
            "3\n",
            "2 [[tensor(37.), tensor(17.), tensor(260.), tensor(252.)], [tensor(264.), tensor(89.), tensor(327.), tensor(181.)], [tensor(24.), tensor(146.), tensor(117.), tensor(252.)]]\n",
            "image 1/1 /content/yolov5/runs/detect/exp/crops/Panels/kp5.jpg: 512x640 1 Goblin, 1 venom, 1 woman, 2755.1ms\n",
            "Speed: 2.5ms pre-process, 2755.1ms inference, 1.7ms NMS per image at shape (1, 3, 640, 640)\n",
            "Results saved to \u001b[1mruns/detect/exp11\u001b[0m\n",
            "1 labels saved to runs/detect/exp11/labels\n"
          ]
        }
      ]
    },
    {
      "cell_type": "code",
      "source": [
        "#Speech_balloon table with distance\n",
        "# speech_baloons_paths_main = []\n",
        "temp = []\n",
        "panel_number = 0\n",
        "dataframe = pd.DataFrame(columns = ['Panel_no',\t'Class',\t'X_center',\t'y_center',\t'height',\t'width'])\n",
        "for i in range(len(panels)+2,len(panels)+2+len(panels)):\n",
        "  for root,dir,files in os.walk(os.path.abspath(\"/content/yolov5/runs/detect/exp{0}/labels/\".format(i))):\n",
        "    for file in files:\n",
        "      temp.append(os.path.join(root, file))\n",
        "      print('sddddddddddddd',temp)\n",
        "      # zz = '{fname}'.format(fname=temp)\n",
        "for k in range(len(temp)):\n",
        "  df = pd.read_csv(temp[k], header = None, sep=\" \")\n",
        "  panel_number += 1 \n",
        "  dff = sorting_speech_balloons(df,panel_number)\n",
        "      # print(dff)\n",
        "  dataframe = dataframe.append(dff, ignore_index=True)"
      ],
      "metadata": {
        "id": "UmCfCekATyou",
        "colab": {
          "base_uri": "https://localhost:8080/"
        },
        "outputId": "7ecdf40d-28fa-4dcc-f37f-f5402c0663a9"
      },
      "execution_count": 28,
      "outputs": [
        {
          "output_type": "stream",
          "name": "stdout",
          "text": [
            "sddddddddddddd ['/content/yolov5/runs/detect/exp7/labels/kp.txt']\n",
            "sddddddddddddd ['/content/yolov5/runs/detect/exp7/labels/kp.txt', '/content/yolov5/runs/detect/exp8/labels/kp2.txt']\n",
            "sddddddddddddd ['/content/yolov5/runs/detect/exp7/labels/kp.txt', '/content/yolov5/runs/detect/exp8/labels/kp2.txt', '/content/yolov5/runs/detect/exp9/labels/kp3.txt']\n",
            "sddddddddddddd ['/content/yolov5/runs/detect/exp7/labels/kp.txt', '/content/yolov5/runs/detect/exp8/labels/kp2.txt', '/content/yolov5/runs/detect/exp9/labels/kp3.txt', '/content/yolov5/runs/detect/exp11/labels/kp5.txt']\n",
            "last [[65.0, 0.109578, 0.59893, 0.186688, 0.652406], [69.0, 0.61526, 0.668449, 0.392857, 0.566845]]\n",
            "last [[70.0, 0.271382, 0.852878, 0.542763, 0.294243]]\n",
            "last [[47.0, 0.457386, 0.509901, 0.823864, 0.871287]]\n",
            "last [[20.0, 0.201429, 0.739777, 0.265714, 0.394052]]\n"
          ]
        },
        {
          "output_type": "stream",
          "name": "stderr",
          "text": [
            "<ipython-input-28-3f82c25fc022>:17: FutureWarning: The frame.append method is deprecated and will be removed from pandas in a future version. Use pandas.concat instead.\n",
            "  dataframe = dataframe.append(dff, ignore_index=True)\n",
            "<ipython-input-28-3f82c25fc022>:17: FutureWarning: The frame.append method is deprecated and will be removed from pandas in a future version. Use pandas.concat instead.\n",
            "  dataframe = dataframe.append(dff, ignore_index=True)\n",
            "<ipython-input-28-3f82c25fc022>:17: FutureWarning: The frame.append method is deprecated and will be removed from pandas in a future version. Use pandas.concat instead.\n",
            "  dataframe = dataframe.append(dff, ignore_index=True)\n",
            "<ipython-input-28-3f82c25fc022>:17: FutureWarning: The frame.append method is deprecated and will be removed from pandas in a future version. Use pandas.concat instead.\n",
            "  dataframe = dataframe.append(dff, ignore_index=True)\n"
          ]
        }
      ]
    },
    {
      "cell_type": "code",
      "source": [
        "Character_table = dataframe"
      ],
      "metadata": {
        "id": "tGu-bMLOlGtH"
      },
      "execution_count": 29,
      "outputs": []
    },
    {
      "cell_type": "code",
      "source": [
        "Character_table"
      ],
      "metadata": {
        "colab": {
          "base_uri": "https://localhost:8080/",
          "height": 331
        },
        "id": "JxxNRrAFlGpy",
        "outputId": "5d625a4e-4a35-481a-b98f-fe54ab236a2f"
      },
      "execution_count": 30,
      "outputs": [
        {
          "output_type": "execute_result",
          "data": {
            "text/plain": [
              "  Panel_no  Class  X_center  y_center    height     width\n",
              "0        1   65.0  0.109578  0.598930  0.186688  0.652406\n",
              "1        1   69.0  0.615260  0.668449  0.392857  0.566845\n",
              "2        2   65.0  0.231908  0.297441  0.457237  0.390192\n",
              "3        2   69.0  0.620066  0.466951  0.575658  0.477612\n",
              "4        2   70.0  0.271382  0.852878  0.542763  0.294243\n",
              "5        3   47.0  0.457386  0.509901  0.823864  0.871287\n",
              "6        4   69.0  0.424286  0.500000  0.637143  0.873606\n",
              "7        4   70.0  0.844286  0.501859  0.180000  0.342007\n",
              "8        4   20.0  0.201429  0.739777  0.265714  0.394052"
            ],
            "text/html": [
              "\n",
              "  <div id=\"df-9ca4d52a-4896-41da-8d00-d95104d6dcd9\">\n",
              "    <div class=\"colab-df-container\">\n",
              "      <div>\n",
              "<style scoped>\n",
              "    .dataframe tbody tr th:only-of-type {\n",
              "        vertical-align: middle;\n",
              "    }\n",
              "\n",
              "    .dataframe tbody tr th {\n",
              "        vertical-align: top;\n",
              "    }\n",
              "\n",
              "    .dataframe thead th {\n",
              "        text-align: right;\n",
              "    }\n",
              "</style>\n",
              "<table border=\"1\" class=\"dataframe\">\n",
              "  <thead>\n",
              "    <tr style=\"text-align: right;\">\n",
              "      <th></th>\n",
              "      <th>Panel_no</th>\n",
              "      <th>Class</th>\n",
              "      <th>X_center</th>\n",
              "      <th>y_center</th>\n",
              "      <th>height</th>\n",
              "      <th>width</th>\n",
              "    </tr>\n",
              "  </thead>\n",
              "  <tbody>\n",
              "    <tr>\n",
              "      <th>0</th>\n",
              "      <td>1</td>\n",
              "      <td>65.0</td>\n",
              "      <td>0.109578</td>\n",
              "      <td>0.598930</td>\n",
              "      <td>0.186688</td>\n",
              "      <td>0.652406</td>\n",
              "    </tr>\n",
              "    <tr>\n",
              "      <th>1</th>\n",
              "      <td>1</td>\n",
              "      <td>69.0</td>\n",
              "      <td>0.615260</td>\n",
              "      <td>0.668449</td>\n",
              "      <td>0.392857</td>\n",
              "      <td>0.566845</td>\n",
              "    </tr>\n",
              "    <tr>\n",
              "      <th>2</th>\n",
              "      <td>2</td>\n",
              "      <td>65.0</td>\n",
              "      <td>0.231908</td>\n",
              "      <td>0.297441</td>\n",
              "      <td>0.457237</td>\n",
              "      <td>0.390192</td>\n",
              "    </tr>\n",
              "    <tr>\n",
              "      <th>3</th>\n",
              "      <td>2</td>\n",
              "      <td>69.0</td>\n",
              "      <td>0.620066</td>\n",
              "      <td>0.466951</td>\n",
              "      <td>0.575658</td>\n",
              "      <td>0.477612</td>\n",
              "    </tr>\n",
              "    <tr>\n",
              "      <th>4</th>\n",
              "      <td>2</td>\n",
              "      <td>70.0</td>\n",
              "      <td>0.271382</td>\n",
              "      <td>0.852878</td>\n",
              "      <td>0.542763</td>\n",
              "      <td>0.294243</td>\n",
              "    </tr>\n",
              "    <tr>\n",
              "      <th>5</th>\n",
              "      <td>3</td>\n",
              "      <td>47.0</td>\n",
              "      <td>0.457386</td>\n",
              "      <td>0.509901</td>\n",
              "      <td>0.823864</td>\n",
              "      <td>0.871287</td>\n",
              "    </tr>\n",
              "    <tr>\n",
              "      <th>6</th>\n",
              "      <td>4</td>\n",
              "      <td>69.0</td>\n",
              "      <td>0.424286</td>\n",
              "      <td>0.500000</td>\n",
              "      <td>0.637143</td>\n",
              "      <td>0.873606</td>\n",
              "    </tr>\n",
              "    <tr>\n",
              "      <th>7</th>\n",
              "      <td>4</td>\n",
              "      <td>70.0</td>\n",
              "      <td>0.844286</td>\n",
              "      <td>0.501859</td>\n",
              "      <td>0.180000</td>\n",
              "      <td>0.342007</td>\n",
              "    </tr>\n",
              "    <tr>\n",
              "      <th>8</th>\n",
              "      <td>4</td>\n",
              "      <td>20.0</td>\n",
              "      <td>0.201429</td>\n",
              "      <td>0.739777</td>\n",
              "      <td>0.265714</td>\n",
              "      <td>0.394052</td>\n",
              "    </tr>\n",
              "  </tbody>\n",
              "</table>\n",
              "</div>\n",
              "      <button class=\"colab-df-convert\" onclick=\"convertToInteractive('df-9ca4d52a-4896-41da-8d00-d95104d6dcd9')\"\n",
              "              title=\"Convert this dataframe to an interactive table.\"\n",
              "              style=\"display:none;\">\n",
              "        \n",
              "  <svg xmlns=\"http://www.w3.org/2000/svg\" height=\"24px\"viewBox=\"0 0 24 24\"\n",
              "       width=\"24px\">\n",
              "    <path d=\"M0 0h24v24H0V0z\" fill=\"none\"/>\n",
              "    <path d=\"M18.56 5.44l.94 2.06.94-2.06 2.06-.94-2.06-.94-.94-2.06-.94 2.06-2.06.94zm-11 1L8.5 8.5l.94-2.06 2.06-.94-2.06-.94L8.5 2.5l-.94 2.06-2.06.94zm10 10l.94 2.06.94-2.06 2.06-.94-2.06-.94-.94-2.06-.94 2.06-2.06.94z\"/><path d=\"M17.41 7.96l-1.37-1.37c-.4-.4-.92-.59-1.43-.59-.52 0-1.04.2-1.43.59L10.3 9.45l-7.72 7.72c-.78.78-.78 2.05 0 2.83L4 21.41c.39.39.9.59 1.41.59.51 0 1.02-.2 1.41-.59l7.78-7.78 2.81-2.81c.8-.78.8-2.07 0-2.86zM5.41 20L4 18.59l7.72-7.72 1.47 1.35L5.41 20z\"/>\n",
              "  </svg>\n",
              "      </button>\n",
              "      \n",
              "  <style>\n",
              "    .colab-df-container {\n",
              "      display:flex;\n",
              "      flex-wrap:wrap;\n",
              "      gap: 12px;\n",
              "    }\n",
              "\n",
              "    .colab-df-convert {\n",
              "      background-color: #E8F0FE;\n",
              "      border: none;\n",
              "      border-radius: 50%;\n",
              "      cursor: pointer;\n",
              "      display: none;\n",
              "      fill: #1967D2;\n",
              "      height: 32px;\n",
              "      padding: 0 0 0 0;\n",
              "      width: 32px;\n",
              "    }\n",
              "\n",
              "    .colab-df-convert:hover {\n",
              "      background-color: #E2EBFA;\n",
              "      box-shadow: 0px 1px 2px rgba(60, 64, 67, 0.3), 0px 1px 3px 1px rgba(60, 64, 67, 0.15);\n",
              "      fill: #174EA6;\n",
              "    }\n",
              "\n",
              "    [theme=dark] .colab-df-convert {\n",
              "      background-color: #3B4455;\n",
              "      fill: #D2E3FC;\n",
              "    }\n",
              "\n",
              "    [theme=dark] .colab-df-convert:hover {\n",
              "      background-color: #434B5C;\n",
              "      box-shadow: 0px 1px 3px 1px rgba(0, 0, 0, 0.15);\n",
              "      filter: drop-shadow(0px 1px 2px rgba(0, 0, 0, 0.3));\n",
              "      fill: #FFFFFF;\n",
              "    }\n",
              "  </style>\n",
              "\n",
              "      <script>\n",
              "        const buttonEl =\n",
              "          document.querySelector('#df-9ca4d52a-4896-41da-8d00-d95104d6dcd9 button.colab-df-convert');\n",
              "        buttonEl.style.display =\n",
              "          google.colab.kernel.accessAllowed ? 'block' : 'none';\n",
              "\n",
              "        async function convertToInteractive(key) {\n",
              "          const element = document.querySelector('#df-9ca4d52a-4896-41da-8d00-d95104d6dcd9');\n",
              "          const dataTable =\n",
              "            await google.colab.kernel.invokeFunction('convertToInteractive',\n",
              "                                                     [key], {});\n",
              "          if (!dataTable) return;\n",
              "\n",
              "          const docLinkHtml = 'Like what you see? Visit the ' +\n",
              "            '<a target=\"_blank\" href=https://colab.research.google.com/notebooks/data_table.ipynb>data table notebook</a>'\n",
              "            + ' to learn more about interactive tables.';\n",
              "          element.innerHTML = '';\n",
              "          dataTable['output_type'] = 'display_data';\n",
              "          await google.colab.output.renderOutput(dataTable, element);\n",
              "          const docLink = document.createElement('div');\n",
              "          docLink.innerHTML = docLinkHtml;\n",
              "          element.appendChild(docLink);\n",
              "        }\n",
              "      </script>\n",
              "    </div>\n",
              "  </div>\n",
              "  "
            ]
          },
          "metadata": {},
          "execution_count": 30
        }
      ]
    },
    {
      "cell_type": "code",
      "source": [
        "Text_dataframe"
      ],
      "metadata": {
        "colab": {
          "base_uri": "https://localhost:8080/",
          "height": 269
        },
        "id": "EwZ8Y7iUlGnS",
        "outputId": "7b1b0054-5628-4e41-8976-a8c28bb6edca"
      },
      "execution_count": 31,
      "outputs": [
        {
          "output_type": "execute_result",
          "data": {
            "text/plain": [
              "  Panel_no  Class  X_center  y_center    height     width  \\\n",
              "0        1    0.0  0.828734  0.441176  0.215909  0.283422   \n",
              "1        2    0.0  0.715461  0.136461  0.569079  0.230277   \n",
              "2        3    3.0  0.696023  0.099010  0.528409  0.118812   \n",
              "3        3    0.0  0.451705  0.235149  0.380682  0.153465   \n",
              "4        4    0.0  0.315642  0.197561  0.441341  0.258537   \n",
              "5        5    0.0  0.194286  0.079926  0.211429  0.100372   \n",
              "6        5    0.0  0.675714  0.172862  0.534286  0.301115   \n",
              "\n",
              "                                                Text  \n",
              "0         yolpe dt spicable : yoj and ail your kindi  \n",
              "1  flting onthe defenbeless vinging nothing but m...  \n",
              "2                                    y make 03 sick!  \n",
              "3                                    wi mhatre tol f  \n",
              "4                                     gwlet 6 g8a kk  \n",
              "5                                            5 ovlei  \n",
              "6  oli'lldo but decay; in kivullis anp uption' mi...  "
            ],
            "text/html": [
              "\n",
              "  <div id=\"df-0416592e-a3ec-49bc-84fe-2ed0d15ab838\">\n",
              "    <div class=\"colab-df-container\">\n",
              "      <div>\n",
              "<style scoped>\n",
              "    .dataframe tbody tr th:only-of-type {\n",
              "        vertical-align: middle;\n",
              "    }\n",
              "\n",
              "    .dataframe tbody tr th {\n",
              "        vertical-align: top;\n",
              "    }\n",
              "\n",
              "    .dataframe thead th {\n",
              "        text-align: right;\n",
              "    }\n",
              "</style>\n",
              "<table border=\"1\" class=\"dataframe\">\n",
              "  <thead>\n",
              "    <tr style=\"text-align: right;\">\n",
              "      <th></th>\n",
              "      <th>Panel_no</th>\n",
              "      <th>Class</th>\n",
              "      <th>X_center</th>\n",
              "      <th>y_center</th>\n",
              "      <th>height</th>\n",
              "      <th>width</th>\n",
              "      <th>Text</th>\n",
              "    </tr>\n",
              "  </thead>\n",
              "  <tbody>\n",
              "    <tr>\n",
              "      <th>0</th>\n",
              "      <td>1</td>\n",
              "      <td>0.0</td>\n",
              "      <td>0.828734</td>\n",
              "      <td>0.441176</td>\n",
              "      <td>0.215909</td>\n",
              "      <td>0.283422</td>\n",
              "      <td>yolpe dt spicable : yoj and ail your kindi</td>\n",
              "    </tr>\n",
              "    <tr>\n",
              "      <th>1</th>\n",
              "      <td>2</td>\n",
              "      <td>0.0</td>\n",
              "      <td>0.715461</td>\n",
              "      <td>0.136461</td>\n",
              "      <td>0.569079</td>\n",
              "      <td>0.230277</td>\n",
              "      <td>flting onthe defenbeless vinging nothing but m...</td>\n",
              "    </tr>\n",
              "    <tr>\n",
              "      <th>2</th>\n",
              "      <td>3</td>\n",
              "      <td>3.0</td>\n",
              "      <td>0.696023</td>\n",
              "      <td>0.099010</td>\n",
              "      <td>0.528409</td>\n",
              "      <td>0.118812</td>\n",
              "      <td>y make 03 sick!</td>\n",
              "    </tr>\n",
              "    <tr>\n",
              "      <th>3</th>\n",
              "      <td>3</td>\n",
              "      <td>0.0</td>\n",
              "      <td>0.451705</td>\n",
              "      <td>0.235149</td>\n",
              "      <td>0.380682</td>\n",
              "      <td>0.153465</td>\n",
              "      <td>wi mhatre tol f</td>\n",
              "    </tr>\n",
              "    <tr>\n",
              "      <th>4</th>\n",
              "      <td>4</td>\n",
              "      <td>0.0</td>\n",
              "      <td>0.315642</td>\n",
              "      <td>0.197561</td>\n",
              "      <td>0.441341</td>\n",
              "      <td>0.258537</td>\n",
              "      <td>gwlet 6 g8a kk</td>\n",
              "    </tr>\n",
              "    <tr>\n",
              "      <th>5</th>\n",
              "      <td>5</td>\n",
              "      <td>0.0</td>\n",
              "      <td>0.194286</td>\n",
              "      <td>0.079926</td>\n",
              "      <td>0.211429</td>\n",
              "      <td>0.100372</td>\n",
              "      <td>5 ovlei</td>\n",
              "    </tr>\n",
              "    <tr>\n",
              "      <th>6</th>\n",
              "      <td>5</td>\n",
              "      <td>0.0</td>\n",
              "      <td>0.675714</td>\n",
              "      <td>0.172862</td>\n",
              "      <td>0.534286</td>\n",
              "      <td>0.301115</td>\n",
              "      <td>oli'lldo but decay; in kivullis anp uption' mi...</td>\n",
              "    </tr>\n",
              "  </tbody>\n",
              "</table>\n",
              "</div>\n",
              "      <button class=\"colab-df-convert\" onclick=\"convertToInteractive('df-0416592e-a3ec-49bc-84fe-2ed0d15ab838')\"\n",
              "              title=\"Convert this dataframe to an interactive table.\"\n",
              "              style=\"display:none;\">\n",
              "        \n",
              "  <svg xmlns=\"http://www.w3.org/2000/svg\" height=\"24px\"viewBox=\"0 0 24 24\"\n",
              "       width=\"24px\">\n",
              "    <path d=\"M0 0h24v24H0V0z\" fill=\"none\"/>\n",
              "    <path d=\"M18.56 5.44l.94 2.06.94-2.06 2.06-.94-2.06-.94-.94-2.06-.94 2.06-2.06.94zm-11 1L8.5 8.5l.94-2.06 2.06-.94-2.06-.94L8.5 2.5l-.94 2.06-2.06.94zm10 10l.94 2.06.94-2.06 2.06-.94-2.06-.94-.94-2.06-.94 2.06-2.06.94z\"/><path d=\"M17.41 7.96l-1.37-1.37c-.4-.4-.92-.59-1.43-.59-.52 0-1.04.2-1.43.59L10.3 9.45l-7.72 7.72c-.78.78-.78 2.05 0 2.83L4 21.41c.39.39.9.59 1.41.59.51 0 1.02-.2 1.41-.59l7.78-7.78 2.81-2.81c.8-.78.8-2.07 0-2.86zM5.41 20L4 18.59l7.72-7.72 1.47 1.35L5.41 20z\"/>\n",
              "  </svg>\n",
              "      </button>\n",
              "      \n",
              "  <style>\n",
              "    .colab-df-container {\n",
              "      display:flex;\n",
              "      flex-wrap:wrap;\n",
              "      gap: 12px;\n",
              "    }\n",
              "\n",
              "    .colab-df-convert {\n",
              "      background-color: #E8F0FE;\n",
              "      border: none;\n",
              "      border-radius: 50%;\n",
              "      cursor: pointer;\n",
              "      display: none;\n",
              "      fill: #1967D2;\n",
              "      height: 32px;\n",
              "      padding: 0 0 0 0;\n",
              "      width: 32px;\n",
              "    }\n",
              "\n",
              "    .colab-df-convert:hover {\n",
              "      background-color: #E2EBFA;\n",
              "      box-shadow: 0px 1px 2px rgba(60, 64, 67, 0.3), 0px 1px 3px 1px rgba(60, 64, 67, 0.15);\n",
              "      fill: #174EA6;\n",
              "    }\n",
              "\n",
              "    [theme=dark] .colab-df-convert {\n",
              "      background-color: #3B4455;\n",
              "      fill: #D2E3FC;\n",
              "    }\n",
              "\n",
              "    [theme=dark] .colab-df-convert:hover {\n",
              "      background-color: #434B5C;\n",
              "      box-shadow: 0px 1px 3px 1px rgba(0, 0, 0, 0.15);\n",
              "      filter: drop-shadow(0px 1px 2px rgba(0, 0, 0, 0.3));\n",
              "      fill: #FFFFFF;\n",
              "    }\n",
              "  </style>\n",
              "\n",
              "      <script>\n",
              "        const buttonEl =\n",
              "          document.querySelector('#df-0416592e-a3ec-49bc-84fe-2ed0d15ab838 button.colab-df-convert');\n",
              "        buttonEl.style.display =\n",
              "          google.colab.kernel.accessAllowed ? 'block' : 'none';\n",
              "\n",
              "        async function convertToInteractive(key) {\n",
              "          const element = document.querySelector('#df-0416592e-a3ec-49bc-84fe-2ed0d15ab838');\n",
              "          const dataTable =\n",
              "            await google.colab.kernel.invokeFunction('convertToInteractive',\n",
              "                                                     [key], {});\n",
              "          if (!dataTable) return;\n",
              "\n",
              "          const docLinkHtml = 'Like what you see? Visit the ' +\n",
              "            '<a target=\"_blank\" href=https://colab.research.google.com/notebooks/data_table.ipynb>data table notebook</a>'\n",
              "            + ' to learn more about interactive tables.';\n",
              "          element.innerHTML = '';\n",
              "          dataTable['output_type'] = 'display_data';\n",
              "          await google.colab.output.renderOutput(dataTable, element);\n",
              "          const docLink = document.createElement('div');\n",
              "          docLink.innerHTML = docLinkHtml;\n",
              "          element.appendChild(docLink);\n",
              "        }\n",
              "      </script>\n",
              "    </div>\n",
              "  </div>\n",
              "  "
            ]
          },
          "metadata": {},
          "execution_count": 31
        }
      ]
    },
    {
      "cell_type": "markdown",
      "source": [
        "Join the tables"
      ],
      "metadata": {
        "id": "OvVnbLdgVWcB"
      }
    },
    {
      "cell_type": "code",
      "source": [],
      "metadata": {
        "id": "lvQBtrwfVWAX"
      },
      "execution_count": null,
      "outputs": []
    },
    {
      "cell_type": "code",
      "source": [],
      "metadata": {
        "id": "rzU71PPXlGhv"
      },
      "execution_count": null,
      "outputs": []
    },
    {
      "cell_type": "code",
      "source": [],
      "metadata": {
        "id": "KML-PZ-elGfV"
      },
      "execution_count": null,
      "outputs": []
    },
    {
      "cell_type": "markdown",
      "source": [
        "Speech Cloning:\n",
        "1. Collect data for classes\n",
        "2. Train for Sythesiser, encoder\n",
        "3. if else code\n",
        "4. Storage"
      ],
      "metadata": {
        "id": "-ib9GOduVZBp"
      }
    },
    {
      "cell_type": "code",
      "source": [],
      "metadata": {
        "id": "BKysHWFllGcp"
      },
      "execution_count": null,
      "outputs": []
    },
    {
      "cell_type": "code",
      "source": [],
      "metadata": {
        "id": "YId6ePawTymL"
      },
      "execution_count": null,
      "outputs": []
    },
    {
      "cell_type": "markdown",
      "source": [
        "Storage:\n",
        "1. Store the speech\n",
        "2. Store the panels data\n"
      ],
      "metadata": {
        "id": "rMCm77NfVwxo"
      }
    },
    {
      "cell_type": "code",
      "source": [],
      "metadata": {
        "id": "DuRs8QVmTyja"
      },
      "execution_count": null,
      "outputs": []
    },
    {
      "cell_type": "code",
      "source": [],
      "metadata": {
        "id": "0Zyipn1NV_9e"
      },
      "execution_count": null,
      "outputs": []
    },
    {
      "cell_type": "code",
      "source": [],
      "metadata": {
        "id": "M54C38bdV_6G"
      },
      "execution_count": null,
      "outputs": []
    },
    {
      "cell_type": "markdown",
      "source": [
        "Moviepy"
      ],
      "metadata": {
        "id": "K7_QsBN1WAes"
      }
    },
    {
      "cell_type": "code",
      "source": [],
      "metadata": {
        "id": "QIzpl8qDV_34"
      },
      "execution_count": null,
      "outputs": []
    },
    {
      "cell_type": "code",
      "source": [],
      "metadata": {
        "id": "iRddWKsEV_1S"
      },
      "execution_count": null,
      "outputs": []
    },
    {
      "cell_type": "code",
      "source": [],
      "metadata": {
        "id": "Iz5xeyqqV_zQ"
      },
      "execution_count": null,
      "outputs": []
    },
    {
      "cell_type": "code",
      "source": [],
      "metadata": {
        "id": "rnfpjJ_gTygo"
      },
      "execution_count": null,
      "outputs": []
    }
  ]
}