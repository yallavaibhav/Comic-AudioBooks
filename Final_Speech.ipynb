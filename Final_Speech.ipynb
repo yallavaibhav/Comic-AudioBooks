{
  "nbformat": 4,
  "nbformat_minor": 0,
  "metadata": {
    "colab": {
      "provenance": [],
      "authorship_tag": "ABX9TyNXuM+3bCFGFsz1HUd+H+KS",
      "include_colab_link": true
    },
    "kernelspec": {
      "name": "python3",
      "display_name": "Python 3"
    },
    "language_info": {
      "name": "python"
    }
  },
  "cells": [
    {
      "cell_type": "markdown",
      "metadata": {
        "id": "view-in-github",
        "colab_type": "text"
      },
      "source": [
        "<a href=\"https://colab.research.google.com/github/yallavaibhav/Comic-AudioBooks/blob/vaibhav/Final_Speech.ipynb\" target=\"_parent\"><img src=\"https://colab.research.google.com/assets/colab-badge.svg\" alt=\"Open In Colab\"/></a>"
      ]
    },
    {
      "cell_type": "code",
      "source": [
        "import pandas as pd\n",
        "df = pd.read_csv('/content/Venom (1).csv')"
      ],
      "metadata": {
        "id": "5JdcCBXVVmn4"
      },
      "execution_count": 49,
      "outputs": []
    },
    {
      "cell_type": "code",
      "source": [
        "df"
      ],
      "metadata": {
        "colab": {
          "base_uri": "https://localhost:8080/",
          "height": 382
        },
        "id": "adHHLICAbxTb",
        "outputId": "bb1289a8-be04-43b0-babe-fe211204c533"
      },
      "execution_count": 50,
      "outputs": [
        {
          "output_type": "execute_result",
          "data": {
            "text/plain": [
              "   Unnamed: 0  Panel_no  Class_x  X_center_x  y_center_x  Class_y  X_center_y  \\\n",
              "0           1       1.0     69.0    0.615260    0.668449      0.0    0.828734   \n",
              "1           2       2.0      NaN         NaN         NaN      0.0    0.315642   \n",
              "2           4       3.0     47.0    0.457386    0.509901      0.0    0.451705   \n",
              "3           3       3.0     47.0    0.457386    0.509901      3.0    0.696023   \n",
              "4           6       4.0     69.0    0.620066    0.466951      0.0    0.715461   \n",
              "5           8       5.0     69.0    0.424286    0.500000      0.0    0.194286   \n",
              "6          12       5.0     70.0    0.844286    0.501859      0.0    0.675714   \n",
              "\n",
              "   y_center_y                                               Text  Distance  \\\n",
              "0    0.441176         yolpe dt spicable : yoj and ail your kindi  0.311808   \n",
              "1    0.197561                                     gwlet 6 g8a kk       NaN   \n",
              "2    0.235149                                    y make 03 sick!  0.274811   \n",
              "3    0.099010                                    wi mhatre tol f  0.475162   \n",
              "4    0.136461  flting onthe defenbeless vinging nothing but m...  0.343982   \n",
              "5    0.079926                                            5 ovlei  0.478918   \n",
              "6    0.172862  oli'lldo but decay; in kivullis anp uption' mi...  0.369670   \n",
              "\n",
              "   rnk  \n",
              "0  1.0  \n",
              "1  NaN  \n",
              "2  1.0  \n",
              "3  1.0  \n",
              "4  1.0  \n",
              "5  1.0  \n",
              "6  1.0  "
            ],
            "text/html": [
              "\n",
              "  <div id=\"df-a79bf990-9f3e-4524-bef2-7a168854d74d\">\n",
              "    <div class=\"colab-df-container\">\n",
              "      <div>\n",
              "<style scoped>\n",
              "    .dataframe tbody tr th:only-of-type {\n",
              "        vertical-align: middle;\n",
              "    }\n",
              "\n",
              "    .dataframe tbody tr th {\n",
              "        vertical-align: top;\n",
              "    }\n",
              "\n",
              "    .dataframe thead th {\n",
              "        text-align: right;\n",
              "    }\n",
              "</style>\n",
              "<table border=\"1\" class=\"dataframe\">\n",
              "  <thead>\n",
              "    <tr style=\"text-align: right;\">\n",
              "      <th></th>\n",
              "      <th>Unnamed: 0</th>\n",
              "      <th>Panel_no</th>\n",
              "      <th>Class_x</th>\n",
              "      <th>X_center_x</th>\n",
              "      <th>y_center_x</th>\n",
              "      <th>Class_y</th>\n",
              "      <th>X_center_y</th>\n",
              "      <th>y_center_y</th>\n",
              "      <th>Text</th>\n",
              "      <th>Distance</th>\n",
              "      <th>rnk</th>\n",
              "    </tr>\n",
              "  </thead>\n",
              "  <tbody>\n",
              "    <tr>\n",
              "      <th>0</th>\n",
              "      <td>1</td>\n",
              "      <td>1.0</td>\n",
              "      <td>69.0</td>\n",
              "      <td>0.615260</td>\n",
              "      <td>0.668449</td>\n",
              "      <td>0.0</td>\n",
              "      <td>0.828734</td>\n",
              "      <td>0.441176</td>\n",
              "      <td>yolpe dt spicable : yoj and ail your kindi</td>\n",
              "      <td>0.311808</td>\n",
              "      <td>1.0</td>\n",
              "    </tr>\n",
              "    <tr>\n",
              "      <th>1</th>\n",
              "      <td>2</td>\n",
              "      <td>2.0</td>\n",
              "      <td>NaN</td>\n",
              "      <td>NaN</td>\n",
              "      <td>NaN</td>\n",
              "      <td>0.0</td>\n",
              "      <td>0.315642</td>\n",
              "      <td>0.197561</td>\n",
              "      <td>gwlet 6 g8a kk</td>\n",
              "      <td>NaN</td>\n",
              "      <td>NaN</td>\n",
              "    </tr>\n",
              "    <tr>\n",
              "      <th>2</th>\n",
              "      <td>4</td>\n",
              "      <td>3.0</td>\n",
              "      <td>47.0</td>\n",
              "      <td>0.457386</td>\n",
              "      <td>0.509901</td>\n",
              "      <td>0.0</td>\n",
              "      <td>0.451705</td>\n",
              "      <td>0.235149</td>\n",
              "      <td>y make 03 sick!</td>\n",
              "      <td>0.274811</td>\n",
              "      <td>1.0</td>\n",
              "    </tr>\n",
              "    <tr>\n",
              "      <th>3</th>\n",
              "      <td>3</td>\n",
              "      <td>3.0</td>\n",
              "      <td>47.0</td>\n",
              "      <td>0.457386</td>\n",
              "      <td>0.509901</td>\n",
              "      <td>3.0</td>\n",
              "      <td>0.696023</td>\n",
              "      <td>0.099010</td>\n",
              "      <td>wi mhatre tol f</td>\n",
              "      <td>0.475162</td>\n",
              "      <td>1.0</td>\n",
              "    </tr>\n",
              "    <tr>\n",
              "      <th>4</th>\n",
              "      <td>6</td>\n",
              "      <td>4.0</td>\n",
              "      <td>69.0</td>\n",
              "      <td>0.620066</td>\n",
              "      <td>0.466951</td>\n",
              "      <td>0.0</td>\n",
              "      <td>0.715461</td>\n",
              "      <td>0.136461</td>\n",
              "      <td>flting onthe defenbeless vinging nothing but m...</td>\n",
              "      <td>0.343982</td>\n",
              "      <td>1.0</td>\n",
              "    </tr>\n",
              "    <tr>\n",
              "      <th>5</th>\n",
              "      <td>8</td>\n",
              "      <td>5.0</td>\n",
              "      <td>69.0</td>\n",
              "      <td>0.424286</td>\n",
              "      <td>0.500000</td>\n",
              "      <td>0.0</td>\n",
              "      <td>0.194286</td>\n",
              "      <td>0.079926</td>\n",
              "      <td>5 ovlei</td>\n",
              "      <td>0.478918</td>\n",
              "      <td>1.0</td>\n",
              "    </tr>\n",
              "    <tr>\n",
              "      <th>6</th>\n",
              "      <td>12</td>\n",
              "      <td>5.0</td>\n",
              "      <td>70.0</td>\n",
              "      <td>0.844286</td>\n",
              "      <td>0.501859</td>\n",
              "      <td>0.0</td>\n",
              "      <td>0.675714</td>\n",
              "      <td>0.172862</td>\n",
              "      <td>oli'lldo but decay; in kivullis anp uption' mi...</td>\n",
              "      <td>0.369670</td>\n",
              "      <td>1.0</td>\n",
              "    </tr>\n",
              "  </tbody>\n",
              "</table>\n",
              "</div>\n",
              "      <button class=\"colab-df-convert\" onclick=\"convertToInteractive('df-a79bf990-9f3e-4524-bef2-7a168854d74d')\"\n",
              "              title=\"Convert this dataframe to an interactive table.\"\n",
              "              style=\"display:none;\">\n",
              "        \n",
              "  <svg xmlns=\"http://www.w3.org/2000/svg\" height=\"24px\"viewBox=\"0 0 24 24\"\n",
              "       width=\"24px\">\n",
              "    <path d=\"M0 0h24v24H0V0z\" fill=\"none\"/>\n",
              "    <path d=\"M18.56 5.44l.94 2.06.94-2.06 2.06-.94-2.06-.94-.94-2.06-.94 2.06-2.06.94zm-11 1L8.5 8.5l.94-2.06 2.06-.94-2.06-.94L8.5 2.5l-.94 2.06-2.06.94zm10 10l.94 2.06.94-2.06 2.06-.94-2.06-.94-.94-2.06-.94 2.06-2.06.94z\"/><path d=\"M17.41 7.96l-1.37-1.37c-.4-.4-.92-.59-1.43-.59-.52 0-1.04.2-1.43.59L10.3 9.45l-7.72 7.72c-.78.78-.78 2.05 0 2.83L4 21.41c.39.39.9.59 1.41.59.51 0 1.02-.2 1.41-.59l7.78-7.78 2.81-2.81c.8-.78.8-2.07 0-2.86zM5.41 20L4 18.59l7.72-7.72 1.47 1.35L5.41 20z\"/>\n",
              "  </svg>\n",
              "      </button>\n",
              "      \n",
              "  <style>\n",
              "    .colab-df-container {\n",
              "      display:flex;\n",
              "      flex-wrap:wrap;\n",
              "      gap: 12px;\n",
              "    }\n",
              "\n",
              "    .colab-df-convert {\n",
              "      background-color: #E8F0FE;\n",
              "      border: none;\n",
              "      border-radius: 50%;\n",
              "      cursor: pointer;\n",
              "      display: none;\n",
              "      fill: #1967D2;\n",
              "      height: 32px;\n",
              "      padding: 0 0 0 0;\n",
              "      width: 32px;\n",
              "    }\n",
              "\n",
              "    .colab-df-convert:hover {\n",
              "      background-color: #E2EBFA;\n",
              "      box-shadow: 0px 1px 2px rgba(60, 64, 67, 0.3), 0px 1px 3px 1px rgba(60, 64, 67, 0.15);\n",
              "      fill: #174EA6;\n",
              "    }\n",
              "\n",
              "    [theme=dark] .colab-df-convert {\n",
              "      background-color: #3B4455;\n",
              "      fill: #D2E3FC;\n",
              "    }\n",
              "\n",
              "    [theme=dark] .colab-df-convert:hover {\n",
              "      background-color: #434B5C;\n",
              "      box-shadow: 0px 1px 3px 1px rgba(0, 0, 0, 0.15);\n",
              "      filter: drop-shadow(0px 1px 2px rgba(0, 0, 0, 0.3));\n",
              "      fill: #FFFFFF;\n",
              "    }\n",
              "  </style>\n",
              "\n",
              "      <script>\n",
              "        const buttonEl =\n",
              "          document.querySelector('#df-a79bf990-9f3e-4524-bef2-7a168854d74d button.colab-df-convert');\n",
              "        buttonEl.style.display =\n",
              "          google.colab.kernel.accessAllowed ? 'block' : 'none';\n",
              "\n",
              "        async function convertToInteractive(key) {\n",
              "          const element = document.querySelector('#df-a79bf990-9f3e-4524-bef2-7a168854d74d');\n",
              "          const dataTable =\n",
              "            await google.colab.kernel.invokeFunction('convertToInteractive',\n",
              "                                                     [key], {});\n",
              "          if (!dataTable) return;\n",
              "\n",
              "          const docLinkHtml = 'Like what you see? Visit the ' +\n",
              "            '<a target=\"_blank\" href=https://colab.research.google.com/notebooks/data_table.ipynb>data table notebook</a>'\n",
              "            + ' to learn more about interactive tables.';\n",
              "          element.innerHTML = '';\n",
              "          dataTable['output_type'] = 'display_data';\n",
              "          await google.colab.output.renderOutput(dataTable, element);\n",
              "          const docLink = document.createElement('div');\n",
              "          docLink.innerHTML = docLinkHtml;\n",
              "          element.appendChild(docLink);\n",
              "        }\n",
              "      </script>\n",
              "    </div>\n",
              "  </div>\n",
              "  "
            ]
          },
          "metadata": {},
          "execution_count": 50
        }
      ]
    },
    {
      "cell_type": "code",
      "source": [
        "df = df.fillna(value={'Class_x': 200})"
      ],
      "metadata": {
        "id": "-KR9UGILbyn6"
      },
      "execution_count": 51,
      "outputs": []
    },
    {
      "cell_type": "code",
      "source": [
        "df"
      ],
      "metadata": {
        "colab": {
          "base_uri": "https://localhost:8080/",
          "height": 382
        },
        "id": "KuHRR2zCcQjV",
        "outputId": "80b4abc9-8d18-4e07-9883-74c43c338726"
      },
      "execution_count": 52,
      "outputs": [
        {
          "output_type": "execute_result",
          "data": {
            "text/plain": [
              "   Unnamed: 0  Panel_no  Class_x  X_center_x  y_center_x  Class_y  X_center_y  \\\n",
              "0           1       1.0     69.0    0.615260    0.668449      0.0    0.828734   \n",
              "1           2       2.0    200.0         NaN         NaN      0.0    0.315642   \n",
              "2           4       3.0     47.0    0.457386    0.509901      0.0    0.451705   \n",
              "3           3       3.0     47.0    0.457386    0.509901      3.0    0.696023   \n",
              "4           6       4.0     69.0    0.620066    0.466951      0.0    0.715461   \n",
              "5           8       5.0     69.0    0.424286    0.500000      0.0    0.194286   \n",
              "6          12       5.0     70.0    0.844286    0.501859      0.0    0.675714   \n",
              "\n",
              "   y_center_y                                               Text  Distance  \\\n",
              "0    0.441176         yolpe dt spicable : yoj and ail your kindi  0.311808   \n",
              "1    0.197561                                     gwlet 6 g8a kk       NaN   \n",
              "2    0.235149                                    y make 03 sick!  0.274811   \n",
              "3    0.099010                                    wi mhatre tol f  0.475162   \n",
              "4    0.136461  flting onthe defenbeless vinging nothing but m...  0.343982   \n",
              "5    0.079926                                            5 ovlei  0.478918   \n",
              "6    0.172862  oli'lldo but decay; in kivullis anp uption' mi...  0.369670   \n",
              "\n",
              "   rnk  \n",
              "0  1.0  \n",
              "1  NaN  \n",
              "2  1.0  \n",
              "3  1.0  \n",
              "4  1.0  \n",
              "5  1.0  \n",
              "6  1.0  "
            ],
            "text/html": [
              "\n",
              "  <div id=\"df-793c58f8-c010-41b5-b541-da2796357d25\">\n",
              "    <div class=\"colab-df-container\">\n",
              "      <div>\n",
              "<style scoped>\n",
              "    .dataframe tbody tr th:only-of-type {\n",
              "        vertical-align: middle;\n",
              "    }\n",
              "\n",
              "    .dataframe tbody tr th {\n",
              "        vertical-align: top;\n",
              "    }\n",
              "\n",
              "    .dataframe thead th {\n",
              "        text-align: right;\n",
              "    }\n",
              "</style>\n",
              "<table border=\"1\" class=\"dataframe\">\n",
              "  <thead>\n",
              "    <tr style=\"text-align: right;\">\n",
              "      <th></th>\n",
              "      <th>Unnamed: 0</th>\n",
              "      <th>Panel_no</th>\n",
              "      <th>Class_x</th>\n",
              "      <th>X_center_x</th>\n",
              "      <th>y_center_x</th>\n",
              "      <th>Class_y</th>\n",
              "      <th>X_center_y</th>\n",
              "      <th>y_center_y</th>\n",
              "      <th>Text</th>\n",
              "      <th>Distance</th>\n",
              "      <th>rnk</th>\n",
              "    </tr>\n",
              "  </thead>\n",
              "  <tbody>\n",
              "    <tr>\n",
              "      <th>0</th>\n",
              "      <td>1</td>\n",
              "      <td>1.0</td>\n",
              "      <td>69.0</td>\n",
              "      <td>0.615260</td>\n",
              "      <td>0.668449</td>\n",
              "      <td>0.0</td>\n",
              "      <td>0.828734</td>\n",
              "      <td>0.441176</td>\n",
              "      <td>yolpe dt spicable : yoj and ail your kindi</td>\n",
              "      <td>0.311808</td>\n",
              "      <td>1.0</td>\n",
              "    </tr>\n",
              "    <tr>\n",
              "      <th>1</th>\n",
              "      <td>2</td>\n",
              "      <td>2.0</td>\n",
              "      <td>200.0</td>\n",
              "      <td>NaN</td>\n",
              "      <td>NaN</td>\n",
              "      <td>0.0</td>\n",
              "      <td>0.315642</td>\n",
              "      <td>0.197561</td>\n",
              "      <td>gwlet 6 g8a kk</td>\n",
              "      <td>NaN</td>\n",
              "      <td>NaN</td>\n",
              "    </tr>\n",
              "    <tr>\n",
              "      <th>2</th>\n",
              "      <td>4</td>\n",
              "      <td>3.0</td>\n",
              "      <td>47.0</td>\n",
              "      <td>0.457386</td>\n",
              "      <td>0.509901</td>\n",
              "      <td>0.0</td>\n",
              "      <td>0.451705</td>\n",
              "      <td>0.235149</td>\n",
              "      <td>y make 03 sick!</td>\n",
              "      <td>0.274811</td>\n",
              "      <td>1.0</td>\n",
              "    </tr>\n",
              "    <tr>\n",
              "      <th>3</th>\n",
              "      <td>3</td>\n",
              "      <td>3.0</td>\n",
              "      <td>47.0</td>\n",
              "      <td>0.457386</td>\n",
              "      <td>0.509901</td>\n",
              "      <td>3.0</td>\n",
              "      <td>0.696023</td>\n",
              "      <td>0.099010</td>\n",
              "      <td>wi mhatre tol f</td>\n",
              "      <td>0.475162</td>\n",
              "      <td>1.0</td>\n",
              "    </tr>\n",
              "    <tr>\n",
              "      <th>4</th>\n",
              "      <td>6</td>\n",
              "      <td>4.0</td>\n",
              "      <td>69.0</td>\n",
              "      <td>0.620066</td>\n",
              "      <td>0.466951</td>\n",
              "      <td>0.0</td>\n",
              "      <td>0.715461</td>\n",
              "      <td>0.136461</td>\n",
              "      <td>flting onthe defenbeless vinging nothing but m...</td>\n",
              "      <td>0.343982</td>\n",
              "      <td>1.0</td>\n",
              "    </tr>\n",
              "    <tr>\n",
              "      <th>5</th>\n",
              "      <td>8</td>\n",
              "      <td>5.0</td>\n",
              "      <td>69.0</td>\n",
              "      <td>0.424286</td>\n",
              "      <td>0.500000</td>\n",
              "      <td>0.0</td>\n",
              "      <td>0.194286</td>\n",
              "      <td>0.079926</td>\n",
              "      <td>5 ovlei</td>\n",
              "      <td>0.478918</td>\n",
              "      <td>1.0</td>\n",
              "    </tr>\n",
              "    <tr>\n",
              "      <th>6</th>\n",
              "      <td>12</td>\n",
              "      <td>5.0</td>\n",
              "      <td>70.0</td>\n",
              "      <td>0.844286</td>\n",
              "      <td>0.501859</td>\n",
              "      <td>0.0</td>\n",
              "      <td>0.675714</td>\n",
              "      <td>0.172862</td>\n",
              "      <td>oli'lldo but decay; in kivullis anp uption' mi...</td>\n",
              "      <td>0.369670</td>\n",
              "      <td>1.0</td>\n",
              "    </tr>\n",
              "  </tbody>\n",
              "</table>\n",
              "</div>\n",
              "      <button class=\"colab-df-convert\" onclick=\"convertToInteractive('df-793c58f8-c010-41b5-b541-da2796357d25')\"\n",
              "              title=\"Convert this dataframe to an interactive table.\"\n",
              "              style=\"display:none;\">\n",
              "        \n",
              "  <svg xmlns=\"http://www.w3.org/2000/svg\" height=\"24px\"viewBox=\"0 0 24 24\"\n",
              "       width=\"24px\">\n",
              "    <path d=\"M0 0h24v24H0V0z\" fill=\"none\"/>\n",
              "    <path d=\"M18.56 5.44l.94 2.06.94-2.06 2.06-.94-2.06-.94-.94-2.06-.94 2.06-2.06.94zm-11 1L8.5 8.5l.94-2.06 2.06-.94-2.06-.94L8.5 2.5l-.94 2.06-2.06.94zm10 10l.94 2.06.94-2.06 2.06-.94-2.06-.94-.94-2.06-.94 2.06-2.06.94z\"/><path d=\"M17.41 7.96l-1.37-1.37c-.4-.4-.92-.59-1.43-.59-.52 0-1.04.2-1.43.59L10.3 9.45l-7.72 7.72c-.78.78-.78 2.05 0 2.83L4 21.41c.39.39.9.59 1.41.59.51 0 1.02-.2 1.41-.59l7.78-7.78 2.81-2.81c.8-.78.8-2.07 0-2.86zM5.41 20L4 18.59l7.72-7.72 1.47 1.35L5.41 20z\"/>\n",
              "  </svg>\n",
              "      </button>\n",
              "      \n",
              "  <style>\n",
              "    .colab-df-container {\n",
              "      display:flex;\n",
              "      flex-wrap:wrap;\n",
              "      gap: 12px;\n",
              "    }\n",
              "\n",
              "    .colab-df-convert {\n",
              "      background-color: #E8F0FE;\n",
              "      border: none;\n",
              "      border-radius: 50%;\n",
              "      cursor: pointer;\n",
              "      display: none;\n",
              "      fill: #1967D2;\n",
              "      height: 32px;\n",
              "      padding: 0 0 0 0;\n",
              "      width: 32px;\n",
              "    }\n",
              "\n",
              "    .colab-df-convert:hover {\n",
              "      background-color: #E2EBFA;\n",
              "      box-shadow: 0px 1px 2px rgba(60, 64, 67, 0.3), 0px 1px 3px 1px rgba(60, 64, 67, 0.15);\n",
              "      fill: #174EA6;\n",
              "    }\n",
              "\n",
              "    [theme=dark] .colab-df-convert {\n",
              "      background-color: #3B4455;\n",
              "      fill: #D2E3FC;\n",
              "    }\n",
              "\n",
              "    [theme=dark] .colab-df-convert:hover {\n",
              "      background-color: #434B5C;\n",
              "      box-shadow: 0px 1px 3px 1px rgba(0, 0, 0, 0.15);\n",
              "      filter: drop-shadow(0px 1px 2px rgba(0, 0, 0, 0.3));\n",
              "      fill: #FFFFFF;\n",
              "    }\n",
              "  </style>\n",
              "\n",
              "      <script>\n",
              "        const buttonEl =\n",
              "          document.querySelector('#df-793c58f8-c010-41b5-b541-da2796357d25 button.colab-df-convert');\n",
              "        buttonEl.style.display =\n",
              "          google.colab.kernel.accessAllowed ? 'block' : 'none';\n",
              "\n",
              "        async function convertToInteractive(key) {\n",
              "          const element = document.querySelector('#df-793c58f8-c010-41b5-b541-da2796357d25');\n",
              "          const dataTable =\n",
              "            await google.colab.kernel.invokeFunction('convertToInteractive',\n",
              "                                                     [key], {});\n",
              "          if (!dataTable) return;\n",
              "\n",
              "          const docLinkHtml = 'Like what you see? Visit the ' +\n",
              "            '<a target=\"_blank\" href=https://colab.research.google.com/notebooks/data_table.ipynb>data table notebook</a>'\n",
              "            + ' to learn more about interactive tables.';\n",
              "          element.innerHTML = '';\n",
              "          dataTable['output_type'] = 'display_data';\n",
              "          await google.colab.output.renderOutput(dataTable, element);\n",
              "          const docLink = document.createElement('div');\n",
              "          docLink.innerHTML = docLinkHtml;\n",
              "          element.appendChild(docLink);\n",
              "        }\n",
              "      </script>\n",
              "    </div>\n",
              "  </div>\n",
              "  "
            ]
          },
          "metadata": {},
          "execution_count": 52
        }
      ]
    },
    {
      "cell_type": "code",
      "execution_count": 1,
      "metadata": {
        "colab": {
          "base_uri": "https://localhost:8080/"
        },
        "id": "McBjCLQiQWny",
        "outputId": "7a9097e8-af01-44dc-d35a-b81e55ea14ca"
      },
      "outputs": [
        {
          "output_type": "stream",
          "name": "stdout",
          "text": [
            "Cloning into 'Real-Time-Voice-Cloning'...\n",
            "remote: Enumerating objects: 2671, done.\u001b[K\n",
            "remote: Counting objects: 100% (3/3), done.\u001b[K\n",
            "remote: Compressing objects: 100% (3/3), done.\u001b[K\n",
            "remote: Total 2671 (delta 0), reused 1 (delta 0), pack-reused 2668\u001b[K\n",
            "Receiving objects: 100% (2671/2671), 361.01 MiB | 21.36 MiB/s, done.\n",
            "Resolving deltas: 100% (1435/1435), done.\n"
          ]
        }
      ],
      "source": [
        "!git clone https://github.com/CorentinJ/Real-Time-Voice-Cloning.git"
      ]
    },
    {
      "cell_type": "code",
      "source": [
        "%cd Real-Time-Voice-Cloning/"
      ],
      "metadata": {
        "colab": {
          "base_uri": "https://localhost:8080/"
        },
        "id": "iH9fUjmqQdHe",
        "outputId": "7c91607b-51aa-4bfc-eaec-46810cf5817c"
      },
      "execution_count": 2,
      "outputs": [
        {
          "output_type": "stream",
          "name": "stdout",
          "text": [
            "/content/Real-Time-Voice-Cloning\n"
          ]
        }
      ]
    },
    {
      "cell_type": "code",
      "source": [
        "!pip install -q -r requirements.txt"
      ],
      "metadata": {
        "colab": {
          "base_uri": "https://localhost:8080/"
        },
        "id": "64JdS9_PQe7U",
        "outputId": "f9013f58-7821-48d2-d7bd-236b49c2f184"
      },
      "execution_count": 3,
      "outputs": [
        {
          "output_type": "stream",
          "name": "stdout",
          "text": [
            "\u001b[2K     \u001b[90m━━━━━━━━━━━━━━━━━━━━━━━━━━━━━━━━━━━━━━━\u001b[0m \u001b[32m203.8/203.8 kB\u001b[0m \u001b[31m9.1 MB/s\u001b[0m eta \u001b[36m0:00:00\u001b[0m\n",
            "\u001b[2K     \u001b[90m━━━━━━━━━━━━━━━━━━━━━━━━━━━━━━━━━━━━━━━━\u001b[0m \u001b[32m11.2/11.2 MB\u001b[0m \u001b[31m37.3 MB/s\u001b[0m eta \u001b[36m0:00:00\u001b[0m\n",
            "\u001b[2K     \u001b[90m━━━━━━━━━━━━━━━━━━━━━━━━━━━━━━━━━━━━━━━━\u001b[0m \u001b[32m15.4/15.4 MB\u001b[0m \u001b[31m39.3 MB/s\u001b[0m eta \u001b[36m0:00:00\u001b[0m\n",
            "\u001b[2K     \u001b[90m━━━━━━━━━━━━━━━━━━━━━━━━━━━━━━━━━━━━━━━━\u001b[0m \u001b[32m8.3/8.3 MB\u001b[0m \u001b[31m49.1 MB/s\u001b[0m eta \u001b[36m0:00:00\u001b[0m\n",
            "\u001b[2K     \u001b[90m━━━━━━━━━━━━━━━━━━━━━━━━━━━━━━━━━━━━━━━━\u001b[0m \u001b[32m26.4/26.4 MB\u001b[0m \u001b[31m15.6 MB/s\u001b[0m eta \u001b[36m0:00:00\u001b[0m\n",
            "\u001b[2K     \u001b[90m━━━━━━━━━━━━━━━━━━━━━━━━━━━━━━━━━━━━━━━━\u001b[0m \u001b[32m39.8/39.8 MB\u001b[0m \u001b[31m11.5 MB/s\u001b[0m eta \u001b[36m0:00:00\u001b[0m\n",
            "\u001b[2K     \u001b[90m━━━━━━━━━━━━━━━━━━━━━━━━━━━━━━━━━━━━━━━━\u001b[0m \u001b[32m76.2/76.2 kB\u001b[0m \u001b[31m3.6 MB/s\u001b[0m eta \u001b[36m0:00:00\u001b[0m\n",
            "\u001b[2K     \u001b[90m━━━━━━━━━━━━━━━━━━━━━━━━━━━━━━━━━━━━━━━━\u001b[0m \u001b[32m86.8/86.8 kB\u001b[0m \u001b[31m5.4 MB/s\u001b[0m eta \u001b[36m0:00:00\u001b[0m\n",
            "\u001b[?25h  Preparing metadata (setup.py) ... \u001b[?25l\u001b[?25hdone\n",
            "\u001b[2K     \u001b[90m━━━━━━━━━━━━━━━━━━━━━━━━━━━━━━━━━━━━━━\u001b[0m \u001b[32m235.7/235.7 kB\u001b[0m \u001b[31m10.9 MB/s\u001b[0m eta \u001b[36m0:00:00\u001b[0m\n",
            "\u001b[2K     \u001b[90m━━━━━━━━━━━━━━━━━━━━━━━━━━━━━━━━━━━━━━━\u001b[0m \u001b[32m138.8/138.8 kB\u001b[0m \u001b[31m5.9 MB/s\u001b[0m eta \u001b[36m0:00:00\u001b[0m\n",
            "\u001b[2K     \u001b[90m━━━━━━━━━━━━━━━━━━━━━━━━━━━━━━━━━━━━━━\u001b[0m \u001b[32m676.6/676.6 kB\u001b[0m \u001b[31m23.0 MB/s\u001b[0m eta \u001b[36m0:00:00\u001b[0m\n",
            "\u001b[?25h  Preparing metadata (setup.py) ... \u001b[?25l\u001b[?25hdone\n",
            "\u001b[2K     \u001b[90m━━━━━━━━━━━━━━━━━━━━━━━━━━━━━━━━━━━━━━━━\u001b[0m \u001b[32m66.2/66.2 kB\u001b[0m \u001b[31m5.8 MB/s\u001b[0m eta \u001b[36m0:00:00\u001b[0m\n",
            "\u001b[?25h  Preparing metadata (setup.py) ... \u001b[?25l\u001b[?25hdone\n",
            "\u001b[2K     \u001b[90m━━━━━━━━━━━━━━━━━━━━━━━━━━━━━━━━━━━━━━━━\u001b[0m \u001b[32m3.1/3.1 MB\u001b[0m \u001b[31m69.9 MB/s\u001b[0m eta \u001b[36m0:00:00\u001b[0m\n",
            "\u001b[2K     \u001b[90m━━━━━━━━━━━━━━━━━━━━━━━━━━━━━━━━━━━━━━━━\u001b[0m \u001b[32m59.9/59.9 MB\u001b[0m \u001b[31m11.5 MB/s\u001b[0m eta \u001b[36m0:00:00\u001b[0m\n",
            "\u001b[2K     \u001b[90m━━━━━━━━━━━━━━━━━━━━━━━━━━━━━━━━━━━━━━\u001b[0m \u001b[32m358.3/358.3 kB\u001b[0m \u001b[31m24.5 MB/s\u001b[0m eta \u001b[36m0:00:00\u001b[0m\n",
            "\u001b[2K     \u001b[90m━━━━━━━━━━━━━━━━━━━━━━━━━━━━━━━━━━━━━━━━\u001b[0m \u001b[32m1.1/1.1 MB\u001b[0m \u001b[31m51.2 MB/s\u001b[0m eta \u001b[36m0:00:00\u001b[0m\n",
            "\u001b[?25h  Preparing metadata (setup.py) ... \u001b[?25l\u001b[?25hdone\n",
            "  Preparing metadata (setup.py) ... \u001b[?25l\u001b[?25hdone\n",
            "  Building wheel for umap-learn (setup.py) ... \u001b[?25l\u001b[?25hdone\n",
            "  Building wheel for visdom (setup.py) ... \u001b[?25l\u001b[?25hdone\n",
            "  Building wheel for webrtcvad (setup.py) ... \u001b[?25l\u001b[?25hdone\n",
            "  Building wheel for pynndescent (setup.py) ... \u001b[?25l\u001b[?25hdone\n",
            "  Building wheel for torchfile (setup.py) ... \u001b[?25l\u001b[?25hdone\n",
            "\u001b[31mERROR: pip's dependency resolver does not currently take into account all the packages that are installed. This behaviour is the source of the following dependency conflicts.\n",
            "tensorflow 2.12.0 requires numpy<1.24,>=1.22, but you have numpy 1.20.3 which is incompatible.\n",
            "jaxlib 0.4.7+cuda11.cudnn86 requires numpy>=1.21, but you have numpy 1.20.3 which is incompatible.\n",
            "jax 0.4.7 requires numpy>=1.21, but you have numpy 1.20.3 which is incompatible.\n",
            "cmdstanpy 1.1.0 requires numpy>=1.21, but you have numpy 1.20.3 which is incompatible.\n",
            "arviz 0.15.1 requires scipy>=1.8.0, but you have scipy 1.7.3 which is incompatible.\u001b[0m\u001b[31m\n",
            "\u001b[0m"
          ]
        }
      ]
    },
    {
      "cell_type": "code",
      "source": [
        "!apt-get install -qq libportaudio2"
      ],
      "metadata": {
        "colab": {
          "base_uri": "https://localhost:8080/"
        },
        "id": "_XuD5-xTQgsZ",
        "outputId": "56f1b329-e6a9-4667-9af7-5fc37896320a"
      },
      "execution_count": 4,
      "outputs": [
        {
          "output_type": "stream",
          "name": "stdout",
          "text": [
            "Selecting previously unselected package libportaudio2:amd64.\n",
            "(Reading database ... 122349 files and directories currently installed.)\n",
            "Preparing to unpack .../libportaudio2_19.6.0-1build1_amd64.deb ...\n",
            "Unpacking libportaudio2:amd64 (19.6.0-1build1) ...\n",
            "Setting up libportaudio2:amd64 (19.6.0-1build1) ...\n",
            "Processing triggers for libc-bin (2.31-0ubuntu9.9) ...\n"
          ]
        }
      ]
    },
    {
      "cell_type": "code",
      "source": [
        "from IPython.display import Audio\n",
        "from IPython.utils import io\n",
        "from synthesizer.inference import Synthesizer\n",
        "from encoder import inference as encoder\n",
        "from vocoder import inference as vocoder\n",
        "from pathlib import Path\n",
        "import numpy as np\n",
        "import librosa\n",
        "import soundfile as sf"
      ],
      "metadata": {
        "id": "dEBTUPn1QidA"
      },
      "execution_count": 22,
      "outputs": []
    },
    {
      "cell_type": "code",
      "source": [
        "encoder_weights = Path(\"/content/encoder.pt\")\n",
        "vocoder_weights = Path(\"/content/vocoder.pt\")\n",
        "syn_dir = Path(\"/content/synthesizer.pt\")\n",
        "encoder.load_model(encoder_weights)\n",
        "synthesizer = Synthesizer(syn_dir)\n",
        "vocoder.load_model(vocoder_weights)"
      ],
      "metadata": {
        "colab": {
          "base_uri": "https://localhost:8080/"
        },
        "id": "RtDZydP1ToUe",
        "outputId": "4978b22c-f4bd-4a9d-a322-6d2ef65334d5"
      },
      "execution_count": 6,
      "outputs": [
        {
          "output_type": "stream",
          "name": "stdout",
          "text": [
            "Loaded encoder \"encoder.pt\" trained to step 1564501\n",
            "Synthesizer using device: cpu\n",
            "Building Wave-RNN\n",
            "Trainable Parameters: 4.481M\n",
            "Loading model weights at /content/vocoder.pt\n"
          ]
        }
      ]
    },
    {
      "cell_type": "code",
      "source": [
        "charcternames = {47.0: '/content/1455-134435-0000.flac',\n",
        "                 65.0: '/content/1081-125237-0000.flac',\n",
        "                 69.0 : '/content/481-123719-0000.flac',\n",
        "                 70.0: '/content/4088-158077-0000.flac',\n",
        "                 200.0: '/content/26-495-0000.flac'} "
      ],
      "metadata": {
        "id": "cw35IEAtTtWi"
      },
      "execution_count": 45,
      "outputs": []
    },
    {
      "cell_type": "code",
      "source": [
        "def speech_generate(name, text, panelz, i):\n",
        "  in_fpath = Path(charcternames[name])\n",
        "  reprocessed_wav = encoder.preprocess_wav(in_fpath)\n",
        "  original_wav, sampling_rate = librosa.load(in_fpath)\n",
        "  preprocessed_wav = encoder.preprocess_wav(original_wav, sampling_rate)\n",
        "  embed = encoder.embed_utterance(preprocessed_wav)\n",
        "  with io.capture_output() as captured:\n",
        "    specs = synthesizer.synthesize_spectrograms([text], [embed])\n",
        "  generated_wav = vocoder.infer_waveform(specs[0])\n",
        "  generated_wav = np.pad(generated_wav, (0, synthesizer.sample_rate), mode=\"constant\")\n",
        "  audio_path = 'my_audio_file_{0}_{1}.wav'.format(panelz,i)\n",
        "  sf.write(audio_path, generated_wav, synthesizer.sample_rate)\n",
        "  return audio_path"
      ],
      "metadata": {
        "id": "JCK9pRm8T3dx"
      },
      "execution_count": 46,
      "outputs": []
    },
    {
      "cell_type": "code",
      "source": [
        "df.iloc[4][8]"
      ],
      "metadata": {
        "colab": {
          "base_uri": "https://localhost:8080/",
          "height": 35
        },
        "id": "_tqnzpKijRx5",
        "outputId": "d014cc6c-ba59-4810-a3b3-16368033f4d5"
      },
      "execution_count": 73,
      "outputs": [
        {
          "output_type": "execute_result",
          "data": {
            "text/plain": [
              "'flting onthe defenbeless vinging nothing but miseky: paini deauhhi'"
            ],
            "application/vnd.google.colaboratory.intrinsic+json": {
              "type": "string"
            }
          },
          "metadata": {},
          "execution_count": 73
        }
      ]
    },
    {
      "cell_type": "code",
      "source": [
        "y = []\n",
        "x = []\n",
        "panelz = 1\n",
        "for i in range(len(df)):\n",
        "  if panelz == df.iloc[i][1]:\n",
        "    x.append(speech_generate(df.iloc[i][2], df.iloc[i][8], panelz, i))\n",
        "  else:\n",
        "    y.append(x)\n",
        "    x = []\n",
        "    panelz+=1\n",
        "    x.append(speech_generate(df.iloc[i][2], df.iloc[i][8], panelz, i))\n",
        "y.append(x)\n",
        "\n",
        "print(y)\n",
        "\n"
      ],
      "metadata": {
        "colab": {
          "base_uri": "https://localhost:8080/"
        },
        "id": "h1LLDT4EVeyH",
        "outputId": "8dfb1954-fa47-4fbe-9303-da43161257f8"
      },
      "execution_count": 74,
      "outputs": [
        {
          "output_type": "stream",
          "name": "stdout",
          "text": [
            "{| ████████████████ 104500/105600 | Batch Size: 11 | Gen Rate: 1.6kHz | }[['my_audio_file_1_0.wav'], ['my_audio_file_2_1.wav'], ['my_audio_file_3_2.wav', 'my_audio_file_3_3.wav'], ['my_audio_file_4_4.wav'], ['my_audio_file_5_5.wav', 'my_audio_file_5_6.wav']]\n"
          ]
        }
      ]
    },
    {
      "cell_type": "code",
      "source": [
        "y"
      ],
      "metadata": {
        "colab": {
          "base_uri": "https://localhost:8080/"
        },
        "id": "Hb4ObMVYVg1-",
        "outputId": "8be2cda3-9272-443e-8f84-d1038123a1c5"
      },
      "execution_count": 75,
      "outputs": [
        {
          "output_type": "execute_result",
          "data": {
            "text/plain": [
              "[['my_audio_file_1_0.wav'],\n",
              " ['my_audio_file_2_1.wav'],\n",
              " ['my_audio_file_3_2.wav', 'my_audio_file_3_3.wav'],\n",
              " ['my_audio_file_4_4.wav'],\n",
              " ['my_audio_file_5_5.wav', 'my_audio_file_5_6.wav']]"
            ]
          },
          "metadata": {},
          "execution_count": 75
        }
      ]
    },
    {
      "cell_type": "code",
      "source": [
        "# df.iloc[0][8]"
      ],
      "metadata": {
        "colab": {
          "base_uri": "https://localhost:8080/",
          "height": 35
        },
        "id": "7-C5QtN-VyFr",
        "outputId": "5c26219d-a1d7-4f44-c832-65c431de9e96"
      },
      "execution_count": 24,
      "outputs": [
        {
          "output_type": "execute_result",
          "data": {
            "text/plain": [
              "'yolpe dt spicable : yoj and ail your kindi'"
            ],
            "application/vnd.google.colaboratory.intrinsic+json": {
              "type": "string"
            }
          },
          "metadata": {},
          "execution_count": 24
        }
      ]
    },
    {
      "cell_type": "code",
      "source": [
        "# charcternames['nan']"
      ],
      "metadata": {
        "colab": {
          "base_uri": "https://localhost:8080/",
          "height": 35
        },
        "id": "E09tZyVdV9CS",
        "outputId": "a56fb2e0-6736-4771-b217-6272ce70cd26"
      },
      "execution_count": 29,
      "outputs": [
        {
          "output_type": "execute_result",
          "data": {
            "text/plain": [
              "'/content/26-495-0000.flac'"
            ],
            "application/vnd.google.colaboratory.intrinsic+json": {
              "type": "string"
            }
          },
          "metadata": {},
          "execution_count": 29
        }
      ]
    },
    {
      "cell_type": "markdown",
      "source": [
        "Moviepy"
      ],
      "metadata": {
        "id": "fZl1G0DZe-AP"
      }
    },
    {
      "cell_type": "code",
      "source": [
        "pip install pydub"
      ],
      "metadata": {
        "colab": {
          "base_uri": "https://localhost:8080/"
        },
        "id": "V_4baC_iWGsa",
        "outputId": "9defa758-3ff3-41c1-ecaf-3629a61e6d14"
      },
      "execution_count": 55,
      "outputs": [
        {
          "output_type": "stream",
          "name": "stdout",
          "text": [
            "Looking in indexes: https://pypi.org/simple, https://us-python.pkg.dev/colab-wheels/public/simple/\n",
            "Collecting pydub\n",
            "  Downloading pydub-0.25.1-py2.py3-none-any.whl (32 kB)\n",
            "Installing collected packages: pydub\n",
            "Successfully installed pydub-0.25.1\n"
          ]
        }
      ]
    },
    {
      "cell_type": "code",
      "source": [
        "from pydub import AudioSegment\n",
        "\n",
        "# Load the audio file\n",
        "panell = 1\n",
        "duration_seconds = []\n",
        "audioclips = []\n",
        "for i in y:\n",
        "  print(\"This\",i)\n",
        "  audioo = None\n",
        "  audioo = AudioSegment.from_file(i[0])\n",
        "  for j in range(1,len(i)):\n",
        "    print(\"hii\", i[j])\n",
        "    audioo += AudioSegment.from_file(i[j])\n",
        "  tt = \"combined_audio{0}.wav\".format(panell)\n",
        "  audioo.export(\"combined_audio{0}.wav\".format(panell), format=\"wav\")\n",
        "  duration_seconds.append(len(audioo) / 1000.0)\n",
        "  audioclips.append(tt)\n",
        "  panell+=1\n",
        "  "
      ],
      "metadata": {
        "colab": {
          "base_uri": "https://localhost:8080/"
        },
        "id": "8PlGgjC6g_ii",
        "outputId": "1874bcb6-9e38-4bbd-c65c-5f7e7e68ae45"
      },
      "execution_count": 76,
      "outputs": [
        {
          "output_type": "stream",
          "name": "stdout",
          "text": [
            "This ['my_audio_file_1_0.wav']\n",
            "This ['my_audio_file_2_1.wav']\n",
            "This ['my_audio_file_3_2.wav', 'my_audio_file_3_3.wav']\n",
            "hii my_audio_file_3_3.wav\n",
            "This ['my_audio_file_4_4.wav']\n",
            "This ['my_audio_file_5_5.wav', 'my_audio_file_5_6.wav']\n",
            "hii my_audio_file_5_6.wav\n"
          ]
        }
      ]
    },
    {
      "cell_type": "code",
      "source": [
        "img = ['/content/Venomnibus-v01-0006_jpg.rf.85d0de455b918337d0b360014e39b800 (1).jpg',\n",
        "       '/content/Venomnibus-v01-0006_jpg.rf.85d0de455b918337d0b360014e39b8002.jpg',\n",
        "       '/content/Venomnibus-v01-0006_jpg.rf.85d0de455b918337d0b360014e39b8003.jpg',\n",
        "       '/content/Venomnibus-v01-0006_jpg.rf.85d0de455b918337d0b360014e39b8004.jpg',\n",
        "       '/content/Venomnibus-v01-0006_jpg.rf.85d0de455b918337d0b360014e39b8005.jpg']"
      ],
      "metadata": {
        "id": "6UjYAlyHfkTP"
      },
      "execution_count": 77,
      "outputs": []
    },
    {
      "cell_type": "code",
      "source": [
        "import cv2\n",
        "imgx=[]\n",
        "for i in img:\n",
        "  img1 = cv2.imread(i)\n",
        "  resize_image = cv2.resize(img1,(640,640))\n",
        "  im_rgb = cv2.cvtColor(resize_image, cv2.COLOR_BGR2RGB)\n",
        "  imgx.append(im_rgb)\n"
      ],
      "metadata": {
        "id": "q8UmtJDMqyg2"
      },
      "execution_count": 97,
      "outputs": []
    },
    {
      "cell_type": "code",
      "source": [
        "imgx"
      ],
      "metadata": {
        "colab": {
          "base_uri": "https://localhost:8080/"
        },
        "id": "V3KgQulLsi8q",
        "outputId": "b95b6f69-8ec1-403e-b48c-db897e9b10d6"
      },
      "execution_count": 98,
      "outputs": [
        {
          "output_type": "execute_result",
          "data": {
            "text/plain": [
              "[array([[[153, 147,  89],\n",
              "         [ 77,  71,  13],\n",
              "         [146, 140,  82],\n",
              "         ...,\n",
              "         [254, 254, 254],\n",
              "         [254, 254, 254],\n",
              "         [253, 253, 253]],\n",
              " \n",
              "        [[153, 147,  89],\n",
              "         [ 77,  71,  13],\n",
              "         [146, 140,  82],\n",
              "         ...,\n",
              "         [254, 254, 254],\n",
              "         [254, 254, 254],\n",
              "         [253, 253, 253]],\n",
              " \n",
              "        [[176, 171, 112],\n",
              "         [104,  98,  39],\n",
              "         [134, 129,  70],\n",
              "         ...,\n",
              "         [254, 254, 254],\n",
              "         [254, 254, 254],\n",
              "         [253, 253, 253]],\n",
              " \n",
              "        ...,\n",
              " \n",
              "        [[  0,   0,   0],\n",
              "         [  0,   0,   0],\n",
              "         [  0,   0,   0],\n",
              "         ...,\n",
              "         [196, 194, 152],\n",
              "         [250, 249, 212],\n",
              "         [251, 249, 210]],\n",
              " \n",
              "        [[  0,   0,   0],\n",
              "         [  0,   0,   0],\n",
              "         [  0,   0,   0],\n",
              "         ...,\n",
              "         [222, 220, 179],\n",
              "         [255, 255, 217],\n",
              "         [255, 254, 213]],\n",
              " \n",
              "        [[  0,   0,   0],\n",
              "         [  0,   0,   0],\n",
              "         [  0,   0,   0],\n",
              "         ...,\n",
              "         [222, 220, 179],\n",
              "         [255, 255, 217],\n",
              "         [255, 254, 213]]], dtype=uint8),\n",
              " array([[[100, 118, 106],\n",
              "         [100, 118, 106],\n",
              "         [ 88, 106,  96],\n",
              "         ...,\n",
              "         [255, 255, 255],\n",
              "         [255, 255, 255],\n",
              "         [255, 255, 255]],\n",
              " \n",
              "        [[100, 118, 106],\n",
              "         [100, 118, 106],\n",
              "         [ 88, 107,  96],\n",
              "         ...,\n",
              "         [255, 255, 255],\n",
              "         [255, 255, 255],\n",
              "         [255, 255, 255]],\n",
              " \n",
              "        [[120, 138, 122],\n",
              "         [120, 138, 122],\n",
              "         [111, 129, 114],\n",
              "         ...,\n",
              "         [255, 255, 255],\n",
              "         [255, 255, 255],\n",
              "         [255, 255, 255]],\n",
              " \n",
              "        ...,\n",
              " \n",
              "        [[252, 254, 255],\n",
              "         [252, 254, 255],\n",
              "         [252, 254, 254],\n",
              "         ...,\n",
              "         [  0,   2,   8],\n",
              "         [  0,   2,   9],\n",
              "         [  0,   2,   9]],\n",
              " \n",
              "        [[254, 255, 255],\n",
              "         [254, 255, 255],\n",
              "         [253, 254, 254],\n",
              "         ...,\n",
              "         [  0,   2,   8],\n",
              "         [  0,   2,   9],\n",
              "         [  0,   2,   9]],\n",
              " \n",
              "        [[254, 255, 255],\n",
              "         [254, 255, 255],\n",
              "         [253, 254, 254],\n",
              "         ...,\n",
              "         [  0,   2,   8],\n",
              "         [  0,   2,   9],\n",
              "         [  0,   2,   9]]], dtype=uint8),\n",
              " array([[[193, 181, 155],\n",
              "         [193, 181, 155],\n",
              "         [189, 178, 152],\n",
              "         ...,\n",
              "         [  2,  14,  23],\n",
              "         [  0,  11,  21],\n",
              "         [  0,  11,  21]],\n",
              " \n",
              "        [[193, 181, 155],\n",
              "         [193, 181, 155],\n",
              "         [189, 177, 152],\n",
              "         ...,\n",
              "         [  2,  14,  23],\n",
              "         [  0,  11,  21],\n",
              "         [  0,  11,  21]],\n",
              " \n",
              "        [[179, 167, 141],\n",
              "         [179, 167, 141],\n",
              "         [179, 168, 142],\n",
              "         ...,\n",
              "         [ 26,  39,  42],\n",
              "         [ 22,  34,  38],\n",
              "         [ 22,  34,  38]],\n",
              " \n",
              "        ...,\n",
              " \n",
              "        [[ 63,  88,  95],\n",
              "         [ 63,  88,  95],\n",
              "         [ 63,  90,  96],\n",
              "         ...,\n",
              "         [112, 112, 111],\n",
              "         [112, 112, 110],\n",
              "         [112, 112, 110]],\n",
              " \n",
              "        [[ 35,  60,  67],\n",
              "         [ 35,  60,  67],\n",
              "         [ 42,  68,  74],\n",
              "         ...,\n",
              "         [113, 113, 111],\n",
              "         [113, 113, 111],\n",
              "         [113, 113, 111]],\n",
              " \n",
              "        [[ 35,  60,  67],\n",
              "         [ 35,  60,  67],\n",
              "         [ 42,  68,  74],\n",
              "         ...,\n",
              "         [113, 113, 111],\n",
              "         [113, 113, 111],\n",
              "         [113, 113, 111]]], dtype=uint8),\n",
              " array([[[160, 155, 125],\n",
              "         [157, 152, 122],\n",
              "         [151, 146, 116],\n",
              "         ...,\n",
              "         [  1,  10,   5],\n",
              "         [  4,  13,   8],\n",
              "         [  5,  14,   9]],\n",
              " \n",
              "        [[116, 111,  79],\n",
              "         [109, 104,  73],\n",
              "         [ 95,  90,  58],\n",
              "         ...,\n",
              "         [  2,   5,   2],\n",
              "         [  5,   9,   5],\n",
              "         [  7,  11,   6]],\n",
              " \n",
              "        [[ 87,  83,  49],\n",
              "         [ 92,  88,  53],\n",
              "         [103,  99,  64],\n",
              "         ...,\n",
              "         [ 10,   6,   5],\n",
              "         [ 16,  13,  11],\n",
              "         [ 19,  16,  13]],\n",
              " \n",
              "        ...,\n",
              " \n",
              "        [[  1,   1,   1],\n",
              "         [  1,   1,   1],\n",
              "         [  1,   0,   0],\n",
              "         ...,\n",
              "         [  2,   1,   6],\n",
              "         [  1,   0,   5],\n",
              "         [  1,   0,   5]],\n",
              " \n",
              "        [[  1,   1,   1],\n",
              "         [  1,   1,   1],\n",
              "         [  1,   0,   0],\n",
              "         ...,\n",
              "         [  2,   1,   7],\n",
              "         [  0,   0,   6],\n",
              "         [  0,   0,   5]],\n",
              " \n",
              "        [[  1,   1,   1],\n",
              "         [  1,   1,   1],\n",
              "         [  1,   0,   0],\n",
              "         ...,\n",
              "         [  1,   1,   8],\n",
              "         [  0,   0,   6],\n",
              "         [  0,   0,   5]]], dtype=uint8),\n",
              " array([[[ 66,  89, 103],\n",
              "         [ 69,  92, 106],\n",
              "         [ 74,  97, 111],\n",
              "         ...,\n",
              "         [  6,   0,   2],\n",
              "         [  9,   0,   1],\n",
              "         [ 10,   0,   1]],\n",
              " \n",
              "        [[ 67,  91, 105],\n",
              "         [ 68,  91, 106],\n",
              "         [ 69,  92, 106],\n",
              "         ...,\n",
              "         [  6,   0,   2],\n",
              "         [  9,   0,   1],\n",
              "         [ 10,   0,   1]],\n",
              " \n",
              "        [[ 72,  97, 112],\n",
              "         [ 66,  90, 105],\n",
              "         [ 55,  78,  92],\n",
              "         ...,\n",
              "         [  7,   1,   2],\n",
              "         [  9,   1,   3],\n",
              "         [ 10,   1,   2]],\n",
              " \n",
              "        ...,\n",
              " \n",
              "        [[  4,   4,   3],\n",
              "         [  3,   2,   2],\n",
              "         [  1,   1,   0],\n",
              "         ...,\n",
              "         [254, 254, 254],\n",
              "         [254, 254, 254],\n",
              "         [254, 254, 254]],\n",
              " \n",
              "        [[  2,   2,   1],\n",
              "         [  2,   1,   1],\n",
              "         [  1,   1,   0],\n",
              "         ...,\n",
              "         [255, 255, 255],\n",
              "         [255, 255, 255],\n",
              "         [255, 255, 255]],\n",
              " \n",
              "        [[  2,   1,   0],\n",
              "         [  1,   1,   0],\n",
              "         [  1,   1,   0],\n",
              "         ...,\n",
              "         [255, 255, 255],\n",
              "         [255, 255, 255],\n",
              "         [255, 255, 255]]], dtype=uint8)]"
            ]
          },
          "metadata": {},
          "execution_count": 98
        }
      ]
    },
    {
      "cell_type": "code",
      "source": [
        "print(audioclips)"
      ],
      "metadata": {
        "colab": {
          "base_uri": "https://localhost:8080/"
        },
        "id": "S_MPJLHuiWsv",
        "outputId": "da37a0bd-b6e6-4ba6-ad07-06f5b4c2e468"
      },
      "execution_count": 99,
      "outputs": [
        {
          "output_type": "stream",
          "name": "stdout",
          "text": [
            "['combined_audio1.wav', 'combined_audio2.wav', 'combined_audio3.wav', 'combined_audio4.wav', 'combined_audio5.wav']\n"
          ]
        }
      ]
    },
    {
      "cell_type": "code",
      "source": [
        "import moviepy.editor as mymovie\n",
        "from moviepy.editor import ImageClip, AudioFileClip, CompositeVideoClip, VideoFileClip,concatenate_videoclips\n",
        "zz = []\n",
        "for i in range(len(audioclips)):\n",
        "  image = ImageClip(imgx[i])\n",
        "# Load the audio file\n",
        "  # audio = AudioFileClip(audioclips[i])\n",
        "  audio = mymovie.AudioFileClip(audioclips[i])\n",
        "  print(audio)\n",
        "# Create a video clip by combining the image and audio clips\n",
        "  video = CompositeVideoClip([image.set_duration(duration_seconds[i])])\n",
        "  videe = video.set_audio(audio)\n",
        "# Export the video to a file\n",
        "  file_video_path = \"outputfilee{0}.mp4\".format(i)\n",
        "  videe.write_videofile(file_video_path, fps = 24)\n",
        "  zz.append(file_video_path)\n",
        " "
      ],
      "metadata": {
        "colab": {
          "base_uri": "https://localhost:8080/"
        },
        "id": "AgA0BxThfkP9",
        "outputId": "d89c254f-ffdb-4c6d-8efc-31814ad61827"
      },
      "execution_count": 100,
      "outputs": [
        {
          "output_type": "stream",
          "name": "stdout",
          "text": [
            "<moviepy.audio.io.AudioFileClip.AudioFileClip object at 0x7f7b5c94a9d0>\n",
            "Moviepy - Building video outputfilee0.mp4.\n",
            "MoviePy - Writing audio in outputfilee0TEMP_MPY_wvf_snd.mp3\n"
          ]
        },
        {
          "output_type": "stream",
          "name": "stderr",
          "text": [
            "                                                       "
          ]
        },
        {
          "output_type": "stream",
          "name": "stdout",
          "text": [
            "MoviePy - Done.\n",
            "Moviepy - Writing video outputfilee0.mp4\n",
            "\n"
          ]
        },
        {
          "output_type": "stream",
          "name": "stderr",
          "text": []
        },
        {
          "output_type": "stream",
          "name": "stdout",
          "text": [
            "Moviepy - Done !\n",
            "Moviepy - video ready outputfilee0.mp4\n",
            "<moviepy.audio.io.AudioFileClip.AudioFileClip object at 0x7f7b5d2a54f0>\n",
            "Moviepy - Building video outputfilee1.mp4.\n",
            "MoviePy - Writing audio in outputfilee1TEMP_MPY_wvf_snd.mp3\n"
          ]
        },
        {
          "output_type": "stream",
          "name": "stderr",
          "text": []
        },
        {
          "output_type": "stream",
          "name": "stdout",
          "text": [
            "MoviePy - Done.\n",
            "Moviepy - Writing video outputfilee1.mp4\n",
            "\n"
          ]
        },
        {
          "output_type": "stream",
          "name": "stderr",
          "text": []
        },
        {
          "output_type": "stream",
          "name": "stdout",
          "text": [
            "Moviepy - Done !\n",
            "Moviepy - video ready outputfilee1.mp4\n",
            "<moviepy.audio.io.AudioFileClip.AudioFileClip object at 0x7f7b5ca35d30>\n",
            "Moviepy - Building video outputfilee2.mp4.\n",
            "MoviePy - Writing audio in outputfilee2TEMP_MPY_wvf_snd.mp3\n"
          ]
        },
        {
          "output_type": "stream",
          "name": "stderr",
          "text": []
        },
        {
          "output_type": "stream",
          "name": "stdout",
          "text": [
            "MoviePy - Done.\n",
            "Moviepy - Writing video outputfilee2.mp4\n",
            "\n"
          ]
        },
        {
          "output_type": "stream",
          "name": "stderr",
          "text": []
        },
        {
          "output_type": "stream",
          "name": "stdout",
          "text": [
            "Moviepy - Done !\n",
            "Moviepy - video ready outputfilee2.mp4\n",
            "<moviepy.audio.io.AudioFileClip.AudioFileClip object at 0x7f7b5c9f7190>\n",
            "Moviepy - Building video outputfilee3.mp4.\n",
            "MoviePy - Writing audio in outputfilee3TEMP_MPY_wvf_snd.mp3\n"
          ]
        },
        {
          "output_type": "stream",
          "name": "stderr",
          "text": []
        },
        {
          "output_type": "stream",
          "name": "stdout",
          "text": [
            "MoviePy - Done.\n",
            "Moviepy - Writing video outputfilee3.mp4\n",
            "\n"
          ]
        },
        {
          "output_type": "stream",
          "name": "stderr",
          "text": []
        },
        {
          "output_type": "stream",
          "name": "stdout",
          "text": [
            "Moviepy - Done !\n",
            "Moviepy - video ready outputfilee3.mp4\n",
            "<moviepy.audio.io.AudioFileClip.AudioFileClip object at 0x7f7b5c9f7f40>\n",
            "Moviepy - Building video outputfilee4.mp4.\n",
            "MoviePy - Writing audio in outputfilee4TEMP_MPY_wvf_snd.mp3\n"
          ]
        },
        {
          "output_type": "stream",
          "name": "stderr",
          "text": []
        },
        {
          "output_type": "stream",
          "name": "stdout",
          "text": [
            "MoviePy - Done.\n",
            "Moviepy - Writing video outputfilee4.mp4\n",
            "\n"
          ]
        },
        {
          "output_type": "stream",
          "name": "stderr",
          "text": []
        },
        {
          "output_type": "stream",
          "name": "stdout",
          "text": [
            "Moviepy - Done !\n",
            "Moviepy - video ready outputfilee4.mp4\n"
          ]
        }
      ]
    },
    {
      "cell_type": "code",
      "source": [
        "zz"
      ],
      "metadata": {
        "colab": {
          "base_uri": "https://localhost:8080/"
        },
        "id": "3Fmr2Q8ffkNk",
        "outputId": "1a315dd3-394f-4944-ff3f-f9165b0bed2c"
      },
      "execution_count": 101,
      "outputs": [
        {
          "output_type": "execute_result",
          "data": {
            "text/plain": [
              "['outputfilee0.mp4',\n",
              " 'outputfilee1.mp4',\n",
              " 'outputfilee2.mp4',\n",
              " 'outputfilee3.mp4',\n",
              " 'outputfilee4.mp4']"
            ]
          },
          "metadata": {},
          "execution_count": 101
        }
      ]
    },
    {
      "cell_type": "code",
      "source": [
        "clips = []\n",
        "for i in range(len(zz)):\n",
        "  print(i)\n",
        "  clip = VideoFileClip(zz[i])\n",
        "  clips.append(clip)\n",
        "print(clips)\n",
        "final_clip = concatenate_videoclips(clips)"
      ],
      "metadata": {
        "colab": {
          "base_uri": "https://localhost:8080/"
        },
        "id": "y1zb8-AKfkLE",
        "outputId": "b5620ecb-2346-48a8-a546-9b8c5703cae2"
      },
      "execution_count": 102,
      "outputs": [
        {
          "output_type": "stream",
          "name": "stdout",
          "text": [
            "0\n",
            "1\n",
            "2\n",
            "3\n",
            "4\n",
            "[<moviepy.video.io.VideoFileClip.VideoFileClip object at 0x7f7b5c911760>, <moviepy.video.io.VideoFileClip.VideoFileClip object at 0x7f7b5c94a8e0>, <moviepy.video.io.VideoFileClip.VideoFileClip object at 0x7f7b5c94aac0>, <moviepy.video.io.VideoFileClip.VideoFileClip object at 0x7f7b5c94aee0>, <moviepy.video.io.VideoFileClip.VideoFileClip object at 0x7f7b5ca35490>]\n"
          ]
        }
      ]
    },
    {
      "cell_type": "code",
      "source": [
        "# final_clip.write_videofile(\"output12.mp4\")\n",
        "final_clip.write_videofile(\"outputpl.mp4\",fps=24, codec='libx264', audio_codec='aac', remove_temp=True)"
      ],
      "metadata": {
        "colab": {
          "base_uri": "https://localhost:8080/"
        },
        "id": "nHFuUsDMfkIV",
        "outputId": "5dd93cae-2cd8-4264-b9fe-bdcdd5b9d13c"
      },
      "execution_count": 103,
      "outputs": [
        {
          "output_type": "stream",
          "name": "stdout",
          "text": [
            "Moviepy - Building video outputpl.mp4.\n",
            "MoviePy - Writing audio in outputplTEMP_MPY_wvf_snd.mp4\n"
          ]
        },
        {
          "output_type": "stream",
          "name": "stderr",
          "text": []
        },
        {
          "output_type": "stream",
          "name": "stdout",
          "text": [
            "MoviePy - Done.\n",
            "Moviepy - Writing video outputpl.mp4\n",
            "\n"
          ]
        },
        {
          "output_type": "stream",
          "name": "stderr",
          "text": []
        },
        {
          "output_type": "stream",
          "name": "stdout",
          "text": [
            "Moviepy - Done !\n",
            "Moviepy - video ready outputpl.mp4\n"
          ]
        }
      ]
    },
    {
      "cell_type": "code",
      "source": [],
      "metadata": {
        "id": "_aHJA0lulKqN"
      },
      "execution_count": null,
      "outputs": []
    }
  ]
}